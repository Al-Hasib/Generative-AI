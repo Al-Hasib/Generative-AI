{
 "cells": [
  {
   "cell_type": "markdown",
   "metadata": {},
   "source": [
    "## Output parser \n",
    "\n",
    "Output parser is responsible for taking the output of a model and transforming it to a more suitable format for downstream tasks. Useful when you are using LLMs to generate structured data, or to normalize output from chat models and LLMs.LangChain has lots of different types of output parsers such as JSON, XML, CSV, OutputFixing, RetryWithError, Pydantic, YAML, PandasDataFrame, Enum, Datatime, Structured."
   ]
  },
  {
   "cell_type": "markdown",
   "metadata": {},
   "source": [
    "### Output parsing with Prompt Template\n",
    "\n",
    "Try to make output parsing without langchain output_parser function.. Give some prompts to the make the structure of the code."
   ]
  },
  {
   "cell_type": "code",
   "execution_count": 3,
   "metadata": {},
   "outputs": [
    {
     "data": {
      "text/plain": [
       "AIMessage(content=\"## Dhaka: The Vibrant Heart of Bangladesh\\n\\nDhaka, the capital of Bangladesh, is a city pulsing with life, history, and a unique blend of tradition and modernity. Situated on the banks of the Buriganga River, it's a melting pot of cultures, a hub of commerce, and a testament to the resilience of its people. \\n\\n**Here's a glimpse into what makes Dhaka special:**\\n\\n**History & Heritage:**\\n* **Ancient Origins:** Founded in the 7th century, Dhaka boasts a rich history influenced by Mughal, British, and Bengali cultures. \\n* **Architectural Marvels:** Explore the Lalbagh Fort (17th century), the Star Mosque with its intricate mosaic work, and the pink-hued Ahsan Manzil, once the palace of the Nawabs of Dhaka.\\n* **Cultural Heritage:** Immerse yourself in the vibrant arts scene with traditional music, dance forms like Kathak, and literature celebrated at the Ekushey Book Fair.\\n\\n**Modern Metropolis:**\\n* **Bustling City Life:** Dhaka is a bustling metropolis with chaotic traffic, vibrant markets, and a palpable energy. \\n* **Commercial Hub:** As Bangladesh's economic engine, Dhaka is home to thriving industries, bustling business districts, and entrepreneurial spirit.\\n* **Modern Developments:** Witness the city's rapid modernization with skyscrapers, shopping malls, and infrastructure projects changing the urban landscape.\\n\\n**Experiences Unique to Dhaka:**\\n* **Rickshaw Rides:** Navigate the city's labyrinthine streets in the iconic cycle rickshaws, a quintessential Dhaka experience.\\n* **Street Food Delights:** Indulge in mouthwatering street food like fuchka (tangy water bombs), jhal muri (spicy puffed rice), and biryani, bursting with flavors.\\n* **Riverine Beauty:** Take a boat trip on the Buriganga River, witnessing the bustling riverine life, cargo boats, and the city's skyline.\\n\\n**Challenges & Contrasts:**\\n* **Population Density:** As one of the world's most densely populated cities, Dhaka grapples with challenges like poverty, traffic congestion, and pollution.\\n* **Resilience & Spirit:** Despite the challenges, the people of Dhaka are known for their warmth, resilience, and unwavering spirit.\\n\\n**Visiting Dhaka:**\\n\\n* **Best time to visit:** October to March offers pleasant weather.\\n* **Getting around:** Rickshaws, CNG auto-rickshaws, buses, and ride-sharing services are available.\\n* **Safety:** While generally safe, it's essential to exercise caution, especially in crowded areas.\\n\\n**Dhaka is a city of contrasts, a place where ancient history meets modern aspirations. It's a city that will challenge and captivate you, leaving you with a unique and unforgettable experience.** \\n\", additional_kwargs={}, response_metadata={'prompt_feedback': {'block_reason': 0, 'safety_ratings': []}, 'finish_reason': 'STOP', 'safety_ratings': [{'category': 'HARM_CATEGORY_SEXUALLY_EXPLICIT', 'probability': 'NEGLIGIBLE', 'blocked': False}, {'category': 'HARM_CATEGORY_HATE_SPEECH', 'probability': 'NEGLIGIBLE', 'blocked': False}, {'category': 'HARM_CATEGORY_HARASSMENT', 'probability': 'NEGLIGIBLE', 'blocked': False}, {'category': 'HARM_CATEGORY_DANGEROUS_CONTENT', 'probability': 'NEGLIGIBLE', 'blocked': False}]}, id='run-3bf3e214-0976-4db1-ac40-5457604ef474-0', usage_metadata={'input_tokens': 6, 'output_tokens': 581, 'total_tokens': 587})"
      ]
     },
     "execution_count": 3,
     "metadata": {},
     "output_type": "execute_result"
    }
   ],
   "source": [
    "# Chat Prompt Template\n",
    "from langchain_core.prompts import ChatPromptTemplate\n",
    "import os\n",
    "from langchain_core.output_parsers import StrOutputParser\n",
    "from langchain_google_genai import ChatGoogleGenerativeAI\n",
    "from dotenv import load_dotenv\n",
    "\n",
    "# Load environment variables from the .env file\n",
    "load_dotenv()\n",
    "\n",
    "\n",
    "# Access the API key from the environment\n",
    "api_key = os.getenv(\"GOOGLE_GEN_API\")\n",
    "llm = ChatGoogleGenerativeAI(model=\"gemini-1.5-pro\", api_key=api_key)\n",
    "result = llm.invoke(\"Tell me about Dhaka.\")\n",
    "result"
   ]
  },
  {
   "cell_type": "code",
   "execution_count": 4,
   "metadata": {},
   "outputs": [
    {
     "data": {
      "text/plain": [
       "\"## Dhaka: The Vibrant Heart of Bangladesh\\n\\nDhaka, the capital of Bangladesh, is a city pulsing with life, history, and a unique blend of tradition and modernity. Situated on the banks of the Buriganga River, it's a melting pot of cultures, a hub of commerce, and a testament to the resilience of its people. \\n\\n**Here's a glimpse into what makes Dhaka special:**\\n\\n**History & Heritage:**\\n* **Ancient Origins:** Founded in the 7th century, Dhaka boasts a rich history influenced by Mughal, British, and Bengali cultures. \\n* **Architectural Marvels:** Explore the Lalbagh Fort (17th century), the Star Mosque with its intricate mosaic work, and the pink-hued Ahsan Manzil, once the palace of the Nawabs of Dhaka.\\n* **Cultural Heritage:** Immerse yourself in the vibrant arts scene with traditional music, dance forms like Kathak, and literature celebrated at the Ekushey Book Fair.\\n\\n**Modern Metropolis:**\\n* **Bustling City Life:** Dhaka is a bustling metropolis with chaotic traffic, vibrant markets, and a palpable energy. \\n* **Commercial Hub:** As Bangladesh's economic engine, Dhaka is home to thriving industries, bustling business districts, and entrepreneurial spirit.\\n* **Modern Developments:** Witness the city's rapid modernization with skyscrapers, shopping malls, and infrastructure projects changing the urban landscape.\\n\\n**Experiences Unique to Dhaka:**\\n* **Rickshaw Rides:** Navigate the city's labyrinthine streets in the iconic cycle rickshaws, a quintessential Dhaka experience.\\n* **Street Food Delights:** Indulge in mouthwatering street food like fuchka (tangy water bombs), jhal muri (spicy puffed rice), and biryani, bursting with flavors.\\n* **Riverine Beauty:** Take a boat trip on the Buriganga River, witnessing the bustling riverine life, cargo boats, and the city's skyline.\\n\\n**Challenges & Contrasts:**\\n* **Population Density:** As one of the world's most densely populated cities, Dhaka grapples with challenges like poverty, traffic congestion, and pollution.\\n* **Resilience & Spirit:** Despite the challenges, the people of Dhaka are known for their warmth, resilience, and unwavering spirit.\\n\\n**Visiting Dhaka:**\\n\\n* **Best time to visit:** October to March offers pleasant weather.\\n* **Getting around:** Rickshaws, CNG auto-rickshaws, buses, and ride-sharing services are available.\\n* **Safety:** While generally safe, it's essential to exercise caution, especially in crowded areas.\\n\\n**Dhaka is a city of contrasts, a place where ancient history meets modern aspirations. It's a city that will challenge and captivate you, leaving you with a unique and unforgettable experience.** \\n\""
      ]
     },
     "execution_count": 4,
     "metadata": {},
     "output_type": "execute_result"
    }
   ],
   "source": [
    "result.content"
   ]
  },
  {
   "cell_type": "code",
   "execution_count": 5,
   "metadata": {},
   "outputs": [
    {
     "name": "stdout",
     "output_type": "stream",
     "text": [
      "Place,Type,Description,Culture,Facilities,Issues\n",
      "Lalbag Fort,Historical & Architectural,A 17th-century Mughal fort with gardens, mosques, and a museum,Reflects Mughal architecture and Islamic influence,Guided tours, museum, gardens, occasional events,Limited accessibility for people with disabilities, needs better maintenance\n",
      "Ahsan Manzil,Historical & Architectural,Former palace of the Nawabs of Dhaka, now a museum showcasing their lifestyle,Offers insights into the lives of Dhaka's elite during British rule,Museum, guided tours, gardens, needs better preservation efforts,Limited accessibility for people with disabilities, needs better crowd management during peak seasons\n",
      "Dhakeshwari Temple,Religious & Historical,An important Hindu temple dedicated to Goddess Durga, considered the 'heart' of Dhaka,Represents a prominent place of worship for the Hindu community,Facilities for prayer, festivals, and religious gatherings,Lack of parking space, crowded during festivals\n",
      "Armenian Church,Historical & Religious,A 18th-century church built by Armenian traders, a reminder of their historical presence in Dhaka,Showcases Armenian architecture and history,Church services, occasional events, needs restoration and preservation,Limited accessibility, needs better promotion as a tourist destination\n",
      "Sadarghat,Cultural & Transport,The busiest river port in Dhaka and a vibrant hub of activity,Offers a glimpse into the daily lives of people and the bustling riverine culture,Ferry services, markets, street food,Overcrowding, lack of sanitation, safety concerns\n",
      "Star Mosque,Religious & Architectural,A stunning mosque known for its intricate mosaic work,A significant place of worship and an example of Mughal architecture,Facilities for prayer, open to visitors outside prayer times,Limited accessibility for people with disabilities, footwear management can be improved\n",
      "National Parliament House,Architectural & Political,Designed by Louis Kahn, it's a masterpiece of modern architecture and the seat of Bangladesh's Parliament,Represents Bangladesh's journey as an independent nation,Guided tours (limited availability), needs better promotion as a tourist attraction,Limited accessibility for tourists, photography restrictions\n",
      "Balda Garden,Recreational,A serene garden in Old Dhaka, popular for its pond, mosque, and Mughal-era ambiance,Offers a peaceful escape from the city's hustle and bustle,Benches, walkways, food stalls, needs better maintenance and cleanliness,Lack of parking space, limited accessibility for people with disabilities\n",
      "Dhaka University,Educational & Cultural,The oldest and one of the most prestigious universities in Bangladesh,Represents the intellectual and cultural hub of the city,Campus tours, events, access to library (with permission), needs better infrastructure in certain areas,Overcrowding during academic sessions\n",
      "Rickshaw ride,Cultural,A unique way to experience the city's vibrant streets and daily life,Offers a glimpse into the local culture and transportation,Widely available, needs better regulation and safety measures,Traffic congestion, air pollution, safety concerns\n",
      "\n",
      ",,,,,\n",
      ",,Dhaka's culture is a blend of Bengali traditions, Mughal influences, and modern trends, known for its literature, music, food, and festivals.  Dhaka offers a range of facilities including hotels, restaurants, transportation, and shopping malls, but infrastructure and traffic congestion remain challenges.,Dhaka faces issues like traffic congestion, pollution, poverty, and overcrowding, but initiatives are underway to address these challenges.\n",
      "\n"
     ]
    }
   ],
   "source": [
    "prompt_template = ChatPromptTemplate.from_messages([\n",
    "    (\"system\", \"You are a helpful assistant. You will response the output in a CSV format\"),\n",
    "    (\"user\", \"Tell me about {domain} in {city}\")\n",
    "])\n",
    "\n",
    "chain = prompt_template | llm \n",
    "\n",
    "result = chain.invoke({\"domain\": \"tourist places, culture, Facilities & issues\", \"city\": \"Dhaka\"})\n",
    "print(result.content)"
   ]
  },
  {
   "cell_type": "code",
   "execution_count": 6,
   "metadata": {},
   "outputs": [
    {
     "name": "stdout",
     "output_type": "stream",
     "text": [
      "```json\n",
      "{\n",
      "  \"tourist_places\": [\n",
      "    {\n",
      "      \"name\": \"Ahsan Manzil\",\n",
      "      \"description\": \"A historic palace, once home to the Nawab of Dhaka, showcasing Mughal architecture and rich history.\",\n",
      "      \"type\": \"Historical\",\n",
      "      \"recommended_duration\": \"2-3 hours\"\n",
      "    },\n",
      "    {\n",
      "      \"name\": \"Lalbagh Fort\",\n",
      "      \"description\": \"An incomplete 17th-century Mughal fort with beautiful gardens, showcasing impressive architecture and offering scenic views.\",\n",
      "      \"type\": \"Historical\",\n",
      "      \"recommended_duration\": \"2-3 hours\"\n",
      "    },\n",
      "    {\n",
      "      \"name\": \"Dhakeshwari Temple\",\n",
      "      \"description\": \"An important Hindu temple and one of the oldest in Dhaka, considered a significant religious site.\",\n",
      "      \"type\": \"Religious\",\n",
      "      \"recommended_duration\": \"1-2 hours\"\n",
      "    },\n",
      "    {\n",
      "      \"name\": \"Star Mosque\",\n",
      "      \"description\": \"A beautifully decorated mosque known for its intricate mosaic work using Chinese porcelain.\",\n",
      "      \"type\": \"Religious\",\n",
      "      \"recommended_duration\": \"1-2 hours\"\n",
      "    },\n",
      "    {\n",
      "      \"name\": \"Sadarghat\",\n",
      "      \"description\": \"A bustling river port on the Buriganga River offering a glimpse into the city's vibrant life and riverine culture.\",\n",
      "      \"type\": \"Cultural\",\n",
      "      \"recommended_duration\": \"1-2 hours\"\n",
      "    },\n",
      "    {\n",
      "      \"name\": \"National Parliament House\",\n",
      "      \"description\": \"An architectural marvel designed by Louis Kahn, reflecting the spirit of Bangladesh's independence.\",\n",
      "      \"type\": \"Architectural\",\n",
      "      \"recommended_duration\": \"1-2 hours\"\n",
      "    }\n",
      "  ],\n",
      "  \"culture\": {\n",
      "    \"overview\": \"Dhaka's culture is a vibrant blend of tradition and modernity. It's a city steeped in history, with influences from Mughal, British, and Bengali cultures. The city is known for its warm hospitality, delicious cuisine, colorful festivals, and rich literary and artistic heritage.\",\n",
      "    \"food\": \"Dhaka offers a diverse culinary experience. Must-tries include traditional Bengali dishes like biryani, fish curry, and sweets like rasgulla and mishti doi.\",\n",
      "    \"festivals\": \"Major festivals celebrated in Dhaka include Pohela Boishakh (Bengali New Year), Durga Puja, Eid al-Fitr, and Eid al-Adha.\",\n",
      "    \"arts & crafts\": \"Dhaka is famous for its muslin fabric, handloom sarees, terracotta pottery, and traditional jewelry. Explore local markets for unique souvenirs.\"\n",
      "  },\n",
      "  \"facilities\": {\n",
      "    \"accommodation\": \"Dhaka offers a wide range of accommodation options, from budget-friendly guesthouses to luxury hotels catering to various budgets.\",\n",
      "    \"transportation\": \"The city has a vast transportation network including buses, CNG auto-rickshaws, taxis, and ride-sharing services. The newly launched metro rail system provides a modern and efficient way to navigate the city.\",\n",
      "    \"communication\": \"Mobile phone networks are widely available with reliable internet connectivity. Wi-Fi is accessible in most hotels and cafes.\",\n",
      "    \"healthcare\": \"Dhaka has a mix of public and private hospitals offering healthcare services. However, access to quality healthcare can be challenging for the underprivileged.\",\n",
      "  },\n",
      "  \"issues\": {\n",
      "    \"traffic_congestion\": \"Dhaka suffers from severe traffic congestion, especially during peak hours. Plan your travel accordingly and consider alternative modes of transportation.\",\n",
      "    \"pollution\": \"Air and noise pollution are significant concerns in Dhaka. Sensitive individuals should take precautions.\",\n",
      "    \"poverty & inequality\": \"Despite economic growth, poverty and inequality remain challenges in Dhaka. Be mindful of your surroundings and avoid displaying excessive wealth.\",\n",
      "    \"safety & security\": \"Petty crime can be a concern in crowded areas. Exercise caution with your belongings and be aware of your surroundings.\"\n",
      "  }\n",
      "}\n",
      "```\n"
     ]
    }
   ],
   "source": [
    "prompt_template = ChatPromptTemplate.from_messages([\n",
    "    (\"system\", \"You are a helpful assistant. You will response the output in a JSON format\"),\n",
    "    (\"user\", \"Tell me about {domain} in {city}\")\n",
    "])\n",
    "\n",
    "chain = prompt_template | llm \n",
    "\n",
    "result = chain.invoke({\"domain\": \"tourist places, culture, Facilities & issues\", \"city\": \"Dhaka\"})\n",
    "print(result.content)"
   ]
  },
  {
   "cell_type": "markdown",
   "metadata": {},
   "source": [
    "### Output Parsing with LangChain"
   ]
  },
  {
   "cell_type": "markdown",
   "metadata": {},
   "source": [
    "We can use an output parser to help users to specify an arbitrary JSON schema via the prompt, query a model for outputs that conform to that schema, and finally parse that schema as JSON.\n",
    "\n",
    "The JsonOutputParser is one built-in option for prompting for and then parsing JSON output. While it is similar in functionality to the PydanticOutputParser, it also supports streaming back partial JSON objects."
   ]
  },
  {
   "cell_type": "markdown",
   "metadata": {},
   "source": [
    "Pydantic in LangChain is used to define and validate data models, which helps in structuring the data passed between various components in a LangChain application.Pydantic is often used to create structured data schemas, like the one in your example, where you define a Joke model with fields setup and punchline."
   ]
  },
  {
   "cell_type": "code",
   "execution_count": 7,
   "metadata": {},
   "outputs": [
    {
     "name": "stdout",
     "output_type": "stream",
     "text": [
      "Return a JSON object.\n"
     ]
    },
    {
     "data": {
      "text/plain": [
       "{'response': \"Dhaka, the capital of Bangladesh, is a vibrant megacity known for its rich history, bustling streets, and delicious cuisine. Here are some interesting facts: \\n\\n* **Nickname:** It's often called the 'City of Mosques' due to the abundance of beautiful mosques, including the historic Baitul Mukarram.\\n* **Rickshaw Capital:** Dhaka boasts the highest concentration of rickshaws globally, making it a unique and colorful sight.\\n* **Cultural Hub:**  The city is home to numerous museums, art galleries, and theaters, showcasing the rich cultural heritage of Bangladesh.\\n* **Street Food Paradise:**  Dhaka offers a mouthwatering array of street food, from spicy fuchka to flavorful biryani.\\n* **Buriganga River:** The iconic Buriganga River flows through Dhaka, offering scenic boat rides and glimpses of local life.\"}"
      ]
     },
     "execution_count": 7,
     "metadata": {},
     "output_type": "execute_result"
    }
   ],
   "source": [
    "from langchain_core.output_parsers import JsonOutputParser\n",
    "from langchain_core.prompts import PromptTemplate\n",
    "\n",
    "query = \"Dhaka\"\n",
    "\n",
    "parser = JsonOutputParser()\n",
    "print(parser.get_format_instructions())\n",
    "\n",
    "prompt = PromptTemplate(\n",
    "    template=\"Answer the user query.\\n{format_instructions}\\n tell me something about {query}\\n\",\n",
    "    input_variables=[\"query\"],\n",
    "    partial_variables={\"format_instructions\": parser.get_format_instructions()},\n",
    ")\n",
    "\n",
    "chain = prompt | llm | parser\n",
    "\n",
    "chain.invoke({\"query\": query})"
   ]
  },
  {
   "cell_type": "code",
   "execution_count": 8,
   "metadata": {},
   "outputs": [
    {
     "data": {
      "text/plain": [
       "'Return a JSON object.'"
      ]
     },
     "execution_count": 8,
     "metadata": {},
     "output_type": "execute_result"
    }
   ],
   "source": [
    "parser.get_format_instructions()"
   ]
  },
  {
   "cell_type": "code",
   "execution_count": 9,
   "metadata": {},
   "outputs": [
    {
     "data": {
      "text/plain": [
       "{'setup': 'Dhaka is the capital and largest city of Bangladesh. It is known for its rich history, vibrant culture, and delicious food.',\n",
       " 'description': 'Dhaka is a bustling metropolis situated on the banks of the Buriganga River. It is a city of contrasts, with ancient Mughal architecture standing alongside modern skyscrapers. The city is known for its traffic congestion, but also for its friendly people and lively street life.',\n",
       " 'tourist_places': 'Some of the best tourist spots in Dhaka include the Lalbagh Fort, the Ahsan Manzil Museum, the Star Mosque, and the Dhakeshwari Temple. You can also take a boat ride on the Buriganga River or explore the narrow alleys of Old Dhaka.'}"
      ]
     },
     "execution_count": 9,
     "metadata": {},
     "output_type": "execute_result"
    }
   ],
   "source": [
    "from langchain_core.output_parsers import JsonOutputParser\n",
    "from langchain_core.prompts import PromptTemplate\n",
    "from pydantic import BaseModel, Field\n",
    "\n",
    "\n",
    "# Define your desired data structure.\n",
    "class Joke(BaseModel):\n",
    "    setup: str = Field(description=\"question to set up about places description\")\n",
    "    description: str = Field(description=\"answer to provide some description of that place\")\n",
    "    tourist_places: str = Field(description=\"answer to provide the best tourist spots of that city\")\n",
    "\n",
    "\n",
    "# And a query intented to prompt a language model to populate the data structure.\n",
    "joke_query = \"Dhaka\"\n",
    "\n",
    "# Set up a parser + inject instructions into the prompt template.\n",
    "parser = JsonOutputParser(pydantic_object=Joke)\n",
    "\n",
    "prompt = PromptTemplate(\n",
    "    template=\"Answer the user query.\\n{format_instructions}\\nTell me something about {query}\\n\",\n",
    "    input_variables=[\"query\"],\n",
    "    partial_variables={\"format_instructions\": parser.get_format_instructions()},\n",
    ")\n",
    "\n",
    "chain = prompt | llm | parser\n",
    "\n",
    "chain.invoke({\"query\": joke_query})"
   ]
  },
  {
   "cell_type": "code",
   "execution_count": 10,
   "metadata": {},
   "outputs": [
    {
     "data": {
      "text/plain": [
       "'The output should be formatted as a JSON instance that conforms to the JSON schema below.\\n\\nAs an example, for the schema {\"properties\": {\"foo\": {\"title\": \"Foo\", \"description\": \"a list of strings\", \"type\": \"array\", \"items\": {\"type\": \"string\"}}}, \"required\": [\"foo\"]}\\nthe object {\"foo\": [\"bar\", \"baz\"]} is a well-formatted instance of the schema. The object {\"properties\": {\"foo\": [\"bar\", \"baz\"]}} is not well-formatted.\\n\\nHere is the output schema:\\n```\\n{\"properties\": {\"setup\": {\"description\": \"question to set up about places description\", \"title\": \"Setup\", \"type\": \"string\"}, \"description\": {\"description\": \"answer to provide some description of that place\", \"title\": \"Description\", \"type\": \"string\"}, \"tourist_places\": {\"description\": \"answer to provide the best tourist spots of that city\", \"title\": \"Tourist Places\", \"type\": \"string\"}}, \"required\": [\"setup\", \"description\", \"tourist_places\"]}\\n```'"
      ]
     },
     "execution_count": 10,
     "metadata": {},
     "output_type": "execute_result"
    }
   ],
   "source": [
    "parser.get_format_instructions()"
   ]
  },
  {
   "cell_type": "markdown",
   "metadata": {},
   "source": [
    "You can also use the JsonOutputParser without Pydantic. This will prompt the model to return JSON, but doesn't provide specifics about what the schema should be."
   ]
  },
  {
   "cell_type": "markdown",
   "metadata": {},
   "source": [
    "### XMLParsing\n",
    "\n",
    "This guide shows you how to use the XMLOutputParser to prompt models for XML output, then and parse that output into a usable format."
   ]
  },
  {
   "cell_type": "code",
   "execution_count": 11,
   "metadata": {},
   "outputs": [
    {
     "name": "stdout",
     "output_type": "stream",
     "text": [
      "{'movies': [{'actor': [{'name': 'Tom Hanks'}, {'film': [{'name': \"He Knows You're Alone\"}, {'genre': 'Horror'}]}, {'film': [{'name': 'Mazes and Monsters'}, {'genre': 'Thriller'}]}, {'film': [{'name': 'Splash'}, {'genre': 'Romantic Comedy'}]}, {'film': [{'name': 'Bachelor Party'}, {'genre': 'Comedy'}]}, {'film': [{'name': 'The Man with One Red Shoe'}, {'genre': 'Comedy'}]}, {'film': [{'name': 'Volunteers'}, {'genre': 'Comedy'}]}, {'film': [{'name': 'The Money Pit'}, {'genre': 'Comedy'}]}, {'film': [{'name': 'Every Time We Say Goodbye'}, {'genre': 'Romance'}]}, {'film': [{'name': 'Nothing in Common'}, {'genre': 'Drama'}]}, {'film': [{'name': 'Big'}, {'genre': 'Fantasy Comedy-Drama'}]}, {'film': [{'name': 'Punchline'}, {'genre': 'Drama'}]}, {'film': [{'name': \"The 'Burbs\"}, {'genre': 'Comedy'}]}, {'film': [{'name': 'Turner & Hooch'}, {'genre': 'Comedy'}]}, {'film': [{'name': 'Joe Versus the Volcano'}, {'genre': 'Comedy'}]}, {'film': [{'name': 'The Bonfire of the Vanities'}, {'genre': 'Satire'}]}, {'film': [{'name': 'Radio Flyer'}, {'genre': 'Drama'}]}, {'film': [{'name': 'A League of Their Own'}, {'genre': 'Sports Comedy-Drama'}]}, {'film': [{'name': 'Sleepless in Seattle'}, {'genre': 'Romantic Comedy'}]}, {'film': [{'name': 'Philadelphia'}, {'genre': 'Legal Drama'}]}, {'film': [{'name': 'Forrest Gump'}, {'genre': 'Comedy-Drama'}]}, {'film': [{'name': 'Apollo 13'}, {'genre': 'Docudrama'}]}, {'film': [{'name': 'Toy Story'}, {'genre': 'Animation'}]}, {'film': [{'name': 'That Thing You Do!'}, {'genre': 'Comedy'}]}, {'film': [{'name': 'Saving Private Ryan'}, {'genre': 'War'}]}, {'film': [{'name': \"You've Got Mail\"}, {'genre': 'Romantic Comedy'}]}, {'film': [{'name': 'The Green Mile'}, {'genre': 'Drama'}]}, {'film': [{'name': 'Toy Story 2'}, {'genre': 'Animation'}]}, {'film': [{'name': 'Cast Away'}, {'genre': 'Survival Drama'}]}, {'film': [{'name': 'The Road to Perdition'}, {'genre': 'Crime'}]}, {'film': [{'name': 'Catch Me If You Can'}, {'genre': 'Biographical Crime'}]}, {'film': [{'name': 'The Terminal'}, {'genre': 'Comedy-Drama'}]}, {'film': [{'name': 'The Polar Express'}, {'genre': 'Animation'}]}, {'film': [{'name': 'The Da Vinci Code'}, {'genre': 'Mystery Thriller'}]}, {'film': [{'name': \"Charlie Wilson's War\"}, {'genre': 'Comedy-Drama'}]}, {'film': [{'name': 'The Great Buck Howard'}, {'genre': 'Comedy'}]}, {'film': [{'name': 'Angels & Demons'}, {'genre': 'Mystery Thriller'}]}, {'film': [{'name': 'Toy Story 3'}, {'genre': 'Animation'}]}, {'film': [{'name': 'Larry Crowne'}, {'genre': 'Comedy-Drama'}]}, {'film': [{'name': 'Extremely Loud & Incredibly Close'}, {'genre': 'Drama'}]}, {'film': [{'name': 'Cloud Atlas'}, {'genre': 'Science Fiction'}]}, {'film': [{'name': 'Captain Phillips'}, {'genre': 'Biographical Thriller'}]}, {'film': [{'name': 'Saving Mr. Banks'}, {'genre': 'Drama'}]}, {'film': [{'name': 'Bridge of Spies'}, {'genre': 'Historical Drama'}]}, {'film': [{'name': 'Inferno'}, {'genre': 'Mystery Thriller'}]}, {'film': [{'name': 'Sully'}, {'genre': 'Biographical Drama'}]}, {'film': [{'name': 'The Post'}, {'genre': 'Historical Drama'}]}, {'film': [{'name': 'Toy Story 4'}, {'genre': 'Animation'}]}, {'film': [{'name': 'Greyhound'}, {'genre': 'War'}]}, {'film': [{'name': 'News of the World'}, {'genre': 'Western'}]}, {'film': [{'name': 'Finch'}, {'genre': 'Science Fiction Drama'}]}, {'film': [{'name': 'Elvis'}, {'genre': 'Biographical Musical'}]}, {'film': [{'name': 'A Man Called Otto'}, {'genre': 'Comedy-Drama'}]}]}]}\n"
     ]
    }
   ],
   "source": [
    "from langchain.output_parsers import XMLOutputParser\n",
    "\n",
    "actor_query = \"Generate the shortened filmography for Tom Hanks.\"\n",
    "\n",
    "parser = XMLOutputParser(tags=[\"movies\", \"actor\", \"film\", \"name\", \"genre\"])\n",
    "\n",
    "# We will add these instructions to the prompt below\n",
    "parser.get_format_instructions()\n",
    "\n",
    "prompt = PromptTemplate(\n",
    "    template=\"\"\"{query}\\n{format_instructions}\"\"\",\n",
    "    input_variables=[\"query\"],\n",
    "    partial_variables={\"format_instructions\": parser.get_format_instructions()},\n",
    ")\n",
    "\n",
    "chain = prompt | llm | parser\n",
    "\n",
    "output = chain.invoke({\"query\": actor_query})\n",
    "print(output)"
   ]
  },
  {
   "cell_type": "code",
   "execution_count": 12,
   "metadata": {},
   "outputs": [
    {
     "data": {
      "text/plain": [
       "'The output should be formatted as a XML file.\\n1. Output should conform to the tags below. \\n2. If tags are not given, make them on your own.\\n3. Remember to always open and close all the tags.\\n\\nAs an example, for the tags [\"foo\", \"bar\", \"baz\"]:\\n1. String \"<foo>\\n   <bar>\\n      <baz></baz>\\n   </bar>\\n</foo>\" is a well-formatted instance of the schema. \\n2. String \"<foo>\\n   <bar>\\n   </foo>\" is a badly-formatted instance.\\n3. String \"<foo>\\n   <tag>\\n   </tag>\\n</foo>\" is a badly-formatted instance.\\n\\nHere are the output tags:\\n```\\n[\\'movies\\', \\'actor\\', \\'film\\', \\'name\\', \\'genre\\']\\n```'"
      ]
     },
     "execution_count": 12,
     "metadata": {},
     "output_type": "execute_result"
    }
   ],
   "source": [
    "parser.get_format_instructions()"
   ]
  },
  {
   "cell_type": "markdown",
   "metadata": {},
   "source": [
    "### Create a custom Output Parser\n",
    "In some situations you may want to implement a custom parser to structure the model output into a custom format. Here, we will make a simple parse that inverts the case of the output from the model.\n",
    "\n",
    "For example, if the model outputs: \"Meow\", the parser will produce \"mEOW\"."
   ]
  },
  {
   "cell_type": "code",
   "execution_count": 13,
   "metadata": {},
   "outputs": [
    {
     "data": {
      "text/plain": [
       "'hELLO! hOW CAN i HELP YOU TODAY? \\n'"
      ]
     },
     "execution_count": 13,
     "metadata": {},
     "output_type": "execute_result"
    }
   ],
   "source": [
    "from typing import Iterable\n",
    "from langchain_core.messages import AIMessage, AIMessageChunk\n",
    "\n",
    "\n",
    "\n",
    "def parse(ai_message: AIMessage) -> str:\n",
    "    \"\"\"Parse the AI message.\"\"\"\n",
    "    return ai_message.content.swapcase()\n",
    "\n",
    "\n",
    "chain = llm | parse\n",
    "chain.invoke(\"hello\")"
   ]
  },
  {
   "cell_type": "code",
   "execution_count": 14,
   "metadata": {},
   "outputs": [
    {
     "data": {
      "text/plain": [
       "\"## DHAKA: THE CITY OF MOSQUES, RICKSHAWS, AND MUGHAL HISTORY\\n\\nDHAKA, THE CAPITAL OF BANGLADESH, IS A VIBRANT AND BUSTLING MEGACITY TEEMING WITH LIFE, HISTORY, AND CULTURE. KNOWN FOR ITS CHAOTIC YET CAPTIVATING ATMOSPHERE, DHAKA OFFERS A UNIQUE BLEND OF OLD-WORLD CHARM AND MODERN ASPIRATIONS. HERE'S A GLIMPSE INTO WHAT MAKES DHAKA SPECIAL:\\n\\n**HISTORICAL TAPESTRY:**\\n\\n* **MUGHAL LEGACY:** DHAKA BOASTS A RICH MUGHAL HISTORY, EVIDENT IN ITS STUNNING ARCHITECTURE. EXPLORE THE LALBAGH FORT, A 17TH-CENTURY MUGHAL FORT OVERLOOKING THE BURIGANGA RIVER, OR VISIT THE MAJESTIC STAR MOSQUE, ADORNED WITH INTRICATE MOSAIC WORK. \\n* **PINK PALACE:** THE AHSAN MANZIL, A MAGNIFICENT PINK PALACE, STANDS AS A TESTAMENT TO DHAKA'S PAST AS A PROMINENT CENTER OF TRADE DURING BRITISH RULE. \\n\\n**CULTURAL HUB:**\\n\\n* **RICKSHAW CAPITAL:** EXPERIENCE THE QUINTESSENTIAL DHAKA EXPERIENCE BY HOPPING ONTO A BRIGHTLY DECORATED RICKSHAW, NAVIGATING THE CITY'S BUSTLING STREETS.\\n* **FLAVORS OF BANGLADESH:** INDULGE IN THE DIVERSE CULINARY SCENE, SAVORING TRADITIONAL BANGLADESHI DISHES LIKE BIRYANI, FISH CURRY, AND SWEETS LIKE ROSHOGOLLA AND MISHTI DOI.\\n* **FESTIVE SPIRIT:**  WITNESS THE VIBRANT CELEBRATIONS OF POHELA BOISHAKH (BENGALI NEW YEAR), DURGA PUJA, AND EID, WHERE THE CITY COMES ALIVE WITH COLORFUL PROCESSIONS, MUSIC, AND DANCE.\\n\\n**MODERN METROPOLIS:**\\n\\n* **BOOMING ECONOMY:** DHAKA IS A RAPIDLY GROWING ECONOMIC HUB, WITH A THRIVING GARMENT INDUSTRY AND A GROWING IT SECTOR.\\n* **ARCHITECTURAL MARVELS:**  MODERN ARCHITECTURAL WONDERS LIKE THE NATIONAL PARLIAMENT HOUSE, DESIGNED BY LOUIS KAHN, STAND ALONGSIDE HISTORICAL LANDMARKS.\\n* **GREEN ESCAPES:** FIND RESPITE FROM THE CITY'S HUSTLE AND BUSTLE IN SERENE PARKS LIKE RAMNA PARK AND BALDHA GARDEN, OFFERING A TRANQUIL ESCAPE.\\n\\n**CHALLENGES AND RESILIENCE:**\\n\\n* **OVERPOPULATION:** DHAKA FACES CHALLENGES LIKE OVERPOPULATION, TRAFFIC CONGESTION, AND POLLUTION. \\n* **CLIMATE CHANGE:** AS A LOW-LYING DELTA CITY, DHAKA IS VULNERABLE TO THE IMPACTS OF CLIMATE CHANGE, INCLUDING RISING SEA LEVELS AND EXTREME WEATHER EVENTS.\\n* **SPIRIT OF DHAKA:** DESPITE THESE CHALLENGES, THE PEOPLE OF DHAKA ARE KNOWN FOR THEIR RESILIENCE, WARMTH, AND ENTREPRENEURIAL SPIRIT.\\n\\n**VISITING DHAKA:**\\n\\nDHAKA OFFERS A UNIQUE AND UNFORGETTABLE EXPERIENCE. REMEMBER TO EMBRACE THE CITY'S VIBRANT CHAOS, ENGAGE WITH ITS FRIENDLY LOCALS, AND IMMERSE YOURSELF IN ITS RICH CULTURE AND HISTORY. BE PREPARED FOR A SENSORY OVERLOAD AND A JOURNEY THAT WILL LEAVE A LASTING IMPRESSION. \\n\""
      ]
     },
     "execution_count": 14,
     "metadata": {},
     "output_type": "execute_result"
    }
   ],
   "source": [
    "from typing import Iterable\n",
    "from langchain_core.messages import AIMessage, AIMessageChunk\n",
    "\n",
    "\n",
    "\n",
    "def parse(ai_message: AIMessage) -> str:\n",
    "    \"\"\"Parse the AI message.\"\"\"\n",
    "    return ai_message.content.upper()\n",
    "\n",
    "\n",
    "chain = llm | parse\n",
    "chain.invoke(\"please tell about dhaka\")"
   ]
  },
  {
   "cell_type": "code",
   "execution_count": null,
   "metadata": {},
   "outputs": [],
   "source": []
  }
 ],
 "metadata": {
  "kernelspec": {
   "display_name": "env",
   "language": "python",
   "name": "python3"
  },
  "language_info": {
   "codemirror_mode": {
    "name": "ipython",
    "version": 3
   },
   "file_extension": ".py",
   "mimetype": "text/x-python",
   "name": "python",
   "nbconvert_exporter": "python",
   "pygments_lexer": "ipython3",
   "version": "3.12.3"
  }
 },
 "nbformat": 4,
 "nbformat_minor": 2
}
