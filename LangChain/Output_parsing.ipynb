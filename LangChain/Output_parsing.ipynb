{
 "cells": [
  {
   "cell_type": "markdown",
   "metadata": {},
   "source": [
    "## Output parser \n",
    "\n",
    "Output parser is responsible for taking the output of a model and transforming it to a more suitable format for downstream tasks. Useful when you are using LLMs to generate structured data, or to normalize output from chat models and LLMs.LangChain has lots of different types of output parsers such as JSON, XML, CSV, OutputFixing, RetryWithError, Pydantic, YAML, PandasDataFrame, Enum, Datatime, Structured."
   ]
  },
  {
   "cell_type": "markdown",
   "metadata": {},
   "source": [
    "### Output parsing with Prompt Template\n",
    "\n",
    "Try to make output parsing without langchain output_parser function.. Give some prompts to the make the structure of the code."
   ]
  },
  {
   "cell_type": "code",
   "execution_count": 12,
   "metadata": {},
   "outputs": [],
   "source": [
    "# Chat Prompt Template\n",
    "from langchain_core.prompts import ChatPromptTemplate\n",
    "import os\n",
    "from langchain_core.output_parsers import StrOutputParser\n",
    "from langchain_google_genai import ChatGoogleGenerativeAI\n",
    "from dotenv import load_dotenv\n",
    "\n",
    "# Load environment variables from the .env file\n",
    "load_dotenv()\n",
    "\n",
    "\n",
    "# Access the API key from the environment\n",
    "api_key = os.getenv(\"GOOGLE_GEN_API\")\n",
    "llm = ChatGoogleGenerativeAI(model=\"gemini-1.5-pro\", api_key=api_key)\n",
    "result = llm.invoke(\"Tell me about Dhaka.\")"
   ]
  },
  {
   "cell_type": "code",
   "execution_count": 13,
   "metadata": {},
   "outputs": [
    {
     "data": {
      "text/plain": [
       "\"## Dhaka: A City of Chaos and Charm\\n\\nDhaka, the capital of Bangladesh, is a city of stark contrasts. It's a vibrant, bustling metropolis steeped in history and culture, yet grappling with challenges of overpopulation, poverty, and traffic congestion. \\n\\n**Here's a glimpse into Dhaka:**\\n\\n**History & Culture:**\\n\\n* **Ancient Roots:**  Dhaka's history dates back to the 7th century, serving as a prominent Mughal capital in the 17th century.  \\n* **Architectural Marvels:** Mughal architecture shines in places like Lalbagh Fort, Ahsan Manzil (Pink Palace), and the Star Mosque.\\n* **Cultural Hub:** Dhaka boasts numerous museums, art galleries, and theaters, showcasing the rich heritage of Bangladesh.\\n* **Festivals:** Experience the vibrancy of Bengali culture during festivals like Pohela Boishakh (Bengali New Year), Durga Puja, and Eid.\\n\\n**Modern Metropolis:**\\n\\n* **Economic Powerhouse:** Dhaka is Bangladesh's economic center, with industries ranging from textiles and garments to finance and technology.\\n* **Growing Skyline:** Modern skyscrapers stand tall alongside colonial-era buildings, reflecting the city's rapid development.\\n* **Culinary Delights:** From street food like fuchka and biryani to upscale restaurants, Dhaka offers a diverse culinary scene.\\n\\n**Challenges & Contrasts:**\\n\\n* **Overpopulation:** Dhaka is one of the world's most densely populated cities, leading to housing shortages and pressure on infrastructure.\\n* **Traffic Congestion:** Dhaka's traffic is infamous, with journeys often taking hours. Rickshaws, CNGs, and buses navigate the crowded streets.\\n* **Poverty:** Despite economic growth, poverty remains a challenge, with slums existing alongside affluent neighborhoods.\\n\\n**Beyond the City:**\\n\\n* **Buriganga River:** Take a boat trip on the Buriganga River to witness the bustling river life and Sadarghat, the main river port.\\n* **Day Trips:** Escape the city bustle with trips to Sonargaon, the former capital, or to the peaceful countryside.\\n\\n**Visiting Dhaka:**\\n\\n* **Best Time to Visit:** October to March offers pleasant weather.\\n* **Getting Around:** Rickshaws are convenient for short distances, CNGs are faster, and buses are the cheapest option.\\n* **Safety:** Dhaka is generally safe, but petty theft can occur. Be cautious and avoid walking alone at night.\\n\\n**Dhaka is not for the faint of heart. It's a city that overwhelms the senses, but also rewards the curious traveler with its unique charm, rich history, and the resilience of its people.** \\n\""
      ]
     },
     "execution_count": 13,
     "metadata": {},
     "output_type": "execute_result"
    }
   ],
   "source": [
    "result.content"
   ]
  },
  {
   "cell_type": "code",
   "execution_count": 14,
   "metadata": {},
   "outputs": [
    {
     "name": "stdout",
     "output_type": "stream",
     "text": [
      "Tourist Places,Culture,Facilities,Issues\n",
      "Lalbagh Fort,Mughal architecture,Guided tours,Limited accessibility for people with disabilities\n",
      "Ahsan Manzil,Pink Palace,Museum,Overcrowding during peak season\n",
      "Dhakeshwari Temple,Hindu temple,Religious services,Traffic congestion\n",
      "Armenian Church,Armenian history,Historical site,Limited parking space\n",
      "Sadarghat,River port,Boat trips,Sanitation concerns\n",
      "Star Mosque,Mughal architecture,Religious services,Limited accessibility for people with disabilities\n",
      "National Parliament House,Modern architecture,Guided tours,Limited public transportation options\n",
      "Bangladesh National Museum,Bangladeshi history and culture,Museum,Limited interactive exhibits\n",
      "Balda Garden,Botanical garden,Picnic areas,Maintenance issues\n",
      "Ramna Park,Urban park,Recreational activities,Overcrowding during weekends\n",
      ",,,,,\n",
      "**Culture:**\n",
      "- **Rich history and heritage:** Dhaka is an ancient city with a rich history dating back to the Mughal era.\n",
      "- **Vibrant arts and crafts:** The city is known for its traditional arts and crafts, such as muslin weaving, pottery, and embroidery.\n",
      "- **Delicious cuisine:** Dhaka offers a wide variety of culinary delights, from street food to fine dining.\n",
      "- **Warm hospitality:** Bangladeshi people are known for their warm hospitality and welcoming nature.\n",
      "- **Festivals and celebrations:** Dhaka celebrates numerous cultural and religious festivals throughout the year, such as Pohela Boishakh (Bengali New Year), Eid al-Fitr, and Durga Puja.\n",
      ",,,,,\n",
      "**Facilities:**\n",
      "- **Accommodation:** Dhaka offers a range of accommodation options, from budget-friendly guesthouses to luxury hotels.\n",
      "- **Transportation:** The city has a public transportation system that includes buses, CNG auto-rickshaws, and rickshaws.\n",
      "- **Restaurants and cafes:** Dhaka has a thriving food scene with numerous restaurants, cafes, and street food stalls.\n",
      "- **Shopping malls and markets:** The city offers a variety of shopping options, from modern malls to traditional markets.\n",
      "- **Hospitals and clinics:** Dhaka has a number of hospitals and clinics that provide quality healthcare services.\n",
      ",,,,,\n",
      "**Issues:**\n",
      "- **Traffic congestion:** Dhaka is notorious for its heavy traffic congestion, which can be a major inconvenience for tourists.\n",
      "- **Pollution:** Air and noise pollution are significant problems in Dhaka.\n",
      "- **Poverty and inequality:** Dhaka is a city of contrasts, with a significant gap between the rich and poor.\n",
      "- **Safety and security:** Petty crime can be a concern in crowded areas.\n",
      "- **Infrastructure challenges:** Dhaka's infrastructure is struggling to keep up with its rapid population growth.\n"
     ]
    }
   ],
   "source": [
    "prompt_template = ChatPromptTemplate.from_messages([\n",
    "    (\"system\", \"You are a helpful assistant. You will response the output in a CSV format\"),\n",
    "    (\"user\", \"Tell me about {domain} in {city}\")\n",
    "])\n",
    "\n",
    "chain = prompt_template | llm \n",
    "\n",
    "result = chain.invoke({\"domain\": \"tourist places, culture, Facilities & issues\", \"city\": \"Dhaka\"})\n",
    "print(result.content)"
   ]
  },
  {
   "cell_type": "code",
   "execution_count": 15,
   "metadata": {},
   "outputs": [
    {
     "name": "stdout",
     "output_type": "stream",
     "text": [
      "```json\n",
      "{\n",
      "  \"tourist_places\": [\n",
      "    {\n",
      "      \"name\": \"Ahsan Manzil\",\n",
      "      \"description\": \"A historic palace, once home to the Nawab of Dhaka, showcasing Mughal architecture and rich history.\",\n",
      "      \"type\": \"Historical & Architectural\"\n",
      "    },\n",
      "    {\n",
      "      \"name\": \"Lalbagh Fort\",\n",
      "      \"description\": \"An incomplete 17th-century Mughal fort with beautiful gardens, showcasing impressive architecture and a tragic history.\",\n",
      "      \"type\": \"Historical & Architectural\"\n",
      "    },\n",
      "    {\n",
      "      \"name\": \"National Parliament House\",\n",
      "      \"description\": \"An architectural marvel designed by Louis Kahn, offering guided tours to witness its grandeur.\",\n",
      "      \"type\": \"Architectural & Government\"\n",
      "    },\n",
      "    {\n",
      "      \"name\": \"Dhakeshwari Temple\",\n",
      "      \"description\": \"An ancient Hindu temple dedicated to Goddess Dhakeshwari, considered the city's namesake and a significant religious site.\",\n",
      "      \"type\": \"Religious\"\n",
      "    },\n",
      "    {\n",
      "      \"name\": \"Star Mosque\",\n",
      "      \"description\": \"A stunning mosque adorned with intricate mosaic work, offering a glimpse into Mughal-era craftsmanship.\",\n",
      "      \"type\": \"Religious & Architectural\"\n",
      "    },\n",
      "    {\n",
      "      \"name\": \"Sadarghat Riverfront\",\n",
      "      \"description\": \"A bustling river terminal offering a glimpse into local life and colorful boat journeys on the Buriganga River.\",\n",
      "      \"type\": \"Cultural & Scenic\"\n",
      "    },\n",
      "    {\n",
      "      \"name\": \"Armenian Church\",\n",
      "      \"description\": \"A historical church reflecting the city's Armenian heritage, known for its peaceful ambiance and architecture.\",\n",
      "      \"type\": \"Historical & Religious\"\n",
      "    },\n",
      "    {\n",
      "      \"name\": \"Bangladesh National Museum\",\n",
      "      \"description\": \"A museum showcasing the rich history, art, and culture of Bangladesh, with diverse exhibits from ancient times to the present.\",\n",
      "      \"type\": \"Historical & Cultural\"\n",
      "    }\n",
      "  ],\n",
      "  \"culture\": {\n",
      "    \"overview\": \"Dhaka boasts a vibrant culture influenced by its Mughal past, Bengali traditions, and Islamic heritage.\",\n",
      "    \"aspects\": [\n",
      "      \"Rich literary heritage with famous poets and writers.\",\n",
      "      \"Colorful festivals like Pohela Boishakh (Bengali New Year), Eid al-Fitr, Durga Puja.\",\n",
      "      \"Traditional music and dance forms like Baul music and classical dance.\",\n",
      "      \"Delicious cuisine known for its use of spices, fish, and rice.\",\n",
      "      \"Warm hospitality and welcoming nature of the people.\"\n",
      "    ]\n",
      "  },\n",
      "  \"facilities\": {\n",
      "    \"accommodation\": \"Wide range of options from budget guesthouses to international hotels.\",\n",
      "    \"transportation\": \"Rickshaws, CNG auto-rickshaws, buses, and ride-sharing services available, but traffic congestion is a major issue.\",\n",
      "    \"food\": \"Numerous restaurants, street food stalls, and cafes catering to various tastes and budgets.\",\n",
      "    \"shopping\": \"Traditional markets, modern shopping malls, and boutiques offering local handicrafts, clothing, and souvenirs.\",\n",
      "    \"healthcare\": \"Public and private hospitals, clinics, and pharmacies available, but quality can vary.\"\n",
      "  },\n",
      "  \"issues\": {\n",
      "    \"traffic\": \"Severe traffic congestion is a major problem, leading to long commutes and delays.\",\n",
      "    \"pollution\": \"Air and water pollution are concerns, impacting public health and the environment.\",\n",
      "    \"overpopulation\": \"High population density puts strain on infrastructure and resources.\",\n",
      "    \"poverty\": \"Significant income inequality and poverty exist, particularly in slum areas.\"\n",
      "  }\n",
      "}\n",
      "```\n"
     ]
    }
   ],
   "source": [
    "prompt_template = ChatPromptTemplate.from_messages([\n",
    "    (\"system\", \"You are a helpful assistant. You will response the output in a JSON format\"),\n",
    "    (\"user\", \"Tell me about {domain} in {city}\")\n",
    "])\n",
    "\n",
    "chain = prompt_template | llm \n",
    "\n",
    "result = chain.invoke({\"domain\": \"tourist places, culture, Facilities & issues\", \"city\": \"Dhaka\"})\n",
    "print(result.content)"
   ]
  },
  {
   "cell_type": "markdown",
   "metadata": {},
   "source": [
    "### Output Parsing with LangChain"
   ]
  },
  {
   "cell_type": "markdown",
   "metadata": {},
   "source": [
    "We can use an output parser to help users to specify an arbitrary JSON schema via the prompt, query a model for outputs that conform to that schema, and finally parse that schema as JSON.\n",
    "\n",
    "The JsonOutputParser is one built-in option for prompting for and then parsing JSON output. While it is similar in functionality to the PydanticOutputParser, it also supports streaming back partial JSON objects."
   ]
  },
  {
   "cell_type": "markdown",
   "metadata": {},
   "source": [
    "Pydantic in LangChain is used to define and validate data models, which helps in structuring the data passed between various components in a LangChain application.Pydantic is often used to create structured data schemas, like the one in your example, where you define a Joke model with fields setup and punchline."
   ]
  },
  {
   "cell_type": "code",
   "execution_count": 16,
   "metadata": {},
   "outputs": [
    {
     "data": {
      "text/plain": [
       "{'setup': 'Dhaka, the vibrant capital of Bangladesh, is a city brimming with history, culture, and chaos.',\n",
       " 'description': 'Known for its bustling streets, Mughal architecture, and delicious street food, Dhaka offers a sensory overload for visitors. The city is located on the banks of the Buriganga River and is a melting pot of traditions and modernity.',\n",
       " 'tourist_places': \"Some of the must-visit tourist spots in Dhaka include the Lalbagh Fort, Ahsan Manzil (Pink Palace), the Star Mosque, Dhakeshwari Temple, and Sadarghat River Front. Don't miss the opportunity to explore the narrow alleys of Old Dhaka with its vibrant markets and street food stalls.\"}"
      ]
     },
     "execution_count": 16,
     "metadata": {},
     "output_type": "execute_result"
    }
   ],
   "source": [
    "from langchain_core.output_parsers import JsonOutputParser\n",
    "from langchain_core.prompts import PromptTemplate\n",
    "from pydantic import BaseModel, Field\n",
    "\n",
    "\n",
    "# Define your desired data structure.\n",
    "class Joke(BaseModel):\n",
    "    setup: str = Field(description=\"question to set up about places description\")\n",
    "    description: str = Field(description=\"answer to provide some description of that place\")\n",
    "    tourist_places: str = Field(description=\"answer to provide the best tourist spots of that city\")\n",
    "\n",
    "\n",
    "# And a query intented to prompt a language model to populate the data structure.\n",
    "joke_query = \"Dhaka\"\n",
    "\n",
    "# Set up a parser + inject instructions into the prompt template.\n",
    "parser = JsonOutputParser(pydantic_object=Joke)\n",
    "\n",
    "prompt = PromptTemplate(\n",
    "    template=\"Answer the user query.\\n{format_instructions}\\nTell me something about {query}\\n\",\n",
    "    input_variables=[\"query\"],\n",
    "    partial_variables={\"format_instructions\": parser.get_format_instructions()},\n",
    ")\n",
    "\n",
    "chain = prompt | llm | parser\n",
    "\n",
    "chain.invoke({\"query\": joke_query})"
   ]
  },
  {
   "cell_type": "code",
   "execution_count": 17,
   "metadata": {},
   "outputs": [
    {
     "data": {
      "text/plain": [
       "'The output should be formatted as a JSON instance that conforms to the JSON schema below.\\n\\nAs an example, for the schema {\"properties\": {\"foo\": {\"title\": \"Foo\", \"description\": \"a list of strings\", \"type\": \"array\", \"items\": {\"type\": \"string\"}}}, \"required\": [\"foo\"]}\\nthe object {\"foo\": [\"bar\", \"baz\"]} is a well-formatted instance of the schema. The object {\"properties\": {\"foo\": [\"bar\", \"baz\"]}} is not well-formatted.\\n\\nHere is the output schema:\\n```\\n{\"properties\": {\"setup\": {\"description\": \"question to set up about places description\", \"title\": \"Setup\", \"type\": \"string\"}, \"description\": {\"description\": \"answer to provide some description of that place\", \"title\": \"Description\", \"type\": \"string\"}, \"tourist_places\": {\"description\": \"answer to provide the best tourist spots of that city\", \"title\": \"Tourist Places\", \"type\": \"string\"}}, \"required\": [\"setup\", \"description\", \"tourist_places\"]}\\n```'"
      ]
     },
     "execution_count": 17,
     "metadata": {},
     "output_type": "execute_result"
    }
   ],
   "source": [
    "parser.get_format_instructions()"
   ]
  },
  {
   "cell_type": "markdown",
   "metadata": {},
   "source": [
    "You can also use the JsonOutputParser without Pydantic. This will prompt the model to return JSON, but doesn't provide specifics about what the schema should be."
   ]
  },
  {
   "cell_type": "code",
   "execution_count": 18,
   "metadata": {},
   "outputs": [
    {
     "name": "stdout",
     "output_type": "stream",
     "text": [
      "Return a JSON object.\n"
     ]
    },
    {
     "data": {
      "text/plain": [
       "{'response': \"Dhaka, the capital of Bangladesh, is a vibrant megacity known for its rich history, bustling streets, and delicious cuisine. Here are a few interesting facts about Dhaka:\\n\\n* **Historical Significance:** Dhaka has a long and fascinating history, dating back to the 7th century. It served as the Mughal capital of Bengal and boasts numerous historical landmarks, including the Lalbagh Fort and the Ahsan Manzil (Pink Palace).\\n\\n* **Rickshaw Capital of the World:** Dhaka is famous for its colorful and ubiquitous rickshaws, a primary mode of transportation in the city. It's estimated that millions of rickshaws navigate its streets daily.\\n\\n* **Delicious Cuisine:** Dhaka offers a diverse culinary scene, with Bengali and Mughlai influences. Must-try dishes include biryani, fish curry, and sweets like roshogolla and mishti doi.\\n\\n* **Cultural Hub:** The city is a center for art, literature, and music. It hosts numerous cultural events throughout the year, including the Dhaka Lit Fest and the Bengal Classical Music Festival.\\n\\n* **Buriganga River:** The Buriganga River, flowing through Dhaka, is an important waterway and a hub of commercial activity. Taking a boat ride on the river offers a unique perspective of the city.\"}"
      ]
     },
     "execution_count": 18,
     "metadata": {},
     "output_type": "execute_result"
    }
   ],
   "source": [
    "query = \"Dhaka\"\n",
    "\n",
    "parser = JsonOutputParser()\n",
    "print(parser.get_format_instructions())\n",
    "\n",
    "prompt = PromptTemplate(\n",
    "    template=\"Answer the user query.\\n{format_instructions}\\n tell me something about {query}\\n\",\n",
    "    input_variables=[\"query\"],\n",
    "    partial_variables={\"format_instructions\": parser.get_format_instructions()},\n",
    ")\n",
    "\n",
    "chain = prompt | llm | parser\n",
    "\n",
    "chain.invoke({\"query\": joke_query})"
   ]
  },
  {
   "cell_type": "markdown",
   "metadata": {},
   "source": [
    "### XMLParsing\n",
    "\n",
    "This guide shows you how to use the XMLOutputParser to prompt models for XML output, then and parse that output into a usable format."
   ]
  },
  {
   "cell_type": "code",
   "execution_count": 19,
   "metadata": {},
   "outputs": [
    {
     "name": "stdout",
     "output_type": "stream",
     "text": [
      "{'movies': [{'actor': [{'name': 'Tom Hanks'}, {'film': [{'name': \"He Knows You're Alone\"}, {'genre': 'Horror'}]}, {'film': [{'name': 'Splash'}, {'genre': 'Romantic Comedy'}]}, {'film': [{'name': 'Bachelor Party'}, {'genre': 'Comedy'}]}, {'film': [{'name': 'The Man Who Knew Too Much'}, {'genre': 'Thriller'}]}, {'film': [{'name': 'Big'}, {'genre': 'Fantasy Comedy-Drama'}]}, {'film': [{'name': 'Turner & Hooch'}, {'genre': 'Comedy'}]}, {'film': [{'name': 'A League of Their Own'}, {'genre': 'Sports Comedy-Drama'}]}, {'film': [{'name': 'Sleepless in Seattle'}, {'genre': 'Romantic Comedy'}]}, {'film': [{'name': 'Philadelphia'}, {'genre': 'Legal Drama'}]}, {'film': [{'name': 'Forrest Gump'}, {'genre': 'Comedy-Drama'}]}, {'film': [{'name': 'Apollo 13'}, {'genre': 'Docudrama'}]}, {'film': [{'name': 'Toy Story'}, {'genre': 'Animated Buddy Comedy'}]}, {'film': [{'name': 'Saving Private Ryan'}, {'genre': 'Epic War Drama'}]}, {'film': [{'name': \"You've Got Mail\"}, {'genre': 'Romantic Comedy'}]}, {'film': [{'name': 'The Green Mile'}, {'genre': 'Supernatural Drama'}]}, {'film': [{'name': 'Cast Away'}, {'genre': 'Survival Drama'}]}, {'film': [{'name': 'Catch Me If You Can'}, {'genre': 'Biographical Crime Drama'}]}, {'film': [{'name': 'The Terminal'}, {'genre': 'Romantic Comedy-Drama'}]}, {'film': [{'name': 'The Da Vinci Code'}, {'genre': 'Mystery Thriller'}]}, {'film': [{'name': \"Charlie Wilson's War\"}, {'genre': 'Comedy-Drama'}]}, {'film': [{'name': 'Angels & Demons'}, {'genre': 'Mystery Thriller'}]}, {'film': [{'name': 'Toy Story 3'}, {'genre': 'Animated Comedy-Drama'}]}, {'film': [{'name': 'The Post'}, {'genre': 'Political Thriller'}]}]}]}\n"
     ]
    }
   ],
   "source": [
    "from langchain.output_parsers import XMLOutputParser\n",
    "\n",
    "actor_query = \"Generate the shortened filmography for Tom Hanks.\"\n",
    "\n",
    "parser = XMLOutputParser(tags=[\"movies\", \"actor\", \"film\", \"name\", \"genre\"])\n",
    "\n",
    "# We will add these instructions to the prompt below\n",
    "parser.get_format_instructions()\n",
    "\n",
    "prompt = PromptTemplate(\n",
    "    template=\"\"\"{query}\\n{format_instructions}\"\"\",\n",
    "    input_variables=[\"query\"],\n",
    "    partial_variables={\"format_instructions\": parser.get_format_instructions()},\n",
    ")\n",
    "\n",
    "chain = prompt | llm | parser\n",
    "\n",
    "output = chain.invoke({\"query\": actor_query})\n",
    "print(output)"
   ]
  },
  {
   "cell_type": "code",
   "execution_count": 20,
   "metadata": {},
   "outputs": [
    {
     "data": {
      "text/plain": [
       "'The output should be formatted as a XML file.\\n1. Output should conform to the tags below. \\n2. If tags are not given, make them on your own.\\n3. Remember to always open and close all the tags.\\n\\nAs an example, for the tags [\"foo\", \"bar\", \"baz\"]:\\n1. String \"<foo>\\n   <bar>\\n      <baz></baz>\\n   </bar>\\n</foo>\" is a well-formatted instance of the schema. \\n2. String \"<foo>\\n   <bar>\\n   </foo>\" is a badly-formatted instance.\\n3. String \"<foo>\\n   <tag>\\n   </tag>\\n</foo>\" is a badly-formatted instance.\\n\\nHere are the output tags:\\n```\\n[\\'movies\\', \\'actor\\', \\'film\\', \\'name\\', \\'genre\\']\\n```'"
      ]
     },
     "execution_count": 20,
     "metadata": {},
     "output_type": "execute_result"
    }
   ],
   "source": [
    "parser.get_format_instructions()"
   ]
  },
  {
   "cell_type": "markdown",
   "metadata": {},
   "source": [
    "### Create a custom Output Parser\n",
    "In some situations you may want to implement a custom parser to structure the model output into a custom format. Here, we will make a simple parse that inverts the case of the output from the model.\n",
    "\n",
    "For example, if the model outputs: \"Meow\", the parser will produce \"mEOW\"."
   ]
  },
  {
   "cell_type": "code",
   "execution_count": null,
   "metadata": {},
   "outputs": [],
   "source": [
    "from typing import Iterable\n",
    "from langchain_core.messages import AIMessage, AIMessageChunk\n",
    "\n",
    "\n",
    "\n",
    "def parse(ai_message: AIMessage) -> str:\n",
    "    \"\"\"Parse the AI message.\"\"\"\n",
    "    return ai_message.content.swapcase()\n",
    "\n",
    "\n",
    "chain = llm | parse\n",
    "chain.invoke(\"hello\")"
   ]
  },
  {
   "cell_type": "code",
   "execution_count": null,
   "metadata": {},
   "outputs": [],
   "source": [
    "from typing import Iterable\n",
    "from langchain_core.messages import AIMessage, AIMessageChunk\n",
    "\n",
    "\n",
    "\n",
    "def parse(ai_message: AIMessage) -> str:\n",
    "    \"\"\"Parse the AI message.\"\"\"\n",
    "    return ai_message.content.swapcase()\n",
    "\n",
    "\n",
    "chain = llm | parse\n",
    "chain.invoke(\"hello\")"
   ]
  }
 ],
 "metadata": {
  "kernelspec": {
   "display_name": "env",
   "language": "python",
   "name": "python3"
  },
  "language_info": {
   "codemirror_mode": {
    "name": "ipython",
    "version": 3
   },
   "file_extension": ".py",
   "mimetype": "text/x-python",
   "name": "python",
   "nbconvert_exporter": "python",
   "pygments_lexer": "ipython3",
   "version": "3.12.3"
  }
 },
 "nbformat": 4,
 "nbformat_minor": 2
}
