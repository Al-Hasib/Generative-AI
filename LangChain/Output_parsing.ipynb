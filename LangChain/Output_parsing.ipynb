{
 "cells": [
  {
   "cell_type": "markdown",
   "metadata": {},
   "source": [
    "## Output parser \n",
    "\n",
    "Output parser is responsible for taking the output of a model and transforming it to a more suitable format for downstream tasks. Useful when you are using LLMs to generate structured data, or to normalize output from chat models and LLMs.LangChain has lots of different types of output parsers such as JSON, XML, CSV, OutputFixing, RetryWithError, Pydantic, YAML, PandasDataFrame, Enum, Datatime, Structured."
   ]
  },
  {
   "cell_type": "markdown",
   "metadata": {},
   "source": [
    "### Output parsing with Prompt Template\n",
    "\n",
    "Try to make output parsing without langchain output_parser function.. Give some prompts to the make the structure of the code."
   ]
  },
  {
   "cell_type": "code",
   "execution_count": 17,
   "metadata": {},
   "outputs": [
    {
     "name": "stdout",
     "output_type": "stream",
     "text": [
      "messages=[SystemMessage(content='You are a helpful assistant. You will response the output in a CSV format', additional_kwargs={}, response_metadata={}), HumanMessage(content='Tell me about tourist places, culture, Facilities & issues in Dhaka', additional_kwargs={}, response_metadata={})]\n",
      "Place Name,Type,Description,Facilities,Issues\n",
      "Lalbag Fort,Historical & Architectural,A 17th-century Mughal fort with gardens, mosques, and a museum. It showcases Mughal architecture and offers historical insights.,Guided tours, museums, gardens, restrooms, food stalls.,Limited accessibility for people with disabilities, maintenance issues, overcrowding during peak hours.\n",
      "Ahsan Manzil,Historical & Architectural,A 19th-century palace known as the \"Pink Palace,\" it served as the residence of the Nawabs of Dhaka. It features a grand staircase, ballroom, and exhibits on the city's history.,Guided tours, museums, restrooms, souvenir shops.,Limited accessibility for people with disabilities, preservation challenges, limited parking space.\n",
      "Dhakeshwari Temple,Religious & Cultural,An ancient Hindu temple dedicated to Goddess Durga, considered the \"Heart of Dhaka.\" It holds immense religious significance and hosts numerous festivals.,Restrooms, shoe stands, accommodations for devotees.,Overcrowding during festivals, limited accessibility for people with disabilities.\n",
      "Star Mosque,Religious & Architectural,A stunning 18th-century mosque adorned with intricate mosaic work. Its unique architectural style and decorative elements make it a visual treat.,Prayer halls, ablution facilities, restrooms.,Overcrowding during prayer times, limited space for tourists.\n",
      "Armenian Church,Historical & Religious,A historic church built in the 18th century by Armenian merchants. It showcases Armenian architecture and offers a glimpse into their history in Dhaka.,Guided tours, restrooms.,Limited accessibility for people with disabilities, preservation challenges.\n",
      "Sadarghat Riverfront,Cultural & Scenic,A bustling river terminal on the Buriganga River, offering a glimpse into the city's vibrant riverine life. Boat trips and river cruises are popular activities.,Boat terminals, food stalls, restrooms.,Sanitation issues, overcrowding, lack of safety measures.\n",
      "National Parliament House,Architectural & Political,A modern architectural marvel designed by Louis Kahn, housing the Bangladesh Parliament. Guided tours provide insights into the country's political system.,Guided tours, restrooms.,Limited accessibility for the public, photography restrictions.\n",
      "Bangladesh National Museum,Cultural & Historical,The largest museum in Bangladesh, showcasing the country's history, art, culture, and heritage. It houses a vast collection of artifacts, sculptures, and paintings.,Guided tours, museums, restrooms, souvenir shops.,Limited accessibility for people with disabilities, preservation challenges.\n",
      ",Culture,\"Dhaka, the capital of Bangladesh, is a vibrant city with a rich cultural heritage. It is known for its Mughal and British colonial influences, as well as its Bengali traditions. The city is a melting pot of cultures, with people from all over Bangladesh and the world calling it home. Dhaka is also a center for the arts, with a thriving music, dance, and theater scene.\",,,,,\n",
      ",Facilities,\"Dhaka offers a range of facilities for tourists, including:,* Accommodation: A variety of hotels, guesthouses, and apartments are available to suit all budgets.,* Transportation: The city has a comprehensive public transportation system, including buses, CNG auto-rickshaws, and rickshaws. Ride-sharing services are also available.,* Food and Drink: Dhaka is a food lover's paradise, with a wide variety of restaurants serving both local and international cuisine.\",,,,\n",
      ",Issues,\"Like many major cities, Dhaka faces its share of challenges, including:,* Traffic congestion: Dhaka is notorious for its traffic jams, especially during peak hours.,* Pollution: Air and water pollution are major concerns in the city.,* Poverty: Despite its economic growth, poverty remains a significant issue in Dhaka.,* Safety and security: Petty crime and scams can be a concern for tourists.\",,,,\n"
     ]
    }
   ],
   "source": [
    "# Chat Prompt Template\n",
    "from langchain_core.prompts import ChatPromptTemplate\n",
    "import os\n",
    "from langchain_core.output_parsers import StrOutputParser\n",
    "from langchain_google_genai import ChatGoogleGenerativeAI\n",
    "from dotenv import load_dotenv\n",
    "\n",
    "# Load environment variables from the .env file\n",
    "load_dotenv()\n",
    "\n",
    "\n",
    "prompt_template = ChatPromptTemplate.from_messages([\n",
    "    (\"system\", \"You are a helpful assistant. You will response the output in a CSV format\"),\n",
    "    (\"user\", \"Tell me about {domain} in {city}\")\n",
    "])\n",
    "\n",
    "print(prompt_template.invoke({\"domain\": \"tourist places, culture, Facilities & issues\", \"city\": \"Dhaka\"}))\n",
    "\n",
    "# Access the API key from the environment\n",
    "api_key = os.getenv(\"GOOGLE_GEN_API\")\n",
    "llm = ChatGoogleGenerativeAI(model=\"gemini-1.5-pro\", api_key=api_key)\n",
    "\n",
    "chain = prompt_template | llm \n",
    "\n",
    "result = chain.invoke({\"domain\": \"tourist places, culture, Facilities & issues\", \"city\": \"Dhaka\"})\n",
    "print(result.content)"
   ]
  },
  {
   "cell_type": "code",
   "execution_count": 18,
   "metadata": {},
   "outputs": [
    {
     "name": "stdout",
     "output_type": "stream",
     "text": [
      "```json\n",
      "{\n",
      "  \"tourist_places\": [\n",
      "    {\n",
      "      \"name\": \"Ahsan Manzil\",\n",
      "      \"description\": \"A magnificent Mughal-era palace, now a museum showcasing the history of Dhaka's Nawabs.\",\n",
      "      \"type\": \"Historical\",\n",
      "      \"recommended_visit_duration\": \"2-3 hours\"\n",
      "    },\n",
      "    {\n",
      "      \"name\": \"Lalbagh Fort\",\n",
      "      \"description\": \"An incomplete 17th-century Mughal fort with beautiful gardens, mosques, and the tomb of Pari Bibi.\",\n",
      "      \"type\": \"Historical\",\n",
      "      \"recommended_visit_duration\": \"2-3 hours\"\n",
      "    },\n",
      "    {\n",
      "      \"name\": \"Dhakeshwari Temple\",\n",
      "      \"description\": \"An important Hindu temple and one of the oldest structures in Dhaka, dating back to the 12th century.\",\n",
      "      \"type\": \"Religious\",\n",
      "      \"recommended_visit_duration\": \"1-2 hours\"\n",
      "    },\n",
      "    {\n",
      "      \"name\": \"Armenian Church\",\n",
      "      \"description\": \"A historic church built in the 18th century, showcasing Armenian architecture and heritage in Dhaka.\",\n",
      "      \"type\": \"Historical/Religious\",\n",
      "      \"recommended_visit_duration\": \"1-2 hours\"\n",
      "    },\n",
      "    {\n",
      "      \"name\": \"Sadarghat Riverfront\",\n",
      "      \"description\": \"A bustling river terminal with countless boats and ferries, offering a glimpse into the city's vibrant riverine life.\",\n",
      "      \"type\": \"Cultural\",\n",
      "      \"recommended_visit_duration\": \"1-2 hours\"\n",
      "    },\n",
      "    {\n",
      "      \"name\": \"National Parliament House\",\n",
      "      \"description\": \"An architectural marvel designed by Louis Kahn, housing the Bangladesh Parliament.\",\n",
      "      \"type\": \"Architectural\",\n",
      "      \"recommended_visit_duration\": \"1-2 hours\"\n",
      "    },\n",
      "    {\n",
      "      \"name\": \"Hatirjheel Lake\",\n",
      "      \"description\": \"A recently developed recreational area with a large lake, bridges, and walkways, ideal for evening strolls and boat rides.\",\n",
      "      \"type\": \"Recreational\",\n",
      "      \"recommended_visit_duration\": \"2-3 hours\"\n",
      "    }\n",
      "  ],\n",
      "  \"culture\": {\n",
      "    \"overview\": \"Dhaka's culture is a vibrant blend of Bengali traditions, Mughal influences, and modern trends. The city is known for its rich literary heritage, colorful festivals, delicious cuisine, and the warmth of its people. \",\n",
      "    \"highlights\": [\n",
      "      \"Rickshaw art: Dhaka's iconic rickshaws are not just a mode of transport but also moving canvases showcasing intricate and colorful artwork.\",\n",
      "      \"Muslin fabric: Dhaka was once famous for producing the finest muslin in the world. While its production declined, efforts are underway to revive this heritage craft.\",\n",
      "      \"Bengali literature: Dhaka has been a center of Bengali literature for centuries, with renowned poets and writers like Kazi Nazrul Islam and Rabindranath Tagore having lived and worked here.\",\n",
      "      \"Food: Dhaka's cuisine is a treat for food lovers, with a wide variety of dishes ranging from spicy street food like fuchka and jhalmuri to elaborate Biryani and fish curries.\",\n",
      "      \"Festivals: Dhaka celebrates all major religious festivals with equal enthusiasm, including Eid-ul-Fitr, Eid-ul-Adha, Durga Puja, and Christmas.\"\n",
      "    ]\n",
      "  },\n",
      "  \"facilities\": {\n",
      "    \"accommodation\": \"Dhaka offers a wide range of accommodation options, from budget-friendly guesthouses and hostels to international chain hotels and luxury resorts.\",\n",
      "    \"transportation\": \"Getting around Dhaka can be challenging due to traffic congestion. Rickshaws, CNG auto-rickshaws, and buses are common modes of transport. The city also has a growing network of ride-sharing services and a limited metro rail system.\",\n",
      "    \"food_and_dining\": \"Dhaka is a food paradise, offering a diverse culinary experience. From street food stalls to upscale restaurants, there's something to satisfy every palate and budget.\",\n",
      "    \"shopping\": \"Dhaka is a shopper's delight, with bustling markets, shopping malls, and boutiques offering everything from traditional handicrafts and garments to international brands.\",\n",
      "    \"healthcare\": \"Dhaka has a mix of public and private healthcare facilities. While public hospitals may be crowded, private hospitals offer better infrastructure and specialist care.\"\n",
      "  },\n",
      "  \"issues\": {\n",
      "    \"traffic_congestion\": \"Dhaka is notorious for its severe traffic congestion, which can make getting around the city time-consuming and frustrating.\",\n",
      "    \"pollution\": \"Air and noise pollution are significant concerns in Dhaka, primarily due to traffic, industrial activity, and construction.\",\n",
      "    \"poverty\": \"Despite economic growth, poverty remains a challenge in Dhaka, with a significant population living in slums and facing socioeconomic hardship.\",\n",
      "    \"infrastructure\": \"While Dhaka's infrastructure is developing, it struggles to keep pace with the city's rapid urbanization, leading to challenges in housing, sanitation, and transportation.\"\n",
      "  }\n",
      "}\n",
      "```\n"
     ]
    }
   ],
   "source": [
    "prompt_template = ChatPromptTemplate.from_messages([\n",
    "    (\"system\", \"You are a helpful assistant. You will response the output in a JSON format\"),\n",
    "    (\"user\", \"Tell me about {domain} in {city}\")\n",
    "])\n",
    "\n",
    "chain = prompt_template | llm \n",
    "\n",
    "result = chain.invoke({\"domain\": \"tourist places, culture, Facilities & issues\", \"city\": \"Dhaka\"})\n",
    "print(result.content)"
   ]
  },
  {
   "cell_type": "markdown",
   "metadata": {},
   "source": [
    "### Output Parsing with LangChain"
   ]
  },
  {
   "cell_type": "markdown",
   "metadata": {},
   "source": [
    "We can use an output parser to help users to specify an arbitrary JSON schema via the prompt, query a model for outputs that conform to that schema, and finally parse that schema as JSON.\n",
    "\n",
    "The JsonOutputParser is one built-in option for prompting for and then parsing JSON output. While it is similar in functionality to the PydanticOutputParser, it also supports streaming back partial JSON objects."
   ]
  },
  {
   "cell_type": "markdown",
   "metadata": {},
   "source": [
    "Pydantic in LangChain is used to define and validate data models, which helps in structuring the data passed between various components in a LangChain application.Pydantic is often used to create structured data schemas, like the one in your example, where you define a Joke model with fields setup and punchline."
   ]
  },
  {
   "cell_type": "code",
   "execution_count": 19,
   "metadata": {},
   "outputs": [
    {
     "data": {
      "text/plain": [
       "{'setup': 'Dhaka, the vibrant capital of Bangladesh, is a city where history, culture, and modernity intertwine.',\n",
       " 'description': \"Known for its bustling streets, Mughal architecture, and delicious cuisine, Dhaka offers a sensory overload. From the ancient Mughal fort of Lalbagh to the modern Hatirjheel lake, there's something for everyone.\",\n",
       " 'tourist_places': \"Some must-visit tourist spots include the Pink Palace (Ahsan Manzil), the Star Mosque, the Liberation War Museum, and the Sadarghat river port. Don't forget to explore the local markets and try traditional Bangladeshi food.\"}"
      ]
     },
     "execution_count": 19,
     "metadata": {},
     "output_type": "execute_result"
    }
   ],
   "source": [
    "from langchain_core.output_parsers import JsonOutputParser\n",
    "from langchain_core.prompts import PromptTemplate\n",
    "from pydantic import BaseModel, Field\n",
    "\n",
    "\n",
    "# Define your desired data structure.\n",
    "class Joke(BaseModel):\n",
    "    setup: str = Field(description=\"question to set up about places description\")\n",
    "    description: str = Field(description=\"answer to provide some description of that place\")\n",
    "    tourist_places: str = Field(description=\"answer to provide the best tourist spots of that city\")\n",
    "\n",
    "\n",
    "# And a query intented to prompt a language model to populate the data structure.\n",
    "joke_query = \"Dhaka\"\n",
    "\n",
    "# Set up a parser + inject instructions into the prompt template.\n",
    "parser = JsonOutputParser(pydantic_object=Joke)\n",
    "\n",
    "prompt = PromptTemplate(\n",
    "    template=\"Answer the user query.\\n{format_instructions}\\nTell me something about {query}\\n\",\n",
    "    input_variables=[\"query\"],\n",
    "    partial_variables={\"format_instructions\": parser.get_format_instructions()},\n",
    ")\n",
    "\n",
    "chain = prompt | llm | parser\n",
    "\n",
    "chain.invoke({\"query\": joke_query})"
   ]
  },
  {
   "cell_type": "code",
   "execution_count": 20,
   "metadata": {},
   "outputs": [
    {
     "data": {
      "text/plain": [
       "'The output should be formatted as a JSON instance that conforms to the JSON schema below.\\n\\nAs an example, for the schema {\"properties\": {\"foo\": {\"title\": \"Foo\", \"description\": \"a list of strings\", \"type\": \"array\", \"items\": {\"type\": \"string\"}}}, \"required\": [\"foo\"]}\\nthe object {\"foo\": [\"bar\", \"baz\"]} is a well-formatted instance of the schema. The object {\"properties\": {\"foo\": [\"bar\", \"baz\"]}} is not well-formatted.\\n\\nHere is the output schema:\\n```\\n{\"properties\": {\"setup\": {\"description\": \"question to set up about places description\", \"title\": \"Setup\", \"type\": \"string\"}, \"description\": {\"description\": \"answer to provide some description of that place\", \"title\": \"Description\", \"type\": \"string\"}, \"tourist_places\": {\"description\": \"answer to provide the best tourist spots of that city\", \"title\": \"Tourist Places\", \"type\": \"string\"}}, \"required\": [\"setup\", \"description\", \"tourist_places\"]}\\n```'"
      ]
     },
     "execution_count": 20,
     "metadata": {},
     "output_type": "execute_result"
    }
   ],
   "source": [
    "parser.get_format_instructions()"
   ]
  },
  {
   "cell_type": "markdown",
   "metadata": {},
   "source": [
    "You can also use the JsonOutputParser without Pydantic. This will prompt the model to return JSON, but doesn't provide specifics about what the schema should be."
   ]
  },
  {
   "cell_type": "code",
   "execution_count": 21,
   "metadata": {},
   "outputs": [
    {
     "name": "stdout",
     "output_type": "stream",
     "text": [
      "Return a JSON object.\n"
     ]
    },
    {
     "data": {
      "text/plain": [
       "{'response': 'Dhaka, the capital of Bangladesh, is a vibrant and bustling megacity known for its rich history, diverse culture, and delicious cuisine. Here are some interesting facts about Dhaka:\\n\\n* **Historical Significance:** Dhaka has a long and storied past, having been ruled by Mughal emperors, British colonists, and serving as the capital of both Pakistan and Bangladesh.\\n* **Cultural Hub:** Dhaka is home to numerous museums, historical sites, and cultural institutions, including the Lalbagh Fort, the Ahsan Manzil (Pink Palace), and the National Museum of Bangladesh.\\n* **Culinary Delights:** From street food to fine dining, Dhaka offers a wide array of culinary experiences. Be sure to try traditional dishes like biryani, fish curry, and sweets like roshogolla and mishti doi.\\n* **Rickshaw Capital of the World:** Dhaka is famous for its colorful and ubiquitous rickshaws, which provide a unique and chaotic mode of transportation.\\n* **Booming Economy:** As a major South Asian city, Dhaka is experiencing rapid economic growth and development in sectors like textiles, garments, and information technology.'}"
      ]
     },
     "execution_count": 21,
     "metadata": {},
     "output_type": "execute_result"
    }
   ],
   "source": [
    "query = \"Dhaka\"\n",
    "\n",
    "parser = JsonOutputParser()\n",
    "print(parser.get_format_instructions())\n",
    "\n",
    "prompt = PromptTemplate(\n",
    "    template=\"Answer the user query.\\n{format_instructions}\\n tell me something about {query}\\n\",\n",
    "    input_variables=[\"query\"],\n",
    "    partial_variables={\"format_instructions\": parser.get_format_instructions()},\n",
    ")\n",
    "\n",
    "chain = prompt | llm | parser\n",
    "\n",
    "chain.invoke({\"query\": joke_query})"
   ]
  },
  {
   "cell_type": "markdown",
   "metadata": {},
   "source": [
    "### XMLParsing\n",
    "\n",
    "This guide shows you how to use the XMLOutputParser to prompt models for XML output, then and parse that output into a usable format."
   ]
  },
  {
   "cell_type": "code",
   "execution_count": 22,
   "metadata": {},
   "outputs": [
    {
     "name": "stderr",
     "output_type": "stream",
     "text": [
      "Retrying langchain_google_genai.chat_models._chat_with_retry.<locals>._chat_with_retry in 2.0 seconds as it raised ResourceExhausted: 429 Resource has been exhausted (e.g. check quota)..\n"
     ]
    }
   ],
   "source": [
    "from langchain.output_parsers import XMLOutputParser\n",
    "\n",
    "actor_query = \"Generate the shortened filmography for Tom Hanks.\"\n",
    "\n",
    "parser = XMLOutputParser(tags=[\"movies\", \"actor\", \"film\", \"name\", \"genre\"])\n",
    "\n",
    "# We will add these instructions to the prompt below\n",
    "parser.get_format_instructions()\n",
    "\n",
    "prompt = PromptTemplate(\n",
    "    template=\"\"\"{query}\\n{format_instructions}\"\"\",\n",
    "    input_variables=[\"query\"],\n",
    "    partial_variables={\"format_instructions\": parser.get_format_instructions()},\n",
    ")\n",
    "\n",
    "chain = prompt | llm | parser\n",
    "\n",
    "output = chain.invoke({\"query\": actor_query})\n",
    "print(output)"
   ]
  },
  {
   "cell_type": "code",
   "execution_count": 16,
   "metadata": {},
   "outputs": [
    {
     "data": {
      "text/plain": [
       "'The output should be formatted as a XML file.\\n1. Output should conform to the tags below. \\n2. If tags are not given, make them on your own.\\n3. Remember to always open and close all the tags.\\n\\nAs an example, for the tags [\"foo\", \"bar\", \"baz\"]:\\n1. String \"<foo>\\n   <bar>\\n      <baz></baz>\\n   </bar>\\n</foo>\" is a well-formatted instance of the schema. \\n2. String \"<foo>\\n   <bar>\\n   </foo>\" is a badly-formatted instance.\\n3. String \"<foo>\\n   <tag>\\n   </tag>\\n</foo>\" is a badly-formatted instance.\\n\\nHere are the output tags:\\n```\\n[\\'movies\\', \\'actor\\', \\'film\\', \\'name\\', \\'genre\\']\\n```'"
      ]
     },
     "execution_count": 16,
     "metadata": {},
     "output_type": "execute_result"
    }
   ],
   "source": [
    "parser.get_format_instructions()"
   ]
  },
  {
   "cell_type": "markdown",
   "metadata": {},
   "source": [
    "### Create a custom Output Parser\n",
    "In some situations you may want to implement a custom parser to structure the model output into a custom format. Here, we will make a simple parse that inverts the case of the output from the model.\n",
    "\n",
    "For example, if the model outputs: \"Meow\", the parser will produce \"mEOW\"."
   ]
  },
  {
   "cell_type": "code",
   "execution_count": 14,
   "metadata": {},
   "outputs": [
    {
     "data": {
      "text/plain": [
       "'hELLO! hOW CAN i HELP YOU TODAY? \\n'"
      ]
     },
     "execution_count": 14,
     "metadata": {},
     "output_type": "execute_result"
    }
   ],
   "source": [
    "from typing import Iterable\n",
    "from langchain_core.messages import AIMessage, AIMessageChunk\n",
    "\n",
    "\n",
    "\n",
    "def parse(ai_message: AIMessage) -> str:\n",
    "    \"\"\"Parse the AI message.\"\"\"\n",
    "    return ai_message.content.swapcase()\n",
    "\n",
    "\n",
    "chain = llm | parse\n",
    "chain.invoke(\"hello\")"
   ]
  },
  {
   "cell_type": "code",
   "execution_count": null,
   "metadata": {},
   "outputs": [],
   "source": []
  }
 ],
 "metadata": {
  "kernelspec": {
   "display_name": "env",
   "language": "python",
   "name": "python3"
  },
  "language_info": {
   "codemirror_mode": {
    "name": "ipython",
    "version": 3
   },
   "file_extension": ".py",
   "mimetype": "text/x-python",
   "name": "python",
   "nbconvert_exporter": "python",
   "pygments_lexer": "ipython3",
   "version": "3.10.3"
  }
 },
 "nbformat": 4,
 "nbformat_minor": 2
}
