{
 "cells": [
  {
   "cell_type": "markdown",
   "metadata": {},
   "source": [
    "Vector embeddings are a technique used in natural language processing (NLP) to represent words or phrases in a continuous vector space. Here is a quick explanation:\n",
    "\n",
    "– Each word is assigned a vector (array of numeric values) that represents the word in an abstract vector space.\n",
    "\n",
    "– Words that are semantically similar end up close together in the vector space, allowing vectors to encode meaning based on context.\n",
    "\n",
    "– Embeddings are generated using neural networks trained on large amounts of text data. The network learns to assign vectors to words that optimize the prediction task it is trying to solve.\n",
    "\n",
    "– Word2vec and GloVe are two popular embedding techniques. Word2vec uses a shallow neural network to learn the vectors. GloVe uses matrix factorization methods.\n",
    "\n",
    "– The resulting word vectors capture syntactic and semantic information. Vector arithmetic can be used to add and subtract meanings. For example, vector(“King”) – vector(“Man”) + vector(“Woman”) results in a vector close to the embedding for Queen.\n",
    "\n",
    "– Embeddings allow words with similar meanings to have similar vector representations. This allows models to understand analogies and generalize patterns in language better.\n",
    "\n",
    "– Vector dimensions are in the range of 50-1000. Higher dimensionality captures more information but is less computationally efficient.\n",
    "\n",
    "– Embeddings are used as the first layer in many NLP deep learning models like LSTM, Transformers, etc. This provides a dense vector input representation instead of sparse one-hot encodings."
   ]
  },
  {
   "cell_type": "markdown",
   "metadata": {},
   "source": [
    "These algorithms are fast and can generate language sequences and other downstream tasks with high accuracy, including contextual understanding, semantic and syntactic properties, as well as the linear relationship between words.\n",
    "\n"
   ]
  },
  {
   "cell_type": "markdown",
   "metadata": {},
   "source": [
    "By leveraging embeddings, machine learning models gain a deeper understanding of the data, leading to more accurate and insightful outcomes. Whether it’s capturing the nuances in language for NLP tasks or identifying patterns in user behavior, embeddings provide a way to process complex data with greater efficacy and sophistication.\n",
    "\n",
    "How Do Embeddings Work?\n",
    "Representation: In the context of NLP, each unique word in a language is represented as a dense vector in a continuous vector space. These vectors are usually of a fixed size (like 100, 300, or 512 dimensions) regardless of the size of the vocabulary.\n",
    "Contextual Meaning: Unlike one-hot encoding, which gives a sparse and non-informative representation (where each word is just a different index in a long vector), embeddings capture more information about words. Words with similar meanings or used in similar contexts tend to be closer together in the embedding space. For instance, “king” and “queen” might be represented by vectors that are close to each other.\n",
    "Training: Embeddings can be pre-trained on large text corpora (like news articles, Wikipedia, or web pages) using algorithms like Word2Vec, GloVe, or more advanced methods like BERT (for contextual embeddings). The model learns to place words with similar meanings close together in this high-dimensional space.\n",
    "Dimensionality Reduction: This representation allows for dimensionality reduction. Instead of dealing with thousands or millions of unique words, the model deals with vectors in a much smaller dimensional space.\n",
    "Usage in Models: These vector representations can then be fed into various machine learning models (like neural networks) for tasks like sentiment analysis, machine translation, or content recommendation.\n",
    "Beyond Words: The concept of embeddings extends beyond words to include things like sentences, paragraphs, user IDs, products, etc., where similar items are represented by close vectors in the embedding space.\n",
    "Why it is usefull:\n",
    "\n",
    "Efficiency: They provide a compact, dense representation.\n",
    "Semantic Meaning: They capture deeper semantic meanings of words or items.\n",
    "Flexibility: Can be used in various machine learning tasks.\n",
    "Transfer Learning: Pre-trained embeddings can be used to boost performance in tasks with limited data."
   ]
  },
  {
   "cell_type": "markdown",
   "metadata": {},
   "source": [
    "t-SNE (t-Distributed Stochastic Neighbor Embedding) is a widely used dimensionality reduction technique for visualizing high-dimensional data. While t-SNE is primarily used for visualization, it can also be used to generate embeddings. The process involves applying t-SNE to reduce the dimensionality of the data and obtaining a lower-dimensional embedding that captures the inherent structure of the original high-dimensional data.\n",
    "\n",
    "UMAP (Uniform Manifold Approximation and Projection) is a dimensionality reduction technique commonly used for generating embeddings. Unlike traditional methods like PCA or t-SNE, UMAP focuses on preserving both local and global structure in the data while maintaining computational efficiency.\n",
    "\n",
    "An embedding is an array of numbers (a vector) representing a piece of information, such as text, images, audio, video, etc. Together, these numbers capture semantics and other important features of the data. The immediate consequence of doing this is that semantically similar entities map close to each other while dissimilar entities map farther apart in the vector space. "
   ]
  },
  {
   "cell_type": "markdown",
   "metadata": {},
   "source": [
    "Embedding models create a vector representation of a piece of text. You can think of a vector as an array of numbers that captures the semantic meaning of the text. By representing the text in this way, you can perform mathematical operations that allow you to do things like search for other pieces of text that are most similar in meaning. These natural language search capabilities underpin many types of context retrieval, where we provide an LLM with the relevant data it needs to effectively respond to a query.\n",
    "\n",
    "The Embeddings class is a class designed for interfacing with text embedding models. There are many different embedding model providers (OpenAI, Cohere, Hugging Face, etc) and local models, and this class is designed to provide a standard interface for all of them.\n",
    "\n",
    "The base Embeddings class in LangChain provides two methods: one for embedding documents and one for embedding a query. The former takes as input multiple texts, while the latter takes a single text. The reason for having these as two separate methods is that some embedding providers have different embedding methods for documents (to be searched over) vs queries (the search query itself)."
   ]
  },
  {
   "cell_type": "markdown",
   "metadata": {},
   "source": [
    "Caching\n",
    "Embeddings can be stored or temporarily cached to avoid needing to recompute them.\n",
    "\n",
    "Caching embeddings can be done using a CacheBackedEmbeddings. The cache backed embedder is a wrapper around an embedder that caches embeddings in a key-value store. The text is hashed and the hash is used as the key in the cache.\n",
    "\n",
    "The main supported way to initialize a CacheBackedEmbeddings is from_bytes_store\n",
    "\n"
   ]
  },
  {
   "cell_type": "markdown",
   "metadata": {},
   "source": [
    "First, let's see an example that uses the local file system for storing embeddings and uses FAISS vector store for retrieval.\n",
    "\n",
    "Load the document, split it into chunks, embed each chunk and load it into the vector store.\n",
    "\n"
   ]
  },
  {
   "cell_type": "code",
   "execution_count": null,
   "metadata": {},
   "outputs": [],
   "source": [
    "from langchain.embeddings import CacheBackedEmbeddings\n",
    "%pip install --upgrade --quiet  langchain-openai faiss-cpu\n",
    "from langchain.storage import LocalFileStore\n",
    "from langchain_community.document_loaders import TextLoader\n",
    "from langchain_community.vectorstores import FAISS\n",
    "from langchain_openai import OpenAIEmbeddings\n",
    "from langchain_text_splitters import CharacterTextSplitter\n",
    "\n",
    "underlying_embeddings = OpenAIEmbeddings()\n",
    "\n",
    "store = LocalFileStore(\"./cache/\")\n",
    "\n",
    "cached_embedder = CacheBackedEmbeddings.from_bytes_store(\n",
    "    underlying_embeddings, store, namespace=underlying_embeddings.model\n",
    ")\n",
    "\n",
    "raw_documents = TextLoader(\"state_of_the_union.txt\").load()\n",
    "text_splitter = CharacterTextSplitter(chunk_size=1000, chunk_overlap=0)\n",
    "documents = text_splitter.split_documents(raw_documents)\n",
    "\n",
    "# %%time\n",
    "# db = FAISS.from_documents(documents, cached_embedder)\n",
    "\n",
    "# CPU times: user 218 ms, sys: 29.7 ms, total: 248 ms\n",
    "# Wall time: 1.02 s\n",
    "\n",
    "# If we try to create the vector store again, it'll be much faster since it does not need to re-compute any embeddings.\n",
    "\n",
    "# %%time\n",
    "# db2 = FAISS.from_documents(documents, cached_embedder)\n",
    "\n",
    "# CPU times: user 15.7 ms, sys: 2.22 ms, total: 18 ms\n",
    "# Wall time: 17.2 ms\n",
    "\n",
    "# And here are some of the embeddings that got created:\n",
    "\n",
    "# list(store.yield_keys())[:5]\n",
    "\n",
    "# ['text-embedding-ada-00217a6727d-8916-54eb-b196-ec9c9d6ca472',\n",
    "#  'text-embedding-ada-0025fc0d904-bd80-52da-95c9-441015bfb438',\n",
    "#  'text-embedding-ada-002e4ad20ef-dfaa-5916-9459-f90c6d8e8159',\n",
    "#  'text-embedding-ada-002ed199159-c1cd-5597-9757-f80498e8f17b',\n",
    "#  'text-embedding-ada-0021297d37a-2bc1-5e19-bf13-6c950f075062']"
   ]
  },
  {
   "cell_type": "markdown",
   "metadata": {},
   "source": []
  },
  {
   "cell_type": "markdown",
   "metadata": {},
   "source": [
    "The Embeddings class is a class designed for interfacing with text embedding models. There are lots of embedding model providers (OpenAI, Cohere, Hugging Face, etc) - this class is designed to provide a standard interface for all of them.\n",
    "\n",
    "Embeddings create a vector representation of a piece of text. This is useful because it means we can think about text in the vector space, and do things like semantic search where we look for pieces of text that are most similar in the vector space.\n",
    "\n",
    "The base Embeddings class in LangChain provides two methods: one for embedding documents and one for embedding a query. The former, .embed_documents, takes as input multiple texts, while the latter, .embed_query, takes a single text. The reason for having these as two separate methods is that some embedding providers have different embedding methods for documents (to be searched over) vs queries (the search query itself). .embed_query will return a list of floats, whereas .embed_documents returns a list of lists of floats."
   ]
  },
  {
   "cell_type": "code",
   "execution_count": null,
   "metadata": {},
   "outputs": [],
   "source": [
    "# pip install langchain-openai python-dotenv\n",
    "from dotenv import load_dotenv\n",
    "from langchain_openai import OpenAIEmbeddings\n",
    "import os\n",
    "load_dotenv()\n",
    "api_key = os.getenv(\"OPENAI_API\")\n",
    "embeddings_model = OpenAIEmbeddings(api_key=\"...\")\n",
    "\n",
    "# embed a list of strings, recovering a list of embeddings\n",
    "embeddings = embeddings_model.embed_documents(\n",
    "    [\n",
    "        \"Hi there!\",\n",
    "        \"Oh, hello!\",\n",
    "        \"What's your name?\",\n",
    "        \"My friends call me World\",\n",
    "        \"Hello World!\"\n",
    "    ]\n",
    ")\n",
    "len(embeddings), len(embeddings[0])\n",
    "# Output: (5, 1536)\n",
    "\n",
    "#Use .embed_query to embed a single piece of text (e.g., for the purpose of comparing to other embedded pieces of texts).\n",
    "embedded_query = embeddings_model.embed_query(\"What was the name mentioned in the conversation?\")\n",
    "embedded_query[:5]\n",
    "'''\n",
    "Output:\n",
    "[0.0053587136790156364,\n",
    " -0.0004999046213924885,\n",
    " 0.038883671164512634,\n",
    " -0.003001077566295862,\n",
    " -0.00900818221271038]\n",
    "'''\n",
    "\n"
   ]
  },
  {
   "cell_type": "code",
   "execution_count": null,
   "metadata": {},
   "outputs": [],
   "source": [
    "# Hugging Face Embedding class.\n",
    "%pip install --upgrade --quiet  langchain sentence_transformers\n",
    "from langchain_huggingface.embeddings import HuggingFaceEmbeddings\n",
    "embeddings = HuggingFaceEmbeddings(model_name=\"sentence-transformers/all-mpnet-base-v2\")\n",
    "text = \"This is a test document.\"\n",
    "query_result = embeddings.embed_query(text)\n",
    "query_result[:3]\n",
    "doc_result = embeddings.embed_documents([text])\n",
    "\n",
    "# embedding models via the Hugging Face Inference API, which does not require us to install sentence_transformers and download models locally.\n",
    "import getpass\n",
    "from langchain_community.embeddings import HuggingFaceInferenceAPIEmbeddings\n",
    "inference_api_key = getpass.getpass(\"Enter your HF Inference API Key:\\n\\n\")\n",
    "embeddings = HuggingFaceInferenceAPIEmbeddings(\n",
    "    api_key=inference_api_key, model_name=\"sentence-transformers/all-MiniLM-l6-v2\"\n",
    ")\n",
    "\n",
    "query_result = embeddings.embed_query(text)\n",
    "query_result[:3]\n",
    "\n",
    "# generate embeddings locally via the Hugging Face Hub package, which requires us to install huggingface_hub\n",
    "#!pip install huggingface_hub\n",
    "from langchain_huggingface.embeddings import HuggingFaceEndpointEmbeddings\n",
    "embeddings = HuggingFaceEndpointEmbeddings()\n",
    "text = \"This is a test document.\"\n",
    "query_result = embeddings.embed_query(text)\n",
    "query_result[:3]"
   ]
  },
  {
   "cell_type": "markdown",
   "metadata": {},
   "source": [
    "Google's generative AI embeddings service using the GoogleGenerativeAIEmbeddings class, found in the langchain-google-genai package."
   ]
  },
  {
   "cell_type": "code",
   "execution_count": 3,
   "metadata": {},
   "outputs": [
    {
     "data": {
      "text/plain": [
       "(3, 768)"
      ]
     },
     "execution_count": 3,
     "metadata": {},
     "output_type": "execute_result"
    }
   ],
   "source": [
    "# %pip install --upgrade --quiet  langchain-google-genai\n",
    "from langchain_google_genai import GoogleGenerativeAIEmbeddings\n",
    "from dotenv import load_dotenv\n",
    "import os\n",
    "\n",
    "load_dotenv()\n",
    "api_key = os.getenv(\"GOOGLE_GEN_API\")\n",
    "embeddings = GoogleGenerativeAIEmbeddings(model=\"models/embedding-001\",google_api_key=api_key)\n",
    "vector = embeddings.embed_query(\"hello, world!\")\n",
    "vector[:5]\n",
    "# output: [0.05636945, 0.0048285457, -0.0762591, -0.023642512, 0.05329321]\n",
    "vectors = embeddings.embed_documents(\n",
    "    [\n",
    "        \"Today is Monday\",\n",
    "        \"Today is Tuesday\",\n",
    "        \"Today is April Fools day\",\n",
    "    ]\n",
    ")\n",
    "len(vectors), len(vectors[0])\n",
    "\n",
    "# Output: (3, 768)"
   ]
  },
  {
   "cell_type": "code",
   "execution_count": 8,
   "metadata": {},
   "outputs": [
    {
     "name": "stdout",
     "output_type": "stream",
     "text": [
      "[Document(id='7dd8d4df-0dcb-4ab5-b5b9-fb047be53ec8', metadata={}, page_content='LangChain is the framework for building context-aware reasoning applications.'), Document(id='55b634f5-362f-4ab5-806f-b57550742bd3', metadata={}, page_content='Langchain Offers a number of librares'), Document(id='0186e2a9-9fb8-4124-9cc4-5a520d88711b', metadata={}, page_content='We love Bangladesh'), Document(id='8f58b70d-27e0-43a4-ab4f-1d01ce77f13c', metadata={}, page_content='Most of the country is dominated by the fertile Ganges Delta, the largest river delta in the world.[49] The northwest and central parts of the country are formed by the Madhupur and the Barind plateaus.')]\n",
      "LangChain is the framework for building context-aware reasoning applications.\n",
      "Langchain Offers a number of librares\n"
     ]
    }
   ],
   "source": [
    "# Create a vector store with a sample text\n",
    "from langchain_core.vectorstores import InMemoryVectorStore\n",
    "\n",
    "text = [\"LangChain is the framework for building context-aware reasoning applications.\", \n",
    "        \"We love Bangladesh\",\n",
    "        \"Bangladesh is in South Asia on the Bay of Bengal.\",\n",
    "        \"It is surrounded almost entirely by neighbouring India, and shares a small border with Myanmar to its southeast, though it lies very close to Nepal, Bhutan, and China. The country is divided into three regions.\",\n",
    "        \"Most of the country is dominated by the fertile Ganges Delta, the largest river delta in the world.[49] The northwest and central parts of the country are formed by the Madhupur and the Barind plateaus.\",\n",
    "        \"The northeast and southeast are home to evergreen hill ranges.\",\n",
    "        \"Langchain Offers a number of librares\"]\n",
    "\n",
    "vectorstore = InMemoryVectorStore.from_texts(\n",
    "    text,\n",
    "    embedding=embeddings,\n",
    ")\n",
    "\n",
    "# Use the vectorstore as a retriever\n",
    "retriever = vectorstore.as_retriever()\n",
    "\n",
    "# Retrieve the most similar text\n",
    "retrieved_documents = retriever.invoke(\"What is LangChain?\")\n",
    "\n",
    "# show the retrieved document's contents\n",
    "print(retrieved_documents)\n",
    "# retrieve the content\n",
    "print(retrieved_documents[0].page_content)\n",
    "# retrive the second relevant content\n",
    "print(retrieved_documents[1].page_content)\n"
   ]
  },
  {
   "cell_type": "code",
   "execution_count": 29,
   "metadata": {},
   "outputs": [
    {
     "name": "stdout",
     "output_type": "stream",
     "text": [
      "(7, 768)\n"
     ]
    },
    {
     "data": {
      "text/html": [
       "<div>\n",
       "<style scoped>\n",
       "    .dataframe tbody tr th:only-of-type {\n",
       "        vertical-align: middle;\n",
       "    }\n",
       "\n",
       "    .dataframe tbody tr th {\n",
       "        vertical-align: top;\n",
       "    }\n",
       "\n",
       "    .dataframe thead th {\n",
       "        text-align: right;\n",
       "    }\n",
       "</style>\n",
       "<table border=\"1\" class=\"dataframe\">\n",
       "  <thead>\n",
       "    <tr style=\"text-align: right;\">\n",
       "      <th></th>\n",
       "      <th>TSNE1</th>\n",
       "      <th>TSNE2</th>\n",
       "      <th>Class Name</th>\n",
       "    </tr>\n",
       "  </thead>\n",
       "  <tbody>\n",
       "    <tr>\n",
       "      <th>0</th>\n",
       "      <td>22.743429</td>\n",
       "      <td>-6.516947</td>\n",
       "      <td>langchain</td>\n",
       "    </tr>\n",
       "    <tr>\n",
       "      <th>1</th>\n",
       "      <td>0.282942</td>\n",
       "      <td>-36.763226</td>\n",
       "      <td>country</td>\n",
       "    </tr>\n",
       "    <tr>\n",
       "      <th>2</th>\n",
       "      <td>-12.009573</td>\n",
       "      <td>-19.077978</td>\n",
       "      <td>country</td>\n",
       "    </tr>\n",
       "    <tr>\n",
       "      <th>3</th>\n",
       "      <td>-36.839413</td>\n",
       "      <td>-23.293633</td>\n",
       "      <td>country</td>\n",
       "    </tr>\n",
       "    <tr>\n",
       "      <th>4</th>\n",
       "      <td>-31.211071</td>\n",
       "      <td>2.549280</td>\n",
       "      <td>country</td>\n",
       "    </tr>\n",
       "    <tr>\n",
       "      <th>5</th>\n",
       "      <td>-27.236628</td>\n",
       "      <td>-48.470047</td>\n",
       "      <td>country</td>\n",
       "    </tr>\n",
       "    <tr>\n",
       "      <th>6</th>\n",
       "      <td>30.322594</td>\n",
       "      <td>-27.642157</td>\n",
       "      <td>langchain</td>\n",
       "    </tr>\n",
       "  </tbody>\n",
       "</table>\n",
       "</div>"
      ],
      "text/plain": [
       "       TSNE1      TSNE2 Class Name\n",
       "0  22.743429  -6.516947  langchain\n",
       "1   0.282942 -36.763226    country\n",
       "2 -12.009573 -19.077978    country\n",
       "3 -36.839413 -23.293633    country\n",
       "4 -31.211071   2.549280    country\n",
       "5 -27.236628 -48.470047    country\n",
       "6  30.322594 -27.642157  langchain"
      ]
     },
     "execution_count": 29,
     "metadata": {},
     "output_type": "execute_result"
    }
   ],
   "source": [
    "text = [\"LangChain is the framework for building context-aware reasoning applications.\", \n",
    "        \"We love Bangladesh\",\n",
    "        \"Bangladesh is in South Asia on the Bay of Bengal.\",\n",
    "        \"It is surrounded almost entirely by neighbouring India, and shares a small border with Myanmar to its southeast, though it lies very close to Nepal, Bhutan, and China. The country is divided into three regions.\",\n",
    "        \"Most of the country is dominated by the fertile Ganges Delta, the largest river delta in the world.[49] The northwest and central parts of the country are formed by the Madhupur and the Barind plateaus.\",\n",
    "        \"The northeast and southeast are home to evergreen hill ranges.\",\n",
    "        \"Langchain Offers a number of librares\"]\n",
    "label = ['langchain','country','country','country','country','country','langchain']\n",
    "\n",
    "import pandas as pd\n",
    "from sklearn.manifold import TSNE\n",
    "import matplotlib.pyplot as plt\n",
    "import seaborn as sns\n",
    "import numpy as np\n",
    "\n",
    "doc_result = embeddings.embed_documents(text)\n",
    "doc_result = np.array(doc_result)\n",
    "print(doc_result.shape)\n",
    "tsne = TSNE(perplexity=5)\n",
    "tsne_results = tsne.fit_transform(doc_result)\n",
    "\n",
    "df_tsne = pd.DataFrame(tsne_results, columns=['TSNE1', 'TSNE2'])\n",
    "df_tsne['Class Name'] = label # Add labels column from df_train to df_tsne\n",
    "df_tsne"
   ]
  },
  {
   "cell_type": "code",
   "execution_count": 12,
   "metadata": {},
   "outputs": [
    {
     "data": {
      "text/plain": [
       "(7, 768)"
      ]
     },
     "execution_count": 12,
     "metadata": {},
     "output_type": "execute_result"
    }
   ],
   "source": [
    "len(doc_result), len(doc_result[0])"
   ]
  },
  {
   "cell_type": "code",
   "execution_count": 30,
   "metadata": {},
   "outputs": [
    {
     "data": {
      "text/plain": [
       "(np.float64(-40.197513008117674),\n",
       " np.float64(33.680694007873534),\n",
       " np.float64(-51.02101335525513),\n",
       " np.float64(5.100246524810791))"
      ]
     },
     "execution_count": 30,
     "metadata": {},
     "output_type": "execute_result"
    },
    {
     "data": {
      "image/png": "[encoded data removed]",
      "text/plain": [
       "<Figure size 800x600 with 1 Axes>"
      ]
     },
     "metadata": {},
     "output_type": "display_data"
    }
   ],
   "source": [
    "fig, ax = plt.subplots(figsize=(8,6)) # Set figsize\n",
    "sns.set_style('darkgrid', {\"grid.color\": \".6\", \"grid.linestyle\": \":\"})\n",
    "sns.scatterplot(data=df_tsne, x='TSNE1', y='TSNE2', hue='Class Name', palette='hls')\n",
    "sns.move_legend(ax, \"upper left\", bbox_to_anchor=(1, 1))\n",
    "plt.title('Scatter plot of news using t-SNE');\n",
    "plt.xlabel('TSNE1');\n",
    "plt.ylabel('TSNE2');\n",
    "plt.axis('equal')"
   ]
  },
  {
   "cell_type": "code",
   "execution_count": null,
   "metadata": {},
   "outputs": [],
   "source": []
  }
 ],
 "metadata": {
  "kernelspec": {
   "display_name": "env",
   "language": "python",
   "name": "python3"
  },
  "language_info": {
   "codemirror_mode": {
    "name": "ipython",
    "version": 3
   },
   "file_extension": ".py",
   "mimetype": "text/x-python",
   "name": "python",
   "nbconvert_exporter": "python",
   "pygments_lexer": "ipython3",
   "version": "3.12.3"
  }
 },
 "nbformat": 4,
 "nbformat_minor": 2
}
