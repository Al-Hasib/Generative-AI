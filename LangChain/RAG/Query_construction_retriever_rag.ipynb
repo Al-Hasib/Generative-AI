{
 "cells": [
  {
   "cell_type": "markdown",
   "metadata": {},
   "source": [
    "### Query construction\n",
    "\n",
    "Query analysis also can focus on translating natural language queries into specialized query languages or filters. This translation is crucial for effectively interacting with various types of databases that house structured or semi-structured data.\n",
    "\n",
    "Structured Data examples: For relational and graph databases, Domain-Specific Languages (DSLs) are used to query data.\n",
    "\n",
    "Text-to-SQL: Converts natural language to SQL for relational databases.\n",
    "Text-to-Cypher: Converts natural language to Cypher for graph databases.\n",
    "Semi-structured Data examples: For vectorstores, queries can combine semantic search with metadata filtering.\n",
    "\n",
    "Natural Language to Metadata Filters: Converts user queries into appropriate metadata filters.\n",
    "These approaches leverage models to bridge the gap between user intent and the specific query requirements of different data storage systems. Here are some popular techniques:"
   ]
  },
  {
   "cell_type": "markdown",
   "metadata": {},
   "source": [
    "Name\tWhen to Use\tDescription\n",
    "Self Query\tIf users are asking questions that are better answered by fetching documents based on metadata rather than similarity with the text.\tThis uses an LLM to transform user input into two things: (1) a string to look up semantically, (2) a metadata filter to go along with it. This is useful because oftentimes questions are about the METADATA of documents (not the content itself).\n",
    "\n",
    "Text to SQL\tIf users are asking questions that require information housed in a relational database, accessible via SQL.\tThis uses an LLM to transform user input into a SQL query.\n",
    "\n",
    "Text-to-Cypher\tIf users are asking questions that require information housed in a graph database, accessible via Cypher.\tThis uses an LLM to transform user input into a Cypher query."
   ]
  },
  {
   "cell_type": "markdown",
   "metadata": {},
   "source": [
    "https://blog.langchain.dev/query-construction/\n",
    "\n",
    "https://python.langchain.com/docs/how_to/self_query/\n",
    "\n",
    "https://python.langchain.com/docs/tutorials/sql_qa/\n",
    "\n",
    "https://python.langchain.com/docs/tutorials/graph/\n",
    "\n",
    "https://python.langchain.com/docs/tutorials/query_analysis/\n"
   ]
  },
  {
   "cell_type": "markdown",
   "metadata": {},
   "source": []
  }
 ],
 "metadata": {
  "language_info": {
   "name": "python"
  }
 },
 "nbformat": 4,
 "nbformat_minor": 2
}
