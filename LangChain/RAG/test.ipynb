{
 "cells": [
  {
   "cell_type": "code",
   "execution_count": 1,
   "metadata": {},
   "outputs": [
    {
     "name": "stdout",
     "output_type": "stream",
     "text": [
      "  Name of resume holder                     email  is_perfect  is_okay  \\\n",
      "0  Md Abdullah Al Hasib  alhasib.iu.cse@gmail.com       False     True   \n",
      "\n",
      "  Matching Score in percentage  \\\n",
      "0                          75%   \n",
      "\n",
      "                                         strong zone  \\\n",
      "0  Hasib possesses hands-on experience in develop...   \n",
      "\n",
      "                                   Lack of Knowledge  \n",
      "0  While the resume mentions experience with AWS,...  \n"
     ]
    }
   ],
   "source": [
    "import pandas as pd\n",
    "import json\n",
    "\n",
    "# The provided JSON-like string\n",
    "data_str = '''\n",
    "{\n",
    "  \"Name of resume holder\": \"Md Abdullah Al Hasib\",\n",
    "  \"email\": \"alhasib.iu.cse@gmail.com\",\n",
    "  \"is_perfect\": false,\n",
    "  \"is_okay\": true,\n",
    "  \"Matching Score in percentage\": \"75%\",\n",
    "  \"strong zone\": [\n",
    "    \"Hasib possesses hands-on experience in developing, testing, and deploying ML models, aligning with the job's core requirement.\",\n",
    "    \"His proficiency in Python, experience with libraries like Pandas, Scikit-learn, and frameworks like TensorFlow directly match the job's technical needs.\",\n",
    "    \"Hasib's experience with cloud platforms (AWS), Git, and Docker demonstrates his ability to work in the required development environment.\",\n",
    "    \"His projects on License Plate Detection, Sentiment Analysis, and Forest Cover Type Prediction showcase practical ML application skills.\",\n",
    "    \"Hasib's contributions to open-source projects highlight his commitment to the field and ability to collaborate on technical projects.\",\n",
    "    \"His strong understanding of ML algorithms, problem-solving skills, and experience deploying models in production environments are highly valuable.\"\n",
    "  ],\n",
    "  \"Lack of Knowledge\": [\n",
    "    \"While the resume mentions experience with AWS, it lacks specifics about the extent of his cloud computing expertise, which is crucial for the role.\",\n",
    "    \"The resume doesn't explicitly state his experience with SQL databases like Snowflake, PostgreSQL, or MySQL, which is a key requirement. \",\n",
    "    \"Although Hasib has experience with large datasets, his exposure to distributed computing needs to be clearer and might require further assessment.\",\n",
    "    \"While his educational background in Computer Science is relevant, he should consider highlighting coursework or projects related to statistical modeling.\",\n",
    "    \"The resume could benefit from quantifiable achievements in previous roles, demonstrating the impact of his ML contributions.\"\n",
    "  ]\n",
    "}\n",
    "'''\n",
    "\n",
    "# Convert string into Python dictionary\n",
    "data_dict = json.loads(data_str)\n",
    "\n",
    "# Convert dictionary to DataFrame\n",
    "df = pd.DataFrame({\n",
    "    \"Name of resume holder\": [data_dict[\"Name of resume holder\"]],\n",
    "    \"email\": [data_dict[\"email\"]],\n",
    "    \"is_perfect\": [data_dict[\"is_perfect\"]],\n",
    "    \"is_okay\": [data_dict[\"is_okay\"]],\n",
    "    \"Matching Score in percentage\": [data_dict[\"Matching Score in percentage\"]],\n",
    "    \"strong zone\": [\"\\n\".join(data_dict[\"strong zone\"])],  # Join list elements with newline for display\n",
    "    \"Lack of Knowledge\": [\"\\n\".join(data_dict[\"Lack of Knowledge\"])]  # Join list elements with newline for display\n",
    "})\n",
    "\n",
    "# Display the DataFrame\n",
    "print(df)\n"
   ]
  },
  {
   "cell_type": "code",
   "execution_count": 9,
   "metadata": {},
   "outputs": [
    {
     "name": "stdout",
     "output_type": "stream",
     "text": [
      "<class 'str'>\n"
     ]
    },
    {
     "ename": "JSONDecodeError",
     "evalue": "Expecting value: line 1 column 1 (char 0)",
     "output_type": "error",
     "traceback": [
      "\u001b[1;31m---------------------------------------------------------------------------\u001b[0m",
      "\u001b[1;31mJSONDecodeError\u001b[0m                           Traceback (most recent call last)",
      "Cell \u001b[1;32mIn[9], line 133\u001b[0m\n\u001b[0;32m    131\u001b[0m \u001b[38;5;28;01mimport\u001b[39;00m \u001b[38;5;21;01mjson\u001b[39;00m\n\u001b[0;32m    132\u001b[0m \u001b[38;5;66;03m# Convert to DataFrame\u001b[39;00m\n\u001b[1;32m--> 133\u001b[0m data \u001b[38;5;241m=\u001b[39m \u001b[43mjson\u001b[49m\u001b[38;5;241;43m.\u001b[39;49m\u001b[43mloads\u001b[49m\u001b[43m(\u001b[49m\u001b[38;5;28;43mstr\u001b[39;49m\u001b[43m(\u001b[49m\u001b[43mchecker\u001b[49m\u001b[43m)\u001b[49m\u001b[43m)\u001b[49m\n\u001b[0;32m    135\u001b[0m df \u001b[38;5;241m=\u001b[39m pd\u001b[38;5;241m.\u001b[39mDataFrame({\n\u001b[0;32m    136\u001b[0m     \u001b[38;5;124m\"\u001b[39m\u001b[38;5;124mName of resume holder\u001b[39m\u001b[38;5;124m\"\u001b[39m: [data[\u001b[38;5;124m\"\u001b[39m\u001b[38;5;124mName of resume holder\u001b[39m\u001b[38;5;124m\"\u001b[39m]],\n\u001b[0;32m    137\u001b[0m     \u001b[38;5;124m\"\u001b[39m\u001b[38;5;124memail\u001b[39m\u001b[38;5;124m\"\u001b[39m: [data[\u001b[38;5;124m\"\u001b[39m\u001b[38;5;124memail\u001b[39m\u001b[38;5;124m\"\u001b[39m]],\n\u001b[1;32m   (...)\u001b[0m\n\u001b[0;32m    142\u001b[0m     \u001b[38;5;124m\"\u001b[39m\u001b[38;5;124mLack of Knowledge\u001b[39m\u001b[38;5;124m\"\u001b[39m: [\u001b[38;5;124m\"\u001b[39m\u001b[38;5;130;01m\\n\u001b[39;00m\u001b[38;5;124m\"\u001b[39m\u001b[38;5;241m.\u001b[39mjoin(data[\u001b[38;5;124m\"\u001b[39m\u001b[38;5;124mLack of Knowledge\u001b[39m\u001b[38;5;124m\"\u001b[39m])]\n\u001b[0;32m    143\u001b[0m })\n\u001b[0;32m    145\u001b[0m df\u001b[38;5;241m.\u001b[39mto_csv(\u001b[38;5;124m\"\u001b[39m\u001b[38;5;124mresume screening.csv\u001b[39m\u001b[38;5;124m\"\u001b[39m, index\u001b[38;5;241m=\u001b[39m\u001b[38;5;28;01mFalse\u001b[39;00m)\n",
      "File \u001b[1;32m~\\AppData\\Local\\Programs\\Python\\Python312\\Lib\\json\\__init__.py:346\u001b[0m, in \u001b[0;36mloads\u001b[1;34m(s, cls, object_hook, parse_float, parse_int, parse_constant, object_pairs_hook, **kw)\u001b[0m\n\u001b[0;32m    341\u001b[0m     s \u001b[38;5;241m=\u001b[39m s\u001b[38;5;241m.\u001b[39mdecode(detect_encoding(s), \u001b[38;5;124m'\u001b[39m\u001b[38;5;124msurrogatepass\u001b[39m\u001b[38;5;124m'\u001b[39m)\n\u001b[0;32m    343\u001b[0m \u001b[38;5;28;01mif\u001b[39;00m (\u001b[38;5;28mcls\u001b[39m \u001b[38;5;129;01mis\u001b[39;00m \u001b[38;5;28;01mNone\u001b[39;00m \u001b[38;5;129;01mand\u001b[39;00m object_hook \u001b[38;5;129;01mis\u001b[39;00m \u001b[38;5;28;01mNone\u001b[39;00m \u001b[38;5;129;01mand\u001b[39;00m\n\u001b[0;32m    344\u001b[0m         parse_int \u001b[38;5;129;01mis\u001b[39;00m \u001b[38;5;28;01mNone\u001b[39;00m \u001b[38;5;129;01mand\u001b[39;00m parse_float \u001b[38;5;129;01mis\u001b[39;00m \u001b[38;5;28;01mNone\u001b[39;00m \u001b[38;5;129;01mand\u001b[39;00m\n\u001b[0;32m    345\u001b[0m         parse_constant \u001b[38;5;129;01mis\u001b[39;00m \u001b[38;5;28;01mNone\u001b[39;00m \u001b[38;5;129;01mand\u001b[39;00m object_pairs_hook \u001b[38;5;129;01mis\u001b[39;00m \u001b[38;5;28;01mNone\u001b[39;00m \u001b[38;5;129;01mand\u001b[39;00m \u001b[38;5;129;01mnot\u001b[39;00m kw):\n\u001b[1;32m--> 346\u001b[0m     \u001b[38;5;28;01mreturn\u001b[39;00m \u001b[43m_default_decoder\u001b[49m\u001b[38;5;241;43m.\u001b[39;49m\u001b[43mdecode\u001b[49m\u001b[43m(\u001b[49m\u001b[43ms\u001b[49m\u001b[43m)\u001b[49m\n\u001b[0;32m    347\u001b[0m \u001b[38;5;28;01mif\u001b[39;00m \u001b[38;5;28mcls\u001b[39m \u001b[38;5;129;01mis\u001b[39;00m \u001b[38;5;28;01mNone\u001b[39;00m:\n\u001b[0;32m    348\u001b[0m     \u001b[38;5;28mcls\u001b[39m \u001b[38;5;241m=\u001b[39m JSONDecoder\n",
      "File \u001b[1;32m~\\AppData\\Local\\Programs\\Python\\Python312\\Lib\\json\\decoder.py:337\u001b[0m, in \u001b[0;36mJSONDecoder.decode\u001b[1;34m(self, s, _w)\u001b[0m\n\u001b[0;32m    332\u001b[0m \u001b[38;5;28;01mdef\u001b[39;00m \u001b[38;5;21mdecode\u001b[39m(\u001b[38;5;28mself\u001b[39m, s, _w\u001b[38;5;241m=\u001b[39mWHITESPACE\u001b[38;5;241m.\u001b[39mmatch):\n\u001b[0;32m    333\u001b[0m \u001b[38;5;250m    \u001b[39m\u001b[38;5;124;03m\"\"\"Return the Python representation of ``s`` (a ``str`` instance\u001b[39;00m\n\u001b[0;32m    334\u001b[0m \u001b[38;5;124;03m    containing a JSON document).\u001b[39;00m\n\u001b[0;32m    335\u001b[0m \n\u001b[0;32m    336\u001b[0m \u001b[38;5;124;03m    \"\"\"\u001b[39;00m\n\u001b[1;32m--> 337\u001b[0m     obj, end \u001b[38;5;241m=\u001b[39m \u001b[38;5;28;43mself\u001b[39;49m\u001b[38;5;241;43m.\u001b[39;49m\u001b[43mraw_decode\u001b[49m\u001b[43m(\u001b[49m\u001b[43ms\u001b[49m\u001b[43m,\u001b[49m\u001b[43m \u001b[49m\u001b[43midx\u001b[49m\u001b[38;5;241;43m=\u001b[39;49m\u001b[43m_w\u001b[49m\u001b[43m(\u001b[49m\u001b[43ms\u001b[49m\u001b[43m,\u001b[49m\u001b[43m \u001b[49m\u001b[38;5;241;43m0\u001b[39;49m\u001b[43m)\u001b[49m\u001b[38;5;241;43m.\u001b[39;49m\u001b[43mend\u001b[49m\u001b[43m(\u001b[49m\u001b[43m)\u001b[49m\u001b[43m)\u001b[49m\n\u001b[0;32m    338\u001b[0m     end \u001b[38;5;241m=\u001b[39m _w(s, end)\u001b[38;5;241m.\u001b[39mend()\n\u001b[0;32m    339\u001b[0m     \u001b[38;5;28;01mif\u001b[39;00m end \u001b[38;5;241m!=\u001b[39m \u001b[38;5;28mlen\u001b[39m(s):\n",
      "File \u001b[1;32m~\\AppData\\Local\\Programs\\Python\\Python312\\Lib\\json\\decoder.py:355\u001b[0m, in \u001b[0;36mJSONDecoder.raw_decode\u001b[1;34m(self, s, idx)\u001b[0m\n\u001b[0;32m    353\u001b[0m     obj, end \u001b[38;5;241m=\u001b[39m \u001b[38;5;28mself\u001b[39m\u001b[38;5;241m.\u001b[39mscan_once(s, idx)\n\u001b[0;32m    354\u001b[0m \u001b[38;5;28;01mexcept\u001b[39;00m \u001b[38;5;167;01mStopIteration\u001b[39;00m \u001b[38;5;28;01mas\u001b[39;00m err:\n\u001b[1;32m--> 355\u001b[0m     \u001b[38;5;28;01mraise\u001b[39;00m JSONDecodeError(\u001b[38;5;124m\"\u001b[39m\u001b[38;5;124mExpecting value\u001b[39m\u001b[38;5;124m\"\u001b[39m, s, err\u001b[38;5;241m.\u001b[39mvalue) \u001b[38;5;28;01mfrom\u001b[39;00m \u001b[38;5;28;01mNone\u001b[39;00m\n\u001b[0;32m    356\u001b[0m \u001b[38;5;28;01mreturn\u001b[39;00m obj, end\n",
      "\u001b[1;31mJSONDecodeError\u001b[0m: Expecting value: line 1 column 1 (char 0)"
     ]
    }
   ],
   "source": [
    "import os\n",
    "# import streamlit as st\n",
    "from dotenv import load_dotenv\n",
    "from langchain_core.prompts import ChatPromptTemplate\n",
    "from langchain_google_genai import ChatGoogleGenerativeAI\n",
    "import PyPDF2\n",
    "from langchain_core.messages import AIMessage\n",
    "import fitz\n",
    "#pip install pymupdf\n",
    "# import streamlit as st\n",
    "import pandas as pd\n",
    "\n",
    "load_dotenv()\n",
    "\n",
    "api_key = os.getenv(\"GOOGLE_GEN_API\")\n",
    "llm = ChatGoogleGenerativeAI(model=\"gemini-1.5-pro\", api_key=api_key)\n",
    "\n",
    "prompt_template = ChatPromptTemplate.from_messages([\n",
    "    (\"system\", \"You will compare the Resume and Job Description and provide the Output in a JSON format\"),\n",
    "    (\"human\", \"You will take the resume and Job description: \\n \\\n",
    "     Resume: {resume} \\n \\\n",
    "     Job Description: {Job_description} \\n \\\n",
    "     Based on the Job description, does the resume is perfect for the JOB and What's the percentage of Matching the resume against the JOB description. \\\n",
    "     The JSON Output Key will be Name of resume holder, email, is_perfect,is_okay, Matching Score in percentage, strong zone, Lack of Knowledge. Please provide the answer for strong zon and lack of knowledge in string, not list\")\n",
    "])\n",
    "\n",
    "# Function to extract text from PDF\n",
    "def load_pdf(pdf_file):\n",
    "    pdf_document = fitz.open(pdf_file)  # Open the PDF\n",
    "    pdf_text_with_links = \"\"\n",
    "\n",
    "    # Iterate through each page\n",
    "    for page_num in range(pdf_document.page_count):\n",
    "        page = pdf_document.load_page(page_num)  # Load individual page\n",
    "        pdf_text_with_links += page.get_text(\"text\")  # Extract text\n",
    "\n",
    "        # Extract links from the page\n",
    "        links = page.get_links()\n",
    "        for link in links:\n",
    "            if 'uri' in link:  # Check if it's a URI (URL)\n",
    "                pdf_text_with_links += f\"\\n(Link: {link['uri']})\"\n",
    "    \n",
    "    return pdf_text_with_links\n",
    "def parser(aimessage:AIMessage)->str:\n",
    "    return aimessage.content\n",
    "\n",
    "\n",
    "# Function to generate quiz using LangChain\n",
    "def resume_checker(resume, job_description):\n",
    "    Chain = prompt_template | llm | parser\n",
    "    result = Chain.invoke({\"resume\":resume, \"Job_description\":job_description})\n",
    "    return result\n",
    "\n",
    "resume = load_pdf(r\"C:\\Users\\abdullah\\projects\\Langchain\\Generative-AI\\LangChain\\RAG\\data\\My_CV_2.pdf\")\n",
    "# print(resume)\n",
    "\n",
    "Job_description = \"\"\" Job Responsibilities\n",
    "\n",
    " Leverage cutting-edge AI/ML methods to develop AI/ML-powered solutions that align with business objectives.\n",
    " Prepare dataset/data-pipeline to feed into the machine learning models.\n",
    " Optimize ML applications to improve performance, speed, and scalability\n",
    " Work with internal stakeholders, analysts, engineers to explore and understand business data.\n",
    " Conduct experiments and test different technical approaches\n",
    " Collaborate with the data engineering team to ensure clean records\n",
    " Implement machine learning model lifecycle management framework.\n",
    " Build/maintain model performance tracking tools, to monitor model performance, identify drivers and provide recommendations for optimization\n",
    " Author technical documentation and reports to communicate process and results\n",
    "\n",
    "Knowledge And Experience\n",
    "\n",
    "Minimum qualifications:\n",
    "\n",
    " 1 to 4 years of hands-on experience in machine learning models, applications, and pipelines. \n",
    " Experience in developing, testing, debugging, maintaining, or launching ML products, as well as software design and architecture. \n",
    " Proficiency in one or more programming languages (preferably Python). \n",
    " Working knowledge of one or more SQL languages (preferably Snowflake, PostgreSQL, MySQL). \n",
    " Knowledge of common machine learning and statistical packages, frameworks, and concepts. \n",
    " Experience/knowledge of working with large data sets, distributed computing, and cloud computing platforms. \n",
    " Experience using CI/CD tools and version control systems (e.g., Git). \n",
    " Excellent written and verbal communication skills in English. \n",
    "\n",
    "Preferred qualifications:\n",
    "\n",
    " Strong understanding of machine learning algorithms and their practical implementation. \n",
    " Excellent problem-solving skills and the ability to translate business requirements into technical solutions. \n",
    " Experience deploying machine learning models in production environments. \n",
    " Excellent analytical and problem-solving skills with keen attention to detail. \n",
    " A team-oriented mindset, believing that AI/ML is a collaborative effort. \n",
    "\n",
    "Education\n",
    "\n",
    "Bachelor’s degree in Computer Science, Mathematics, Statistics, Physics, or a related field with project experience in machine learning and statistical modeling.\n",
    "\n",
    "Competencies\n",
    "\n",
    "Driving Continuous Improvement\n",
    "\n",
    "Driving for Results\n",
    "\n",
    "Driving Projects to Completion\n",
    "\n",
    "Interacting with People at Different Levels\n",
    "\n",
    "Using Computers and Technology\n",
    "\"\"\"\n",
    "\n",
    "# print(llm.invoke(\"How can i create an application for resume checking for any JOB descrition\"))\n",
    "# checker = resume_checker(resume=resume, job_description=Job_description)\n",
    "# print(checker)\n",
    "\n",
    "# st.title(\"Resume Screening Project\")\n",
    "\n",
    "# File uploader\n",
    "# uploaded_file = st.file_uploader(\"Upload a PDF file \", type=\"pdf\")\n",
    "# # print(uploaded_file)\n",
    "# st.write(load_pdf(uploaded_file))\n",
    "\n",
    "# pdf_path = st.text_input(\"Enter the path of the Resume\")\n",
    "# resume = (load_pdf(resume))\n",
    "# st.write(resume)\n",
    "\n",
    "# Create a large text area for user input\n",
    "# Job_description = st.text_area(\"Enter Job Description:\", height=300)\n",
    "# st.write(Job_description)\n",
    "\n",
    "checker = resume_checker(resume=resume, job_description=Job_description)\n",
    "\n",
    "print(type(checker))\n",
    "\n",
    "# st.write(checker)\n",
    "import json\n",
    "# Convert to DataFrame\n",
    "data = json.loads(str(checker))\n",
    "\n",
    "df = pd.DataFrame({\n",
    "    \"Name of resume holder\": [data[\"Name of resume holder\"]],\n",
    "    \"email\": [data[\"email\"]],\n",
    "    \"is_perfect\": [data[\"is_perfect\"]],\n",
    "    \"is_okay\": [data[\"is_okay\"]],\n",
    "    \"Matching Score in percentage\": [data[\"Matching Score in percentage\"]],\n",
    "    \"strong zone\": [\"\\n\".join(data[\"strong zone\"])],\n",
    "    \"Lack of Knowledge\": [\"\\n\".join(data[\"Lack of Knowledge\"])]\n",
    "})\n",
    "\n",
    "df.to_csv(\"resume screening.csv\", index=False)\n",
    "\n",
    "# Display the dataframe\n",
    "# st.write(df)"
   ]
  },
  {
   "cell_type": "code",
   "execution_count": 10,
   "metadata": {},
   "outputs": [
    {
     "name": "stdout",
     "output_type": "stream",
     "text": [
      "```json\n",
      "{\n",
      "  \"Name of resume holder\": \"Md Abdullah Al Hasib\",\n",
      "  \"email\": \"alhasib.iu.cse@gmail.com\",\n",
      "  \"is_perfect\": false,\n",
      "  \"is_okay\": true,\n",
      "  \"Matching Score in percentage\": \"75%\",\n",
      "  \"strong zone\": \"Md Abdullah Al Hasib has a strong background in machine learning, deep learning, and computer vision as evidenced by his projects and experience. He is proficient in Python and familiar with various ML libraries and frameworks. His experience with cloud platforms and tools like Docker aligns well with the job requirements. Additionally, his contributions to open-source projects and leadership experience demonstrate his commitment to the field and his ability to work in a team. \",\n",
      "  \"Lack of Knowledge\": \"While he possesses some experience, explicitly stating his experience with SQL databases (Snowflake, PostgreSQL, MySQL) in the context of data analysis and machine learning would strengthen his application.  Further, elaborating on experience with CI/CD tools and version control systems like Git, and how they were used in deploying machine learning models would be beneficial.\"\n",
      "}\n",
      "```\n"
     ]
    }
   ],
   "source": [
    "print(checker)"
   ]
  },
  {
   "cell_type": "code",
   "execution_count": 11,
   "metadata": {},
   "outputs": [
    {
     "name": "stdout",
     "output_type": "stream",
     "text": [
      "```json\n",
      "{\n",
      "  \"Name of resume holder\": \"Md Abdullah Al Hasib\",\n",
      "  \"email\": \"alhasib.iu.cse@gmail.com\",\n",
      "  \"is_perfect\": false,\n",
      "  \"is_okay\": true,\n",
      "  \"Matching Score in percentage\": \"75%\",\n",
      "  \"strong zone\": \"Md Abdullah Al Hasib has a strong background in machine learning, deep learning, and computer vision as evidenced by his projects and experience. He is proficient in Python and familiar with various ML libraries and frameworks. His experience with cloud platforms and tools like Docker aligns well with the job requirements. Additionally, his contributions to open-source projects and leadership experience demonstrate his commitment to the field and his ability to work in a team. \",\n",
      "  \"Lack of Knowledge\": \"While he possesses some experience, explicitly stating his experience with SQL databases (Snowflake, PostgreSQL, MySQL) in the context of data analysis and machine learning would strengthen his application.  Further, elaborating on experience with CI/CD tools and version control systems like Git, and how they were used in deploying machine learning models would be beneficial.\"\n",
      "}\n",
      "```\n"
     ]
    }
   ],
   "source": [
    "print(str(checker))"
   ]
  },
  {
   "cell_type": "code",
   "execution_count": 21,
   "metadata": {},
   "outputs": [
    {
     "data": {
      "text/plain": [
       "'\\n{\\n  \"Name of resume holder\": \"Md Abdullah Al Hasib\",\\n  \"email\": \"alhasib.iu.cse@gmail.com\",\\n  \"is_perfect\": false,\\n  \"is_okay\": true,\\n  \"Matching Score in percentage\": \"75%\",\\n  \"strong zone\": \"Md Abdullah Al Hasib has a strong background in machine learning, deep learning, and computer vision as evidenced by his projects and experience. He is proficient in Python and familiar with various ML libraries and frameworks. His experience with cloud platforms and tools like Docker aligns well with the job requirements. Additionally, his contributions to open-source projects and leadership experience demonstrate his commitment to the field and his ability to work in a team. \",\\n  \"Lack of Knowledge\": \"While he possesses some experience, explicitly stating his experience with SQL databases (Snowflake, PostgreSQL, MySQL) in the context of data analysis and machine learning would strengthen his application.  Further, elaborating on experience with CI/CD tools and version control systems like Git, and how they were used in deploying machine learning models would be beneficial.\"\\n}\\n'"
      ]
     },
     "execution_count": 21,
     "metadata": {},
     "output_type": "execute_result"
    }
   ],
   "source": [
    "# Replace ``` with \"\"\" and remove json\n",
    "x = checker.replace('```json', \"\").replace('```', \"\")\n",
    "x"
   ]
  },
  {
   "cell_type": "code",
   "execution_count": 16,
   "metadata": {},
   "outputs": [
    {
     "data": {
      "text/plain": [
       "').replace(\\'```\\', \\n{\\n  \"Name of resume holder\": \"Md Abdullah Al Hasib\",\\n  \"email\": \"alhasib.iu.cse@gmail.com\",\\n  \"is_perfect\": false,\\n  \"is_okay\": true,\\n  \"Matching Score in percentage\": \"75%\",\\n  \"strong zone\": \"Md Abdullah Al Hasib has a strong background in machine learning, deep learning, and computer vision as evidenced by his projects and experience. He is proficient in Python and familiar with various ML libraries and frameworks. His experience with cloud platforms and tools like Docker aligns well with the job requirements. Additionally, his contributions to open-source projects and leadership experience demonstrate his commitment to the field and his ability to work in a team. \",\\n  \"Lack of Knowledge\": \"While he possesses some experience, explicitly stating his experience with SQL databases (Snowflake, PostgreSQL, MySQL) in the context of data analysis and machine learning would strengthen his application.  Further, elaborating on experience with CI/CD tools and version control systems like Git, and how they were used in deploying machine learning models would be beneficial.\"\\n}\\n```'"
      ]
     },
     "execution_count": 16,
     "metadata": {},
     "output_type": "execute_result"
    }
   ],
   "source": [
    "x"
   ]
  },
  {
   "cell_type": "code",
   "execution_count": 24,
   "metadata": {},
   "outputs": [],
   "source": [
    "xx = json.loads(x)\n",
    "data = xx"
   ]
  },
  {
   "cell_type": "code",
   "execution_count": 25,
   "metadata": {},
   "outputs": [
    {
     "name": "stdout",
     "output_type": "stream",
     "text": [
      "  Name of resume holder                     email  is_perfect  is_okay  \\\n",
      "0  Md Abdullah Al Hasib  alhasib.iu.cse@gmail.com       False     True   \n",
      "\n",
      "  Matching Score in percentage  \\\n",
      "0                          75%   \n",
      "\n",
      "                                         strong zone  \\\n",
      "0  Md Abdullah Al Hasib has a strong background i...   \n",
      "\n",
      "                                   Lack of Knowledge  \n",
      "0  While he possesses some experience, explicitly...  \n"
     ]
    }
   ],
   "source": [
    "# Create a DataFrame from the dictionary\n",
    "df = pd.DataFrame({\n",
    "    \"Name of resume holder\": [data[\"Name of resume holder\"]],\n",
    "    \"email\": [data[\"email\"]],\n",
    "    \"is_perfect\": [data[\"is_perfect\"]],\n",
    "    \"is_okay\": [data[\"is_okay\"]],\n",
    "    \"Matching Score in percentage\": [data[\"Matching Score in percentage\"]],\n",
    "    \"strong zone\": [data[\"strong zone\"]],\n",
    "    \"Lack of Knowledge\": [data[\"Lack of Knowledge\"]]\n",
    "})\n",
    "\n",
    "# Display the DataFrame\n",
    "print(df)"
   ]
  },
  {
   "cell_type": "code",
   "execution_count": 26,
   "metadata": {},
   "outputs": [],
   "source": [
    "df.to_csv('resume_screening.csv', index=False)"
   ]
  },
  {
   "cell_type": "code",
   "execution_count": 27,
   "metadata": {},
   "outputs": [
    {
     "name": "stdout",
     "output_type": "stream",
     "text": [
      "  Name of resume holder                     email  is_perfect  is_okay  \\\n",
      "0  Md Abdullah Al Hasib  alhasib.iu.cse@gmail.com       False     True   \n",
      "1  Md Abdullah Al Hasib  alhasib.iu.cse@gmail.com       False     True   \n",
      "2  Md Abdullah Al Hasib  alhasib.iu.cse@gmail.com       False     True   \n",
      "3  Md Abdullah Al Hasib  alhasib.iu.cse@gmail.com       False     True   \n",
      "\n",
      "  Matching Score in percentage  \\\n",
      "0                          75%   \n",
      "1                          75%   \n",
      "2                          75%   \n",
      "3                          75%   \n",
      "\n",
      "                                         strong zone  \\\n",
      "0  Md Abdullah Al Hasib has a strong background i...   \n",
      "1  Md Abdullah Al Hasib has a strong background i...   \n",
      "2  Md Abdullah Al Hasib has a strong background i...   \n",
      "3  Md Abdullah Al Hasib has a strong background i...   \n",
      "\n",
      "                                   Lack of Knowledge  \n",
      "0  While he possesses some experience, explicitly...  \n",
      "1  While he possesses some experience, explicitly...  \n",
      "2  While he possesses some experience, explicitly...  \n",
      "3  While he possesses some experience, explicitly...  \n"
     ]
    }
   ],
   "source": [
    "import pandas as pd\n",
    "import json\n",
    "\n",
    "# Initialize a list to hold the data\n",
    "data_list = []\n",
    "\n",
    "# JSON string to add in each iteration\n",
    "json_string = '''{\n",
    "  \"Name of resume holder\": \"Md Abdullah Al Hasib\",\n",
    "  \"email\": \"alhasib.iu.cse@gmail.com\",\n",
    "  \"is_perfect\": false,\n",
    "  \"is_okay\": true,\n",
    "  \"Matching Score in percentage\": \"75%\",\n",
    "  \"strong zone\": \"Md Abdullah Al Hasib has a strong background in machine learning, deep learning, and computer vision as evidenced by his projects and experience. He is proficient in Python and familiar with various ML libraries and frameworks. His experience with cloud platforms and tools like Docker aligns well with the job requirements. Additionally, his contributions to open-source projects and leadership experience demonstrate his commitment to the field and his ability to work in a team.\",\n",
    "  \"Lack of Knowledge\": \"While he possesses some experience, explicitly stating his experience with SQL databases (Snowflake, PostgreSQL, MySQL) in the context of data analysis and machine learning would strengthen his application. Further, elaborating on experience with CI/CD tools and version control systems like Git, and how they were used in deploying machine learning models would be beneficial.\"\n",
    "}'''\n",
    "\n",
    "# Loop to add the data multiple times\n",
    "for i in range(4):\n",
    "    # Parse the JSON string to a dictionary\n",
    "    data_dict = json.loads(json_string)\n",
    "    data_list.append(data_dict)\n",
    "\n",
    "# Create a DataFrame from the list of dictionaries\n",
    "df = pd.DataFrame(data_list)\n",
    "\n",
    "# Display the DataFrame\n",
    "print(df)\n",
    "\n",
    "# Optionally, save to CSV\n",
    "df.to_csv(\"resume_data.csv\", index=False)\n"
   ]
  },
  {
   "cell_type": "code",
   "execution_count": null,
   "metadata": {},
   "outputs": [],
   "source": [
    "'''\n",
    "Job_description = \"\"\" Job Responsibilities\n",
    "\n",
    " Leverage cutting-edge AI/ML methods to develop AI/ML-powered solutions that align with business objectives.\n",
    " Prepare dataset/data-pipeline to feed into the machine learning models.\n",
    " Optimize ML applications to improve performance, speed, and scalability\n",
    " Work with internal stakeholders, analysts, engineers to explore and understand business data.\n",
    " Conduct experiments and test different technical approaches\n",
    " Collaborate with the data engineering team to ensure clean records\n",
    " Implement machine learning model lifecycle management framework.\n",
    " Build/maintain model performance tracking tools, to monitor model performance, identify drivers and provide recommendations for optimization\n",
    " Author technical documentation and reports to communicate process and results\n",
    "\n",
    "Knowledge And Experience\n",
    "\n",
    "Minimum qualifications:\n",
    "\n",
    " 1 to 4 years of hands-on experience in machine learning models, applications, and pipelines. \n",
    " Experience in developing, testing, debugging, maintaining, or launching ML products, as well as software design and architecture. \n",
    " Proficiency in one or more programming languages (preferably Python). \n",
    " Working knowledge of one or more SQL languages (preferably Snowflake, PostgreSQL, MySQL). \n",
    " Knowledge of common machine learning and statistical packages, frameworks, and concepts. \n",
    " Experience/knowledge of working with large data sets, distributed computing, and cloud computing platforms. \n",
    " Experience using CI/CD tools and version control systems (e.g., Git). \n",
    " Excellent written and verbal communication skills in English. \n",
    "\n",
    "Preferred qualifications:\n",
    "\n",
    " Strong understanding of machine learning algorithms and their practical implementation. \n",
    " Excellent problem-solving skills and the ability to translate business requirements into technical solutions. \n",
    " Experience deploying machine learning models in production environments. \n",
    " Excellent analytical and problem-solving skills with keen attention to detail. \n",
    " A team-oriented mindset, believing that AI/ML is a collaborative effort. \n",
    "\n",
    "Education\n",
    "\n",
    "Bachelor’s degree in Computer Science, Mathematics, Statistics, Physics, or a related field with project experience in machine learning and statistical modeling.\n",
    "\n",
    "Competencies\n",
    "\n",
    "Driving Continuous Improvement\n",
    "\n",
    "Driving for Results\n",
    "\n",
    "Driving Projects to Completion\n",
    "\n",
    "Interacting with People at Different Levels\n",
    "\n",
    "Using Computers and Technology \n",
    "\"\"\"\n",
    "'''\n",
    "\n",
    "\n",
    "#resume = load_pdf(r\"C:\\Users\\abdullah\\projects\\Langchain\\Generative-AI\\LangChain\\RAG\\data\\My_CV_2.pdf\")\n",
    "# print(resume)\n",
    "\n"
   ]
  },
  {
   "cell_type": "code",
   "execution_count": 2,
   "metadata": {},
   "outputs": [
    {
     "ename": "ConnectionRefusedError",
     "evalue": "[WinError 10061] No connection could be made because the target machine actively refused it",
     "output_type": "error",
     "traceback": [
      "\u001b[1;31m---------------------------------------------------------------------------\u001b[0m",
      "\u001b[1;31mConnectionRefusedError\u001b[0m                    Traceback (most recent call last)",
      "Cell \u001b[1;32mIn[2], line 20\u001b[0m\n\u001b[0;32m     16\u001b[0m msg[\u001b[38;5;124m'\u001b[39m\u001b[38;5;124mFrom\u001b[39m\u001b[38;5;124m'\u001b[39m] \u001b[38;5;241m=\u001b[39m \u001b[38;5;124m'\u001b[39m\u001b[38;5;124mmdabdullahalhasib1111@gmail.com\u001b[39m\u001b[38;5;124m'\u001b[39m\n\u001b[0;32m     18\u001b[0m \u001b[38;5;66;03m# Send the message via our own SMTP server, but don't include the\u001b[39;00m\n\u001b[0;32m     19\u001b[0m \u001b[38;5;66;03m# envelope header.\u001b[39;00m\n\u001b[1;32m---> 20\u001b[0m s \u001b[38;5;241m=\u001b[39m \u001b[43msmtplib\u001b[49m\u001b[38;5;241;43m.\u001b[39;49m\u001b[43mSMTP\u001b[49m\u001b[43m(\u001b[49m\u001b[38;5;124;43m'\u001b[39;49m\u001b[38;5;124;43mlocalhost\u001b[39;49m\u001b[38;5;124;43m'\u001b[39;49m\u001b[43m)\u001b[49m\n\u001b[0;32m     21\u001b[0m s\u001b[38;5;241m.\u001b[39msendmail(me, [you], msg\u001b[38;5;241m.\u001b[39mas_string())\n\u001b[0;32m     22\u001b[0m s\u001b[38;5;241m.\u001b[39mquit()\n",
      "File \u001b[1;32m~\\AppData\\Local\\Programs\\Python\\Python312\\Lib\\smtplib.py:255\u001b[0m, in \u001b[0;36mSMTP.__init__\u001b[1;34m(self, host, port, local_hostname, timeout, source_address)\u001b[0m\n\u001b[0;32m    252\u001b[0m \u001b[38;5;28mself\u001b[39m\u001b[38;5;241m.\u001b[39m_auth_challenge_count \u001b[38;5;241m=\u001b[39m \u001b[38;5;241m0\u001b[39m\n\u001b[0;32m    254\u001b[0m \u001b[38;5;28;01mif\u001b[39;00m host:\n\u001b[1;32m--> 255\u001b[0m     (code, msg) \u001b[38;5;241m=\u001b[39m \u001b[38;5;28;43mself\u001b[39;49m\u001b[38;5;241;43m.\u001b[39;49m\u001b[43mconnect\u001b[49m\u001b[43m(\u001b[49m\u001b[43mhost\u001b[49m\u001b[43m,\u001b[49m\u001b[43m \u001b[49m\u001b[43mport\u001b[49m\u001b[43m)\u001b[49m\n\u001b[0;32m    256\u001b[0m     \u001b[38;5;28;01mif\u001b[39;00m code \u001b[38;5;241m!=\u001b[39m \u001b[38;5;241m220\u001b[39m:\n\u001b[0;32m    257\u001b[0m         \u001b[38;5;28mself\u001b[39m\u001b[38;5;241m.\u001b[39mclose()\n",
      "File \u001b[1;32m~\\AppData\\Local\\Programs\\Python\\Python312\\Lib\\smtplib.py:341\u001b[0m, in \u001b[0;36mSMTP.connect\u001b[1;34m(self, host, port, source_address)\u001b[0m\n\u001b[0;32m    339\u001b[0m     port \u001b[38;5;241m=\u001b[39m \u001b[38;5;28mself\u001b[39m\u001b[38;5;241m.\u001b[39mdefault_port\n\u001b[0;32m    340\u001b[0m sys\u001b[38;5;241m.\u001b[39maudit(\u001b[38;5;124m\"\u001b[39m\u001b[38;5;124msmtplib.connect\u001b[39m\u001b[38;5;124m\"\u001b[39m, \u001b[38;5;28mself\u001b[39m, host, port)\n\u001b[1;32m--> 341\u001b[0m \u001b[38;5;28mself\u001b[39m\u001b[38;5;241m.\u001b[39msock \u001b[38;5;241m=\u001b[39m \u001b[38;5;28;43mself\u001b[39;49m\u001b[38;5;241;43m.\u001b[39;49m\u001b[43m_get_socket\u001b[49m\u001b[43m(\u001b[49m\u001b[43mhost\u001b[49m\u001b[43m,\u001b[49m\u001b[43m \u001b[49m\u001b[43mport\u001b[49m\u001b[43m,\u001b[49m\u001b[43m \u001b[49m\u001b[38;5;28;43mself\u001b[39;49m\u001b[38;5;241;43m.\u001b[39;49m\u001b[43mtimeout\u001b[49m\u001b[43m)\u001b[49m\n\u001b[0;32m    342\u001b[0m \u001b[38;5;28mself\u001b[39m\u001b[38;5;241m.\u001b[39mfile \u001b[38;5;241m=\u001b[39m \u001b[38;5;28;01mNone\u001b[39;00m\n\u001b[0;32m    343\u001b[0m (code, msg) \u001b[38;5;241m=\u001b[39m \u001b[38;5;28mself\u001b[39m\u001b[38;5;241m.\u001b[39mgetreply()\n",
      "File \u001b[1;32m~\\AppData\\Local\\Programs\\Python\\Python312\\Lib\\smtplib.py:312\u001b[0m, in \u001b[0;36mSMTP._get_socket\u001b[1;34m(self, host, port, timeout)\u001b[0m\n\u001b[0;32m    310\u001b[0m \u001b[38;5;28;01mif\u001b[39;00m \u001b[38;5;28mself\u001b[39m\u001b[38;5;241m.\u001b[39mdebuglevel \u001b[38;5;241m>\u001b[39m \u001b[38;5;241m0\u001b[39m:\n\u001b[0;32m    311\u001b[0m     \u001b[38;5;28mself\u001b[39m\u001b[38;5;241m.\u001b[39m_print_debug(\u001b[38;5;124m'\u001b[39m\u001b[38;5;124mconnect: to\u001b[39m\u001b[38;5;124m'\u001b[39m, (host, port), \u001b[38;5;28mself\u001b[39m\u001b[38;5;241m.\u001b[39msource_address)\n\u001b[1;32m--> 312\u001b[0m \u001b[38;5;28;01mreturn\u001b[39;00m \u001b[43msocket\u001b[49m\u001b[38;5;241;43m.\u001b[39;49m\u001b[43mcreate_connection\u001b[49m\u001b[43m(\u001b[49m\u001b[43m(\u001b[49m\u001b[43mhost\u001b[49m\u001b[43m,\u001b[49m\u001b[43m \u001b[49m\u001b[43mport\u001b[49m\u001b[43m)\u001b[49m\u001b[43m,\u001b[49m\u001b[43m \u001b[49m\u001b[43mtimeout\u001b[49m\u001b[43m,\u001b[49m\n\u001b[0;32m    313\u001b[0m \u001b[43m                                \u001b[49m\u001b[38;5;28;43mself\u001b[39;49m\u001b[38;5;241;43m.\u001b[39;49m\u001b[43msource_address\u001b[49m\u001b[43m)\u001b[49m\n",
      "File \u001b[1;32m~\\AppData\\Local\\Programs\\Python\\Python312\\Lib\\socket.py:852\u001b[0m, in \u001b[0;36mcreate_connection\u001b[1;34m(address, timeout, source_address, all_errors)\u001b[0m\n\u001b[0;32m    850\u001b[0m \u001b[38;5;28;01mtry\u001b[39;00m:\n\u001b[0;32m    851\u001b[0m     \u001b[38;5;28;01mif\u001b[39;00m \u001b[38;5;129;01mnot\u001b[39;00m all_errors:\n\u001b[1;32m--> 852\u001b[0m         \u001b[38;5;28;01mraise\u001b[39;00m exceptions[\u001b[38;5;241m0\u001b[39m]\n\u001b[0;32m    853\u001b[0m     \u001b[38;5;28;01mraise\u001b[39;00m ExceptionGroup(\u001b[38;5;124m\"\u001b[39m\u001b[38;5;124mcreate_connection failed\u001b[39m\u001b[38;5;124m\"\u001b[39m, exceptions)\n\u001b[0;32m    854\u001b[0m \u001b[38;5;28;01mfinally\u001b[39;00m:\n\u001b[0;32m    855\u001b[0m     \u001b[38;5;66;03m# Break explicitly a reference cycle\u001b[39;00m\n",
      "File \u001b[1;32m~\\AppData\\Local\\Programs\\Python\\Python312\\Lib\\socket.py:837\u001b[0m, in \u001b[0;36mcreate_connection\u001b[1;34m(address, timeout, source_address, all_errors)\u001b[0m\n\u001b[0;32m    835\u001b[0m \u001b[38;5;28;01mif\u001b[39;00m source_address:\n\u001b[0;32m    836\u001b[0m     sock\u001b[38;5;241m.\u001b[39mbind(source_address)\n\u001b[1;32m--> 837\u001b[0m \u001b[43msock\u001b[49m\u001b[38;5;241;43m.\u001b[39;49m\u001b[43mconnect\u001b[49m\u001b[43m(\u001b[49m\u001b[43msa\u001b[49m\u001b[43m)\u001b[49m\n\u001b[0;32m    838\u001b[0m \u001b[38;5;66;03m# Break explicitly a reference cycle\u001b[39;00m\n\u001b[0;32m    839\u001b[0m exceptions\u001b[38;5;241m.\u001b[39mclear()\n",
      "\u001b[1;31mConnectionRefusedError\u001b[0m: [WinError 10061] No connection could be made because the target machine actively refused it"
     ]
    }
   ],
   "source": [
    "# Import smtplib for the actual sending function\n",
    "import smtplib\n",
    "\n",
    "# Import the email modules we'll need\n",
    "from email.mime.text import MIMEText\n",
    "\n",
    "# Open a plain text file for reading.  For this example, assume that\n",
    "# the text file contains only ASCII characters.\n",
    "\n",
    "msg = MIMEText(\"Hi how are you?\")\n",
    "\n",
    "you ='alhasib.iu.cse@gmail.com'\n",
    "me ='mdabdullahalhasib1111@gmail.com'\n",
    "msg['Subject'] = 'The contents of'\n",
    "msg['To'] = 'alhasib.iu.cse@gmail.com'\n",
    "msg['From'] = 'mdabdullahalhasib1111@gmail.com'\n",
    "\n",
    "# Send the message via our own SMTP server, but don't include the\n",
    "# envelope header.\n",
    "s = smtplib.SMTP('localhost')\n",
    "s.sendmail(me, [you], msg.as_string())\n",
    "s.quit()"
   ]
  },
  {
   "cell_type": "code",
   "execution_count": 4,
   "metadata": {},
   "outputs": [
    {
     "ename": "gaierror",
     "evalue": "[Errno 11001] getaddrinfo failed",
     "output_type": "error",
     "traceback": [
      "\u001b[1;31m---------------------------------------------------------------------------\u001b[0m",
      "\u001b[1;31mgaierror\u001b[0m                                  Traceback (most recent call last)",
      "Cell \u001b[1;32mIn[4], line 21\u001b[0m\n\u001b[0;32m     18\u001b[0m your_password \u001b[38;5;241m=\u001b[39m \u001b[38;5;124m'\u001b[39m\u001b[38;5;124m5a6b7c8d\u001b[39m\u001b[38;5;124m'\u001b[39m  \u001b[38;5;66;03m# Replace with your email password\u001b[39;00m\n\u001b[0;32m     20\u001b[0m \u001b[38;5;66;03m# Step 3: Establish a connection to the SMTP server\u001b[39;00m\n\u001b[1;32m---> 21\u001b[0m server \u001b[38;5;241m=\u001b[39m \u001b[43msmtplib\u001b[49m\u001b[38;5;241;43m.\u001b[39;49m\u001b[43mSMTP\u001b[49m\u001b[43m(\u001b[49m\u001b[43msmtp_server\u001b[49m\u001b[43m,\u001b[49m\u001b[43m \u001b[49m\u001b[43msmtp_port\u001b[49m\u001b[43m)\u001b[49m\n\u001b[0;32m     22\u001b[0m server\u001b[38;5;241m.\u001b[39mstarttls()  \u001b[38;5;66;03m# Secure the connection\u001b[39;00m\n\u001b[0;32m     23\u001b[0m server\u001b[38;5;241m.\u001b[39mlogin(your_email, your_password)\n",
      "File \u001b[1;32m~\\AppData\\Local\\Programs\\Python\\Python312\\Lib\\smtplib.py:255\u001b[0m, in \u001b[0;36mSMTP.__init__\u001b[1;34m(self, host, port, local_hostname, timeout, source_address)\u001b[0m\n\u001b[0;32m    252\u001b[0m \u001b[38;5;28mself\u001b[39m\u001b[38;5;241m.\u001b[39m_auth_challenge_count \u001b[38;5;241m=\u001b[39m \u001b[38;5;241m0\u001b[39m\n\u001b[0;32m    254\u001b[0m \u001b[38;5;28;01mif\u001b[39;00m host:\n\u001b[1;32m--> 255\u001b[0m     (code, msg) \u001b[38;5;241m=\u001b[39m \u001b[38;5;28;43mself\u001b[39;49m\u001b[38;5;241;43m.\u001b[39;49m\u001b[43mconnect\u001b[49m\u001b[43m(\u001b[49m\u001b[43mhost\u001b[49m\u001b[43m,\u001b[49m\u001b[43m \u001b[49m\u001b[43mport\u001b[49m\u001b[43m)\u001b[49m\n\u001b[0;32m    256\u001b[0m     \u001b[38;5;28;01mif\u001b[39;00m code \u001b[38;5;241m!=\u001b[39m \u001b[38;5;241m220\u001b[39m:\n\u001b[0;32m    257\u001b[0m         \u001b[38;5;28mself\u001b[39m\u001b[38;5;241m.\u001b[39mclose()\n",
      "File \u001b[1;32m~\\AppData\\Local\\Programs\\Python\\Python312\\Lib\\smtplib.py:341\u001b[0m, in \u001b[0;36mSMTP.connect\u001b[1;34m(self, host, port, source_address)\u001b[0m\n\u001b[0;32m    339\u001b[0m     port \u001b[38;5;241m=\u001b[39m \u001b[38;5;28mself\u001b[39m\u001b[38;5;241m.\u001b[39mdefault_port\n\u001b[0;32m    340\u001b[0m sys\u001b[38;5;241m.\u001b[39maudit(\u001b[38;5;124m\"\u001b[39m\u001b[38;5;124msmtplib.connect\u001b[39m\u001b[38;5;124m\"\u001b[39m, \u001b[38;5;28mself\u001b[39m, host, port)\n\u001b[1;32m--> 341\u001b[0m \u001b[38;5;28mself\u001b[39m\u001b[38;5;241m.\u001b[39msock \u001b[38;5;241m=\u001b[39m \u001b[38;5;28;43mself\u001b[39;49m\u001b[38;5;241;43m.\u001b[39;49m\u001b[43m_get_socket\u001b[49m\u001b[43m(\u001b[49m\u001b[43mhost\u001b[49m\u001b[43m,\u001b[49m\u001b[43m \u001b[49m\u001b[43mport\u001b[49m\u001b[43m,\u001b[49m\u001b[43m \u001b[49m\u001b[38;5;28;43mself\u001b[39;49m\u001b[38;5;241;43m.\u001b[39;49m\u001b[43mtimeout\u001b[49m\u001b[43m)\u001b[49m\n\u001b[0;32m    342\u001b[0m \u001b[38;5;28mself\u001b[39m\u001b[38;5;241m.\u001b[39mfile \u001b[38;5;241m=\u001b[39m \u001b[38;5;28;01mNone\u001b[39;00m\n\u001b[0;32m    343\u001b[0m (code, msg) \u001b[38;5;241m=\u001b[39m \u001b[38;5;28mself\u001b[39m\u001b[38;5;241m.\u001b[39mgetreply()\n",
      "File \u001b[1;32m~\\AppData\\Local\\Programs\\Python\\Python312\\Lib\\smtplib.py:312\u001b[0m, in \u001b[0;36mSMTP._get_socket\u001b[1;34m(self, host, port, timeout)\u001b[0m\n\u001b[0;32m    310\u001b[0m \u001b[38;5;28;01mif\u001b[39;00m \u001b[38;5;28mself\u001b[39m\u001b[38;5;241m.\u001b[39mdebuglevel \u001b[38;5;241m>\u001b[39m \u001b[38;5;241m0\u001b[39m:\n\u001b[0;32m    311\u001b[0m     \u001b[38;5;28mself\u001b[39m\u001b[38;5;241m.\u001b[39m_print_debug(\u001b[38;5;124m'\u001b[39m\u001b[38;5;124mconnect: to\u001b[39m\u001b[38;5;124m'\u001b[39m, (host, port), \u001b[38;5;28mself\u001b[39m\u001b[38;5;241m.\u001b[39msource_address)\n\u001b[1;32m--> 312\u001b[0m \u001b[38;5;28;01mreturn\u001b[39;00m \u001b[43msocket\u001b[49m\u001b[38;5;241;43m.\u001b[39;49m\u001b[43mcreate_connection\u001b[49m\u001b[43m(\u001b[49m\u001b[43m(\u001b[49m\u001b[43mhost\u001b[49m\u001b[43m,\u001b[49m\u001b[43m \u001b[49m\u001b[43mport\u001b[49m\u001b[43m)\u001b[49m\u001b[43m,\u001b[49m\u001b[43m \u001b[49m\u001b[43mtimeout\u001b[49m\u001b[43m,\u001b[49m\n\u001b[0;32m    313\u001b[0m \u001b[43m                                \u001b[49m\u001b[38;5;28;43mself\u001b[39;49m\u001b[38;5;241;43m.\u001b[39;49m\u001b[43msource_address\u001b[49m\u001b[43m)\u001b[49m\n",
      "File \u001b[1;32m~\\AppData\\Local\\Programs\\Python\\Python312\\Lib\\socket.py:828\u001b[0m, in \u001b[0;36mcreate_connection\u001b[1;34m(address, timeout, source_address, all_errors)\u001b[0m\n\u001b[0;32m    826\u001b[0m host, port \u001b[38;5;241m=\u001b[39m address\n\u001b[0;32m    827\u001b[0m exceptions \u001b[38;5;241m=\u001b[39m []\n\u001b[1;32m--> 828\u001b[0m \u001b[38;5;28;01mfor\u001b[39;00m res \u001b[38;5;129;01min\u001b[39;00m \u001b[43mgetaddrinfo\u001b[49m\u001b[43m(\u001b[49m\u001b[43mhost\u001b[49m\u001b[43m,\u001b[49m\u001b[43m \u001b[49m\u001b[43mport\u001b[49m\u001b[43m,\u001b[49m\u001b[43m \u001b[49m\u001b[38;5;241;43m0\u001b[39;49m\u001b[43m,\u001b[49m\u001b[43m \u001b[49m\u001b[43mSOCK_STREAM\u001b[49m\u001b[43m)\u001b[49m:\n\u001b[0;32m    829\u001b[0m     af, socktype, proto, canonname, sa \u001b[38;5;241m=\u001b[39m res\n\u001b[0;32m    830\u001b[0m     sock \u001b[38;5;241m=\u001b[39m \u001b[38;5;28;01mNone\u001b[39;00m\n",
      "File \u001b[1;32m~\\AppData\\Local\\Programs\\Python\\Python312\\Lib\\socket.py:963\u001b[0m, in \u001b[0;36mgetaddrinfo\u001b[1;34m(host, port, family, type, proto, flags)\u001b[0m\n\u001b[0;32m    960\u001b[0m \u001b[38;5;66;03m# We override this function since we want to translate the numeric family\u001b[39;00m\n\u001b[0;32m    961\u001b[0m \u001b[38;5;66;03m# and socket type values to enum constants.\u001b[39;00m\n\u001b[0;32m    962\u001b[0m addrlist \u001b[38;5;241m=\u001b[39m []\n\u001b[1;32m--> 963\u001b[0m \u001b[38;5;28;01mfor\u001b[39;00m res \u001b[38;5;129;01min\u001b[39;00m \u001b[43m_socket\u001b[49m\u001b[38;5;241;43m.\u001b[39;49m\u001b[43mgetaddrinfo\u001b[49m\u001b[43m(\u001b[49m\u001b[43mhost\u001b[49m\u001b[43m,\u001b[49m\u001b[43m \u001b[49m\u001b[43mport\u001b[49m\u001b[43m,\u001b[49m\u001b[43m \u001b[49m\u001b[43mfamily\u001b[49m\u001b[43m,\u001b[49m\u001b[43m \u001b[49m\u001b[38;5;28;43mtype\u001b[39;49m\u001b[43m,\u001b[49m\u001b[43m \u001b[49m\u001b[43mproto\u001b[49m\u001b[43m,\u001b[49m\u001b[43m \u001b[49m\u001b[43mflags\u001b[49m\u001b[43m)\u001b[49m:\n\u001b[0;32m    964\u001b[0m     af, socktype, proto, canonname, sa \u001b[38;5;241m=\u001b[39m res\n\u001b[0;32m    965\u001b[0m     addrlist\u001b[38;5;241m.\u001b[39mappend((_intenum_converter(af, AddressFamily),\n\u001b[0;32m    966\u001b[0m                      _intenum_converter(socktype, SocketKind),\n\u001b[0;32m    967\u001b[0m                      proto, canonname, sa))\n",
      "\u001b[1;31mgaierror\u001b[0m: [Errno 11001] getaddrinfo failed"
     ]
    }
   ],
   "source": [
    "import smtplib\n",
    "import pandas as pd\n",
    "from email.mime.multipart import MIMEMultipart\n",
    "from email.mime.text import MIMEText\n",
    "\n",
    "# Step 1: Read the CSV file\n",
    "csv_file_path = r'C:\\Users\\abdullah\\projects\\Langchain\\Generative-AI\\LangChain\\RAG\\resume_data.csv'  # Replace with your CSV file path\n",
    "data = pd.read_csv(csv_file_path)\n",
    "\n",
    "# Assuming the CSV has two columns: 'email' and 'message'\n",
    "email_list = data['email'].tolist()\n",
    "message_list = data['strong zone'].tolist()\n",
    "\n",
    "# Step 2: Define the SMTP server details\n",
    "smtp_server = 'smtp.gmail.com'  # For Gmail\n",
    "smtp_port = 587\n",
    "your_email = 'mdabdullahalhasib1111@gmail.com'  # Replace with your email\n",
    "your_password = '5a6b7c8d'  # Replace with your email password\n",
    "\n",
    "# Step 3: Establish a connection to the SMTP server\n",
    "server = smtplib.SMTP(smtp_server, smtp_port)\n",
    "server.starttls()  # Secure the connection\n",
    "server.login(your_email, your_password)\n",
    "\n",
    "# Step 4: Send an email to each recipient\n",
    "for email, message in zip(email_list, message_list):\n",
    "    msg = MIMEMultipart()\n",
    "    msg['From'] = your_email\n",
    "    msg['To'] = email\n",
    "    msg['Subject'] = 'Your Subject Here'  # Customize your subject line\n",
    "    \n",
    "    # Attach the message body\n",
    "    msg.attach(MIMEText(message, 'plain'))\n",
    "    \n",
    "    # Send the email\n",
    "    server.sendmail(your_email, email, msg.as_string())\n",
    "\n",
    "# Step 5: Close the SMTP server connection\n",
    "server.quit()\n",
    "\n",
    "print(\"Emails sent successfully!\")\n"
   ]
  },
  {
   "cell_type": "code",
   "execution_count": 1,
   "metadata": {},
   "outputs": [
    {
     "ename": "SMTPAuthenticationError",
     "evalue": "(534, b'5.7.9 Application-specific password required. For more information, go to\\n5.7.9  https://support.google.com/mail/?p=InvalidSecondFactor d9443c01a7336-20c8c21d953sm51119875ad.214 - gsmtp')",
     "output_type": "error",
     "traceback": [
      "\u001b[1;31m---------------------------------------------------------------------------\u001b[0m",
      "\u001b[1;31mSMTPAuthenticationError\u001b[0m                   Traceback (most recent call last)",
      "Cell \u001b[1;32mIn[1], line 9\u001b[0m\n\u001b[0;32m      7\u001b[0m s \u001b[38;5;241m=\u001b[39m smtplib\u001b[38;5;241m.\u001b[39mSMTP(\u001b[38;5;124m'\u001b[39m\u001b[38;5;124msmtp.gmail.com\u001b[39m\u001b[38;5;124m'\u001b[39m, \u001b[38;5;241m587\u001b[39m)\n\u001b[0;32m      8\u001b[0m s\u001b[38;5;241m.\u001b[39mstarttls()\n\u001b[1;32m----> 9\u001b[0m \u001b[43ms\u001b[49m\u001b[38;5;241;43m.\u001b[39;49m\u001b[43mlogin\u001b[49m\u001b[43m(\u001b[49m\u001b[38;5;124;43m\"\u001b[39;49m\u001b[38;5;124;43mmdabdullahalhasib2222@gmail.com\u001b[39;49m\u001b[38;5;124;43m\"\u001b[39;49m\u001b[43m,\u001b[49m\u001b[43m \u001b[49m\u001b[38;5;124;43m\"\u001b[39;49m\u001b[38;5;124;43m5a6b7c8d\u001b[39;49m\u001b[38;5;124;43m\"\u001b[39;49m\u001b[43m)\u001b[49m\n\u001b[0;32m     10\u001b[0m message \u001b[38;5;241m=\u001b[39m \u001b[38;5;124m\"\u001b[39m\u001b[38;5;124mMessage_you_need_to_send\u001b[39m\u001b[38;5;124m\"\u001b[39m\n\u001b[0;32m     11\u001b[0m s\u001b[38;5;241m.\u001b[39msendmail(\u001b[38;5;124m\"\u001b[39m\u001b[38;5;124mmdabdullahalhasib2222@gmail.com\u001b[39m\u001b[38;5;124m\"\u001b[39m, dest, message)\n",
      "File \u001b[1;32m~\\AppData\\Local\\Programs\\Python\\Python312\\Lib\\smtplib.py:750\u001b[0m, in \u001b[0;36mSMTP.login\u001b[1;34m(self, user, password, initial_response_ok)\u001b[0m\n\u001b[0;32m    747\u001b[0m         last_exception \u001b[38;5;241m=\u001b[39m e\n\u001b[0;32m    749\u001b[0m \u001b[38;5;66;03m# We could not login successfully.  Return result of last attempt.\u001b[39;00m\n\u001b[1;32m--> 750\u001b[0m \u001b[38;5;28;01mraise\u001b[39;00m last_exception\n",
      "File \u001b[1;32m~\\AppData\\Local\\Programs\\Python\\Python312\\Lib\\smtplib.py:739\u001b[0m, in \u001b[0;36mSMTP.login\u001b[1;34m(self, user, password, initial_response_ok)\u001b[0m\n\u001b[0;32m    737\u001b[0m method_name \u001b[38;5;241m=\u001b[39m \u001b[38;5;124m'\u001b[39m\u001b[38;5;124mauth_\u001b[39m\u001b[38;5;124m'\u001b[39m \u001b[38;5;241m+\u001b[39m authmethod\u001b[38;5;241m.\u001b[39mlower()\u001b[38;5;241m.\u001b[39mreplace(\u001b[38;5;124m'\u001b[39m\u001b[38;5;124m-\u001b[39m\u001b[38;5;124m'\u001b[39m, \u001b[38;5;124m'\u001b[39m\u001b[38;5;124m_\u001b[39m\u001b[38;5;124m'\u001b[39m)\n\u001b[0;32m    738\u001b[0m \u001b[38;5;28;01mtry\u001b[39;00m:\n\u001b[1;32m--> 739\u001b[0m     (code, resp) \u001b[38;5;241m=\u001b[39m \u001b[38;5;28;43mself\u001b[39;49m\u001b[38;5;241;43m.\u001b[39;49m\u001b[43mauth\u001b[49m\u001b[43m(\u001b[49m\n\u001b[0;32m    740\u001b[0m \u001b[43m        \u001b[49m\u001b[43mauthmethod\u001b[49m\u001b[43m,\u001b[49m\u001b[43m \u001b[49m\u001b[38;5;28;43mgetattr\u001b[39;49m\u001b[43m(\u001b[49m\u001b[38;5;28;43mself\u001b[39;49m\u001b[43m,\u001b[49m\u001b[43m \u001b[49m\u001b[43mmethod_name\u001b[49m\u001b[43m)\u001b[49m\u001b[43m,\u001b[49m\n\u001b[0;32m    741\u001b[0m \u001b[43m        \u001b[49m\u001b[43minitial_response_ok\u001b[49m\u001b[38;5;241;43m=\u001b[39;49m\u001b[43minitial_response_ok\u001b[49m\u001b[43m)\u001b[49m\n\u001b[0;32m    742\u001b[0m     \u001b[38;5;66;03m# 235 == 'Authentication successful'\u001b[39;00m\n\u001b[0;32m    743\u001b[0m     \u001b[38;5;66;03m# 503 == 'Error: already authenticated'\u001b[39;00m\n\u001b[0;32m    744\u001b[0m     \u001b[38;5;28;01mif\u001b[39;00m code \u001b[38;5;129;01min\u001b[39;00m (\u001b[38;5;241m235\u001b[39m, \u001b[38;5;241m503\u001b[39m):\n",
      "File \u001b[1;32m~\\AppData\\Local\\Programs\\Python\\Python312\\Lib\\smtplib.py:662\u001b[0m, in \u001b[0;36mSMTP.auth\u001b[1;34m(self, mechanism, authobject, initial_response_ok)\u001b[0m\n\u001b[0;32m    660\u001b[0m \u001b[38;5;28;01mif\u001b[39;00m code \u001b[38;5;129;01min\u001b[39;00m (\u001b[38;5;241m235\u001b[39m, \u001b[38;5;241m503\u001b[39m):\n\u001b[0;32m    661\u001b[0m     \u001b[38;5;28;01mreturn\u001b[39;00m (code, resp)\n\u001b[1;32m--> 662\u001b[0m \u001b[38;5;28;01mraise\u001b[39;00m SMTPAuthenticationError(code, resp)\n",
      "\u001b[1;31mSMTPAuthenticationError\u001b[0m: (534, b'5.7.9 Application-specific password required. For more information, go to\\n5.7.9  https://support.google.com/mail/?p=InvalidSecondFactor d9443c01a7336-20c8c21d953sm51119875ad.214 - gsmtp')"
     ]
    }
   ],
   "source": [
    "import smtplib\n",
    "\n",
    "# list of email_id to send the mail\n",
    "li = [\"alhasib.iu.cse@gmail.com\", \"mdabdullahalhasib1111@gmail.com\"]\n",
    "\n",
    "for dest in li:\n",
    "    s = smtplib.SMTP('smtp.gmail.com', 587)\n",
    "    s.starttls()\n",
    "    s.login(\"mdabdullahalhasib2222@gmail.com\", \"5a6b7c8d\")\n",
    "    message = \"Message_you_need_to_send\"\n",
    "    s.sendmail(\"mdabdullahalhasib2222@gmail.com\", dest, message)\n",
    "    s.quit()"
   ]
  },
  {
   "cell_type": "code",
   "execution_count": 2,
   "metadata": {},
   "outputs": [
    {
     "ename": "ConnectionRefusedError",
     "evalue": "[WinError 10061] No connection could be made because the target machine actively refused it",
     "output_type": "error",
     "traceback": [
      "\u001b[1;31m---------------------------------------------------------------------------\u001b[0m",
      "\u001b[1;31mConnectionRefusedError\u001b[0m                    Traceback (most recent call last)",
      "Cell \u001b[1;32mIn[2], line 19\u001b[0m\n\u001b[0;32m     16\u001b[0m msg[\u001b[38;5;124m'\u001b[39m\u001b[38;5;124mTo\u001b[39m\u001b[38;5;124m'\u001b[39m] \u001b[38;5;241m=\u001b[39m \u001b[38;5;124m\"\u001b[39m\u001b[38;5;124mmdabdullahalhasib1111@gmail.com\u001b[39m\u001b[38;5;124m\"\u001b[39m\n\u001b[0;32m     18\u001b[0m \u001b[38;5;66;03m# Send the message via our own SMTP server.\u001b[39;00m\n\u001b[1;32m---> 19\u001b[0m s \u001b[38;5;241m=\u001b[39m \u001b[43msmtplib\u001b[49m\u001b[38;5;241;43m.\u001b[39;49m\u001b[43mSMTP\u001b[49m\u001b[43m(\u001b[49m\u001b[38;5;124;43m'\u001b[39;49m\u001b[38;5;124;43mlocalhost\u001b[39;49m\u001b[38;5;124;43m'\u001b[39;49m\u001b[43m)\u001b[49m\n\u001b[0;32m     20\u001b[0m s\u001b[38;5;241m.\u001b[39msend_message(msg)\n\u001b[0;32m     21\u001b[0m s\u001b[38;5;241m.\u001b[39mquit()\n",
      "File \u001b[1;32m~\\AppData\\Local\\Programs\\Python\\Python312\\Lib\\smtplib.py:255\u001b[0m, in \u001b[0;36mSMTP.__init__\u001b[1;34m(self, host, port, local_hostname, timeout, source_address)\u001b[0m\n\u001b[0;32m    252\u001b[0m \u001b[38;5;28mself\u001b[39m\u001b[38;5;241m.\u001b[39m_auth_challenge_count \u001b[38;5;241m=\u001b[39m \u001b[38;5;241m0\u001b[39m\n\u001b[0;32m    254\u001b[0m \u001b[38;5;28;01mif\u001b[39;00m host:\n\u001b[1;32m--> 255\u001b[0m     (code, msg) \u001b[38;5;241m=\u001b[39m \u001b[38;5;28;43mself\u001b[39;49m\u001b[38;5;241;43m.\u001b[39;49m\u001b[43mconnect\u001b[49m\u001b[43m(\u001b[49m\u001b[43mhost\u001b[49m\u001b[43m,\u001b[49m\u001b[43m \u001b[49m\u001b[43mport\u001b[49m\u001b[43m)\u001b[49m\n\u001b[0;32m    256\u001b[0m     \u001b[38;5;28;01mif\u001b[39;00m code \u001b[38;5;241m!=\u001b[39m \u001b[38;5;241m220\u001b[39m:\n\u001b[0;32m    257\u001b[0m         \u001b[38;5;28mself\u001b[39m\u001b[38;5;241m.\u001b[39mclose()\n",
      "File \u001b[1;32m~\\AppData\\Local\\Programs\\Python\\Python312\\Lib\\smtplib.py:341\u001b[0m, in \u001b[0;36mSMTP.connect\u001b[1;34m(self, host, port, source_address)\u001b[0m\n\u001b[0;32m    339\u001b[0m     port \u001b[38;5;241m=\u001b[39m \u001b[38;5;28mself\u001b[39m\u001b[38;5;241m.\u001b[39mdefault_port\n\u001b[0;32m    340\u001b[0m sys\u001b[38;5;241m.\u001b[39maudit(\u001b[38;5;124m\"\u001b[39m\u001b[38;5;124msmtplib.connect\u001b[39m\u001b[38;5;124m\"\u001b[39m, \u001b[38;5;28mself\u001b[39m, host, port)\n\u001b[1;32m--> 341\u001b[0m \u001b[38;5;28mself\u001b[39m\u001b[38;5;241m.\u001b[39msock \u001b[38;5;241m=\u001b[39m \u001b[38;5;28;43mself\u001b[39;49m\u001b[38;5;241;43m.\u001b[39;49m\u001b[43m_get_socket\u001b[49m\u001b[43m(\u001b[49m\u001b[43mhost\u001b[49m\u001b[43m,\u001b[49m\u001b[43m \u001b[49m\u001b[43mport\u001b[49m\u001b[43m,\u001b[49m\u001b[43m \u001b[49m\u001b[38;5;28;43mself\u001b[39;49m\u001b[38;5;241;43m.\u001b[39;49m\u001b[43mtimeout\u001b[49m\u001b[43m)\u001b[49m\n\u001b[0;32m    342\u001b[0m \u001b[38;5;28mself\u001b[39m\u001b[38;5;241m.\u001b[39mfile \u001b[38;5;241m=\u001b[39m \u001b[38;5;28;01mNone\u001b[39;00m\n\u001b[0;32m    343\u001b[0m (code, msg) \u001b[38;5;241m=\u001b[39m \u001b[38;5;28mself\u001b[39m\u001b[38;5;241m.\u001b[39mgetreply()\n",
      "File \u001b[1;32m~\\AppData\\Local\\Programs\\Python\\Python312\\Lib\\smtplib.py:312\u001b[0m, in \u001b[0;36mSMTP._get_socket\u001b[1;34m(self, host, port, timeout)\u001b[0m\n\u001b[0;32m    310\u001b[0m \u001b[38;5;28;01mif\u001b[39;00m \u001b[38;5;28mself\u001b[39m\u001b[38;5;241m.\u001b[39mdebuglevel \u001b[38;5;241m>\u001b[39m \u001b[38;5;241m0\u001b[39m:\n\u001b[0;32m    311\u001b[0m     \u001b[38;5;28mself\u001b[39m\u001b[38;5;241m.\u001b[39m_print_debug(\u001b[38;5;124m'\u001b[39m\u001b[38;5;124mconnect: to\u001b[39m\u001b[38;5;124m'\u001b[39m, (host, port), \u001b[38;5;28mself\u001b[39m\u001b[38;5;241m.\u001b[39msource_address)\n\u001b[1;32m--> 312\u001b[0m \u001b[38;5;28;01mreturn\u001b[39;00m \u001b[43msocket\u001b[49m\u001b[38;5;241;43m.\u001b[39;49m\u001b[43mcreate_connection\u001b[49m\u001b[43m(\u001b[49m\u001b[43m(\u001b[49m\u001b[43mhost\u001b[49m\u001b[43m,\u001b[49m\u001b[43m \u001b[49m\u001b[43mport\u001b[49m\u001b[43m)\u001b[49m\u001b[43m,\u001b[49m\u001b[43m \u001b[49m\u001b[43mtimeout\u001b[49m\u001b[43m,\u001b[49m\n\u001b[0;32m    313\u001b[0m \u001b[43m                                \u001b[49m\u001b[38;5;28;43mself\u001b[39;49m\u001b[38;5;241;43m.\u001b[39;49m\u001b[43msource_address\u001b[49m\u001b[43m)\u001b[49m\n",
      "File \u001b[1;32m~\\AppData\\Local\\Programs\\Python\\Python312\\Lib\\socket.py:852\u001b[0m, in \u001b[0;36mcreate_connection\u001b[1;34m(address, timeout, source_address, all_errors)\u001b[0m\n\u001b[0;32m    850\u001b[0m \u001b[38;5;28;01mtry\u001b[39;00m:\n\u001b[0;32m    851\u001b[0m     \u001b[38;5;28;01mif\u001b[39;00m \u001b[38;5;129;01mnot\u001b[39;00m all_errors:\n\u001b[1;32m--> 852\u001b[0m         \u001b[38;5;28;01mraise\u001b[39;00m exceptions[\u001b[38;5;241m0\u001b[39m]\n\u001b[0;32m    853\u001b[0m     \u001b[38;5;28;01mraise\u001b[39;00m ExceptionGroup(\u001b[38;5;124m\"\u001b[39m\u001b[38;5;124mcreate_connection failed\u001b[39m\u001b[38;5;124m\"\u001b[39m, exceptions)\n\u001b[0;32m    854\u001b[0m \u001b[38;5;28;01mfinally\u001b[39;00m:\n\u001b[0;32m    855\u001b[0m     \u001b[38;5;66;03m# Break explicitly a reference cycle\u001b[39;00m\n",
      "File \u001b[1;32m~\\AppData\\Local\\Programs\\Python\\Python312\\Lib\\socket.py:837\u001b[0m, in \u001b[0;36mcreate_connection\u001b[1;34m(address, timeout, source_address, all_errors)\u001b[0m\n\u001b[0;32m    835\u001b[0m \u001b[38;5;28;01mif\u001b[39;00m source_address:\n\u001b[0;32m    836\u001b[0m     sock\u001b[38;5;241m.\u001b[39mbind(source_address)\n\u001b[1;32m--> 837\u001b[0m \u001b[43msock\u001b[49m\u001b[38;5;241;43m.\u001b[39;49m\u001b[43mconnect\u001b[49m\u001b[43m(\u001b[49m\u001b[43msa\u001b[49m\u001b[43m)\u001b[49m\n\u001b[0;32m    838\u001b[0m \u001b[38;5;66;03m# Break explicitly a reference cycle\u001b[39;00m\n\u001b[0;32m    839\u001b[0m exceptions\u001b[38;5;241m.\u001b[39mclear()\n",
      "\u001b[1;31mConnectionRefusedError\u001b[0m: [WinError 10061] No connection could be made because the target machine actively refused it"
     ]
    }
   ],
   "source": [
    "# Import smtplib for the actual sending function\n",
    "import smtplib\n",
    "\n",
    "# Import the email modules we'll need\n",
    "from email.message import EmailMessage\n",
    "\n",
    "# Open the plain text file whose name is in textfile for reading.\n",
    "\n",
    "msg = EmailMessage()\n",
    "msg.set_content(\"Hi\")\n",
    "\n",
    "# me == the sender's email address\n",
    "# you == the recipient's email address\n",
    "msg['Subject'] = f'The contents of'\n",
    "msg['From'] = \"alhasib.iu.cse@gmail.com\"\n",
    "msg['To'] = \"mdabdullahalhasib1111@gmail.com\"\n",
    "\n",
    "# Send the message via our own SMTP server.\n",
    "s = smtplib.SMTP('localhost')\n",
    "s.send_message(msg)\n",
    "s.quit()"
   ]
  },
  {
   "cell_type": "code",
   "execution_count": null,
   "metadata": {},
   "outputs": [],
   "source": []
  },
  {
   "cell_type": "code",
   "execution_count": 8,
   "metadata": {},
   "outputs": [
    {
     "data": {
      "text/plain": [
       "{}"
      ]
     },
     "execution_count": 8,
     "metadata": {},
     "output_type": "execute_result"
    }
   ],
   "source": [
    "import yagmail\n",
    "yag = yagmail.SMTP('alhasib.iu.cse@gmail.com', 'iyto heuk fbka mysg')\n",
    "contents = ['This is the body, and here is just text, You can find an audio file attached.']\n",
    "yag.send('alhasib.iu.cse@gmail.com', 'subject', contents)"
   ]
  },
  {
   "cell_type": "code",
   "execution_count": 20,
   "metadata": {},
   "outputs": [
    {
     "name": "stdout",
     "output_type": "stream",
     "text": [
      "<bound method NDFrame.head of   Name of resume holder                     email  is_perfect  is_okay  \\\n",
      "0  Md Abdullah Al Hasib  alhasib.iu.cse@gmail.com       False     True   \n",
      "\n",
      "  Matching Score in percentage  \\\n",
      "0                          75%   \n",
      "\n",
      "                                         strong zone  \\\n",
      "0  Md Abdullah Al Hasib has a strong background i...   \n",
      "\n",
      "                                   Lack of Knowledge  \n",
      "0  While he possesses some experience, explicitly...  >\n"
     ]
    }
   ],
   "source": [
    "import pandas as pd\n",
    "\n",
    "data = pd.read_csv(r\"C:\\Users\\abdullah\\projects\\Langchain\\Generative-AI\\LangChain\\RAG\\resume_screening.csv\")\n",
    "\n",
    "print(data.head)"
   ]
  },
  {
   "cell_type": "code",
   "execution_count": 15,
   "metadata": {},
   "outputs": [
    {
     "data": {
      "text/plain": [
       "'While he possesses some experience, explicitly stating his experience with SQL databases (Snowflake, PostgreSQL, MySQL) in the context of data analysis and machine learning would strengthen his application.  Further, elaborating on experience with CI/CD tools and version control systems like Git, and how they were used in deploying machine learning models would be beneficial.'"
      ]
     },
     "execution_count": 15,
     "metadata": {},
     "output_type": "execute_result"
    }
   ],
   "source": [
    "data.iloc[0][\"Lack of Knowledge\"]"
   ]
  },
  {
   "cell_type": "code",
   "execution_count": 17,
   "metadata": {},
   "outputs": [
    {
     "data": {
      "text/plain": [
       "1"
      ]
     },
     "execution_count": 17,
     "metadata": {},
     "output_type": "execute_result"
    }
   ],
   "source": [
    "data.shape[0]"
   ]
  },
  {
   "cell_type": "code",
   "execution_count": 24,
   "metadata": {},
   "outputs": [],
   "source": [
    "\n",
    "\n",
    "yag = yagmail.SMTP('alhasib.iu.cse@gmail.com', 'iyto heuk fbka mysg')\n",
    "data = pd.read_csv(r\"C:\\Users\\abdullah\\projects\\Langchain\\Generative-AI\\LangChain\\RAG\\resume_screening.csv\")\n",
    "\n",
    "for i in range(data.shape[0]):\n",
    "    data = data.iloc[i]\n",
    "    name = data['Name of resume holder']\n",
    "    email = data['email']\n",
    "    score = data['Matching Score in percentage']\n",
    "    if \"%\" in score:\n",
    "        score = int(score.replace(\"%\",\"\"))\n",
    "    else:\n",
    "        score = int(score)\n",
    "    strong_zone = data['strong zone']\n",
    "    weak_zone = data['Lack of Knowledge']\n",
    "\n",
    "    # print(name, score, strong_zone, week_zone)\n",
    "    if score < 70:\n",
    "        message = f\"Hello {name},\\n\\n \\\n",
    "        Thank you for your application on Machine Learning position in our company. But we can't consider you for the further process. We find some week zones given below that doesn't match with our company.\\\n",
    "        you can upgrade yourself & try later.\\n\\n \\\n",
    "            {weak_zone}\\n\\n \\\n",
    "        Best Regards,\\n Md Abdullah Al Hasib\"\n",
    "    \n",
    "    else:\n",
    "        message = f\"Hello {name},\\n\\n \\\n",
    "        Thank you for your application on Machine Learning position in our company. We  consider you for the further process. \\n\\n \\\n",
    "        Best Regards,\\n \\\n",
    "        Md Abdullah Al Hasib\"\n",
    "    \n",
    "    yag.send(email, 'Response to Your ML Engineer Application', message)\n"
   ]
  },
  {
   "cell_type": "code",
   "execution_count": null,
   "metadata": {},
   "outputs": [],
   "source": []
  }
 ],
 "metadata": {
  "kernelspec": {
   "display_name": "env",
   "language": "python",
   "name": "python3"
  },
  "language_info": {
   "codemirror_mode": {
    "name": "ipython",
    "version": 3
   },
   "file_extension": ".py",
   "mimetype": "text/x-python",
   "name": "python",
   "nbconvert_exporter": "python",
   "pygments_lexer": "ipython3",
   "version": "3.12.3"
  }
 },
 "nbformat": 4,
 "nbformat_minor": 2
}
