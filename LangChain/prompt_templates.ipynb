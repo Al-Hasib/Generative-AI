{
 "cells": [
  {
   "cell_type": "markdown",
   "metadata": {},
   "source": [
    "### Prompt Templates\n",
    "\n",
    "Prompt templates help to translate user input and parameters into instructions for a language model. This can be used to guide a model's response, helping it understand the context and generate relevant and coherent language-based output.Prompt Templates take as input a dictionary, where each key represents a variable in the prompt template to fill in.\n",
    "\n",
    "Prompt Templates output a PromptValue. This PromptValue can be passed to an LLM or a ChatModel, and can also be cast to a string or a list of messages. The reason this PromptValue exists is to make it easy to switch between strings and messages.\n",
    "\n",
    "**String PromptTemplates** : used to format a single string, and generally are used for simpler inputs.\n",
    "\n",
    "**ChatPromptTemplates** : used to format a list of messages. These \"templates\" consist of a list of templates themselves.\n",
    "\n",
    "**MessagesPlaceholder** :  responsible for adding a list of messages in a particular place. In the above ChatPromptTemplate, we saw how we could format two messages, each one a string. But what if we wanted the user to pass in a list of messages that we would slot into a particular spot? This is how you use MessagesPlaceholder."
   ]
  },
  {
   "cell_type": "code",
   "execution_count": 5,
   "metadata": {},
   "outputs": [
    {
     "data": {
      "text/plain": [
       "ChatPromptValue(messages=[SystemMessage(content='You are a helpful assistant', additional_kwargs={}, response_metadata={}), HumanMessage(content='hi!', additional_kwargs={}, response_metadata={}), AIMessage(content='Hello', additional_kwargs={}, response_metadata={}), HumanMessage(content='Please tell about langchain', additional_kwargs={}, response_metadata={})])"
      ]
     },
     "execution_count": 5,
     "metadata": {},
     "output_type": "execute_result"
    }
   ],
   "source": [
    "# # string prompt Template\n",
    "# from langchain_core.prompts import PromptTemplate\n",
    "\n",
    "# prompt_template = PromptTemplate.from_template(\"Tell me a joke about {topic}\")\n",
    "\n",
    "# prompt_template.invoke({\"topic\": \"dogs\"})\n",
    "\n",
    "# Chat Prompt Template\n",
    "# from langchain_core.prompts import ChatPromptTemplate\n",
    "\n",
    "# prompt_template = ChatPromptTemplate.from_messages([\n",
    "#     (\"system\", \"You are a helpful assistant\"),\n",
    "#     (\"user\", \"Tell me a joke about {topic}\")\n",
    "# ])\n",
    "\n",
    "# prompt_template.invoke({\"topic\": \"cats\"})\n",
    "\n",
    "\n",
    "# Placeholder Prompt Template\n",
    "from langchain_core.prompts import ChatPromptTemplate, MessagesPlaceholder\n",
    "from langchain_core.messages import HumanMessage, AIMessage\n",
    "\n",
    "prompt_template = ChatPromptTemplate.from_messages([\n",
    "    (\"system\", \"You are a helpful assistant\"),\n",
    "    MessagesPlaceholder(\"msgs\")\n",
    "])\n",
    "prompt_template.invoke({\"msgs\": [HumanMessage(content=\"hi!\"),\n",
    "                                 AIMessage(\"Hello\"),\n",
    "                                 HumanMessage(\"Please tell about langchain\")]})"
   ]
  },
  {
   "cell_type": "markdown",
   "metadata": {},
   "source": [
    "### Load Chat Model"
   ]
  },
  {
   "cell_type": "code",
   "execution_count": 6,
   "metadata": {},
   "outputs": [
    {
     "name": "stderr",
     "output_type": "stream",
     "text": [
      "c:\\Users\\abdullah\\projects\\Langchain\\env\\Lib\\site-packages\\tqdm\\auto.py:21: TqdmWarning: IProgress not found. Please update jupyter and ipywidgets. See https://ipywidgets.readthedocs.io/en/stable/user_install.html\n",
      "  from .autonotebook import tqdm as notebook_tqdm\n"
     ]
    }
   ],
   "source": [
    "from langchain_core.prompts import ChatPromptTemplate\n",
    "from langchain_core.messages import HumanMessage, SystemMessage, AIMessage\n",
    "import os\n",
    "\n",
    "from langchain_google_genai import ChatGoogleGenerativeAI\n",
    "from dotenv import load_dotenv\n",
    "\n",
    "# Load environment variables from the .env file\n",
    "load_dotenv()\n",
    "\n",
    "# Access the API key from the environment\n",
    "api_key = os.getenv(\"GOOGLE_GEN_API\")\n",
    "llm = ChatGoogleGenerativeAI(model=\"gemini-1.5-pro\", api_key=api_key)\n"
   ]
  },
  {
   "cell_type": "markdown",
   "metadata": {},
   "source": [
    "### Apply prompt to the model & generate output"
   ]
  },
  {
   "cell_type": "code",
   "execution_count": 8,
   "metadata": {},
   "outputs": [
    {
     "name": "stdout",
     "output_type": "stream",
     "text": [
      "-----Prompt from Template-----\n",
      "prompt: \n",
      "messages=[HumanMessage(content='Tell me some best places about Kushtia', additional_kwargs={}, response_metadata={})]\n",
      "\n",
      "\n",
      "Result: \n",
      "Kushtia, a vibrant district in Bangladesh, offers a blend of history, culture, and natural beauty. Here are some of its best places:\n",
      "\n",
      "**Historical & Cultural Sites:**\n",
      "\n",
      "* **Lalon Shah Mazar:** This shrine is dedicated to Lalon Shah, a renowned philosopher, mystic, and folk singer. People from all walks of life visit to pay homage and experience his message of love, tolerance, and humanity.\n",
      "* **Rabindra Kuthibari:** Located in Shilaidaha, this charming house belonged to Rabindranath Tagore, the famous Bengali poet. Explore the place where he penned some of his most iconic works.\n",
      "* **Michael Modhusudan Dutta's House:** Visit the birthplace of Michael Madhusudan Dutta, a pioneer of Bengali drama and epic poetry. The house now serves as a museum showcasing his life and works.\n",
      "\n",
      "**Natural Beauty:**\n",
      "\n",
      "* **Ganges River:** Take a serene boat ride on the iconic Ganges River, enjoying the scenic beauty and the bustling river life. \n",
      "* **Juba Park:** Enjoy a relaxing day amidst greenery at this well-maintained park, perfect for picnics and leisurely walks. \n",
      "* **Mujibnagar Muktijuddho Smriti Complex:**  While not exactly \"natural beauty,\" this site holds significant historical importance as the first provisional government of Bangladesh was formed here. The complex itself offers a peaceful and reflective atmosphere.\n",
      "\n",
      "**Other Notable Places:**\n",
      "\n",
      "* **Kushtia Collegiate School:**  Established in 1886, this is one of the oldest educational institutions in Bangladesh.\n",
      "* **Kushtia Public Library:**  A treasure trove of books and a quiet place for knowledge seekers.\n",
      "* **Local Markets:** Explore the vibrant local markets for traditional handicrafts, textiles, and delicious local delicacies.\n",
      "\n",
      "**Tips for Visiting Kushtia:**\n",
      "\n",
      "* **Best Time to Visit:** Winter (October - March) offers pleasant weather.\n",
      "* **Getting There:** Kushtia is well-connected by road and rail to Dhaka and other major cities.\n",
      "* **Accommodation:** You can find a range of hotels and guesthouses in Kushtia town.\n",
      "\n",
      "Kushtia offers a unique blend of history, culture, and natural beauty. It's a place where you can explore the rich heritage of Bangladesh and experience the warmth of its people. \n",
      "\n"
     ]
    }
   ],
   "source": [
    "# create a simple prompt template\n",
    "template = \"Tell me some best places about {city}\"\n",
    "prompt_template = ChatPromptTemplate.from_template(template)\n",
    "\n",
    "print(\"-----Prompt from Template-----\")\n",
    "prompt = prompt_template.invoke({\"city\": \"Kushtia\"})\n",
    "print(f\"prompt: \\n{prompt}\\n\")\n",
    "result = llm.invoke(prompt)\n",
    "print(f\"\\nResult: \\n{result.content}\")"
   ]
  },
  {
   "cell_type": "code",
   "execution_count": 9,
   "metadata": {},
   "outputs": [
    {
     "name": "stdout",
     "output_type": "stream",
     "text": [
      "\n",
      "----- Prompt with Multiple Placeholders -----\n",
      "\n",
      "messages=[HumanMessage(content='You are a helpful assistant.\\nHuman: Tell me some best places about Dhaka.\\nAssistant:', additional_kwargs={}, response_metadata={})]\n"
     ]
    }
   ],
   "source": [
    "# PART 2: Prompt with Multiple Placeholders\n",
    "template_multiple = \"\"\"You are a helpful assistant.\n",
    "Human: Tell me some best {objective} about {city}.\n",
    "Assistant:\"\"\"\n",
    "prompt_multiple = ChatPromptTemplate.from_template(template_multiple)\n",
    "prompt = prompt_multiple.invoke({\"objective\": \"places\", \"city\": \"Dhaka\"})\n",
    "print(\"\\n----- Prompt with Multiple Placeholders -----\\n\")\n",
    "print(prompt)"
   ]
  },
  {
   "cell_type": "code",
   "execution_count": 10,
   "metadata": {},
   "outputs": [
    {
     "name": "stdout",
     "output_type": "stream",
     "text": [
      "messages=[SystemMessage(content='You will tell  informations about various places.', additional_kwargs={}, response_metadata={}), HumanMessage(content='tell me best tourist places in Chittagong', additional_kwargs={}, response_metadata={})]\n"
     ]
    }
   ],
   "source": [
    "messages = [\n",
    "    (\"system\", \"You will tell  informations about various {activity}.\"),\n",
    "    (\"human\", \"tell me best {item} in {city}\")\n",
    "]\n",
    "\n",
    "prompt_template = ChatPromptTemplate.from_messages(messages)\n",
    "prompt = prompt_template.invoke({\"activity\": \"places\", \"item\": \"tourist places\",\"city\": \"Chittagong\"} )\n",
    "print(prompt)"
   ]
  },
  {
   "cell_type": "code",
   "execution_count": 11,
   "metadata": {},
   "outputs": [
    {
     "name": "stdout",
     "output_type": "stream",
     "text": [
      "Chittagong, the bustling port city of Bangladesh, offers a diverse range of attractions for travelers. Here are some of the best tourist places to visit:\n",
      "\n",
      "**Historical & Cultural Sites:**\n",
      "\n",
      "* **Patenga Sea Beach:** The longest natural sea beach in the world (120km), offering stunning sunset views, horse rides, and local street food.\n",
      "* **Shrine of Bayazid Bostami:** A revered religious site dedicated to the Sufi saint Bayazid Bostami, featuring a mosque, tomb, and a pond with black softshell turtles considered sacred.\n",
      "* **Ethnological Museum:** Showcases the rich cultural heritage of Bangladesh, with exhibits on tribal artifacts, crafts, and lifestyles of different ethnic groups.\n",
      "* **Chattogram Court Building:** An architectural marvel from the British colonial era, known for its imposing structure and historical significance.\n",
      "* **Shahid Minar:** A monument dedicated to the martyrs of the Bengali Language Movement in 1952, symbolizing the struggle for linguistic identity.\n",
      "\n",
      "**Natural Beauty:**\n",
      "\n",
      "* **Chandranath Hills:** A scenic hill range offering panoramic views of the city, the Bay of Bengal, and lush greenery. It's a popular destination for hiking and trekking.\n",
      "* **Foy's Lake:** A picturesque artificial lake surrounded by hills, perfect for boating, picnicking, and enjoying the serene ambiance.\n",
      "* **Sitakunda Eco Park:** A natural park with waterfalls, hiking trails, and diverse flora and fauna, offering a refreshing escape from the city.\n",
      "* **Guliakhali Sea Beach:** A less crowded alternative to Patenga Beach, known for its serene atmosphere and beautiful sunset views.\n",
      "\n",
      "**Other Attractions:**\n",
      "\n",
      "* **Chittagong Zoo:** Home to a variety of animals, including Bengal tigers, lions, elephants, and birds.\n",
      "* **Chittagong World Trade Center:** The tallest building in Bangladesh, offering panoramic city views from its observation deck.\n",
      "* **Central Railway Building (CRB):** A beautiful colonial-era building that now houses the Bangladesh Railway headquarters.\n",
      "\n",
      "**Tips for Visiting Chittagong:**\n",
      "\n",
      "* **Best time to visit:** October to March for pleasant weather.\n",
      "* **Getting around:** Rickshaws, CNG auto-rickshaws, and local buses are readily available.\n",
      "* **Food:** Don't miss out on local delicacies like Mezbani beef, Kala Bhuna, and fresh seafood.\n",
      "\n",
      "This is just a glimpse of what Chittagong has to offer. With its blend of history, culture, and natural beauty, the city promises a memorable experience for every traveler. \n",
      "\n"
     ]
    }
   ],
   "source": [
    "result = llm.invoke(prompt)\n",
    "print(result.content)"
   ]
  },
  {
   "cell_type": "code",
   "execution_count": null,
   "metadata": {},
   "outputs": [],
   "source": []
  }
 ],
 "metadata": {
  "kernelspec": {
   "display_name": "env",
   "language": "python",
   "name": "python3"
  },
  "language_info": {
   "codemirror_mode": {
    "name": "ipython",
    "version": 3
   },
   "file_extension": ".py",
   "mimetype": "text/x-python",
   "name": "python",
   "nbconvert_exporter": "python",
   "pygments_lexer": "ipython3",
   "version": "3.12.3"
  }
 },
 "nbformat": 4,
 "nbformat_minor": 2
}
