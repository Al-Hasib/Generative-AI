{
 "cells": [
  {
   "cell_type": "markdown",
   "metadata": {},
   "source": [
    "### Prompt Templates\n",
    "\n",
    "Prompt templates help to translate user input and parameters into instructions for a language model. This can be used to guide a model's response, helping it understand the context and generate relevant and coherent language-based output.Prompt Templates take as input a dictionary, where each key represents a variable in the prompt template to fill in.\n",
    "\n",
    "Prompt Templates output a PromptValue. This PromptValue can be passed to an LLM or a ChatModel, and can also be cast to a string or a list of messages. The reason this PromptValue exists is to make it easy to switch between strings and messages.\n",
    "\n",
    "**String PromptTemplates** : used to format a single string, and generally are used for simpler inputs.\n",
    "\n",
    "**ChatPromptTemplates** : used to format a list of messages. These \"templates\" consist of a list of templates themselves.\n",
    "\n",
    "**MessagesPlaceholder** :  responsible for adding a list of messages in a particular place. In the above ChatPromptTemplate, we saw how we could format two messages, each one a string. But what if we wanted the user to pass in a list of messages that we would slot into a particular spot? This is how you use MessagesPlaceholder."
   ]
  },
  {
   "cell_type": "code",
   "execution_count": 2,
   "metadata": {},
   "outputs": [
    {
     "data": {
      "text/plain": [
       "StringPromptValue(text='Tell me a joke about cats')"
      ]
     },
     "execution_count": 2,
     "metadata": {},
     "output_type": "execute_result"
    }
   ],
   "source": [
    "# string prompt Template\n",
    "from langchain_core.prompts import PromptTemplate\n",
    "\n",
    "prompt_template = PromptTemplate.from_template(\"Tell me a joke about {topic}\")\n",
    "\n",
    "prompt_template.invoke({\"topic\": \"cats\"})\n",
    "\n",
    "# # Chat Prompt Template\n",
    "# from langchain_core.prompts import ChatPromptTemplate\n",
    "\n",
    "# prompt_template = ChatPromptTemplate.from_messages([\n",
    "#     (\"system\", \"You are a helpful assistant\"),\n",
    "#     (\"user\", \"Tell me a joke about {topic}\")\n",
    "# ])\n",
    "\n",
    "# prompt_template.invoke({\"topic\": \"cats\"})\n",
    "\n",
    "\n",
    "# # Placeholder Prompt Template\n",
    "# from langchain_core.prompts import ChatPromptTemplate, MessagesPlaceholder\n",
    "# from langchain_core.messages import HumanMessage\n",
    "\n",
    "# prompt_template = ChatPromptTemplate.from_messages([\n",
    "#     (\"system\", \"You are a helpful assistant\"),\n",
    "#     MessagesPlaceholder(\"msgs\")\n",
    "# ])\n",
    "# prompt_template.invoke({\"msgs\": [HumanMessage(content=\"hi!\")]})"
   ]
  },
  {
   "cell_type": "markdown",
   "metadata": {},
   "source": [
    "### Load Chat Model"
   ]
  },
  {
   "cell_type": "code",
   "execution_count": 17,
   "metadata": {},
   "outputs": [],
   "source": [
    "from langchain_core.prompts import ChatPromptTemplate\n",
    "from langchain_core.messages import HumanMessage, SystemMessage, AIMessage\n",
    "import os\n",
    "\n",
    "from langchain_google_genai import ChatGoogleGenerativeAI\n",
    "from dotenv import load_dotenv\n",
    "\n",
    "# Load environment variables from the .env file\n",
    "load_dotenv()\n",
    "\n",
    "# Access the API key from the environment\n",
    "api_key = os.getenv(\"GOOGLE_GEN_API\")\n",
    "llm = ChatGoogleGenerativeAI(model=\"gemini-1.5-pro\", api_key=api_key)\n"
   ]
  },
  {
   "cell_type": "markdown",
   "metadata": {},
   "source": [
    "### Apply prompt to the model & generate output"
   ]
  },
  {
   "cell_type": "code",
   "execution_count": 18,
   "metadata": {},
   "outputs": [
    {
     "name": "stdout",
     "output_type": "stream",
     "text": [
      "-----Prompt from Template-----\n",
      "messages=[HumanMessage(content='Tell me some best places about Dhaka', additional_kwargs={}, response_metadata={})]\n",
      "Dhaka, the vibrant capital of Bangladesh, offers a captivating blend of history, culture, and modernity. Here are some of the best places to experience in this bustling city:\n",
      "\n",
      "**Historical & Cultural Gems:**\n",
      "\n",
      "* **Lalbagh Fort:** This 17th-century Mughal fort complex, though incomplete, is an architectural marvel. Explore the tomb of Pari Bibi, the mosque, and the beautiful gardens.\n",
      "* **Ahsan Manzil:** Once the grand palace of the Nawabs of Dhaka, this majestic pink palace now houses a museum showcasing the rich history of the region.\n",
      "* **Dhakeshwari Temple:** Considered the \"Heart of Dhaka\" for Hindus, this ancient temple is dedicated to Goddess Durga and is a significant religious site.\n",
      "* **Armenian Church:**  A reminder of Dhaka's diverse past, this 18th-century church boasts beautiful architecture and a serene ambiance.\n",
      "* **Sadarghat:** Witness the bustling riverine life at this historic river port, one of the busiest in the world. Take a boat ride across the Buriganga River for a unique perspective of the city.\n",
      "\n",
      "**Cultural Experiences:**\n",
      "\n",
      "* **Bangladesh National Museum:** Delve into the rich history, art, and culture of Bangladesh through its impressive collection of artifacts and exhibits.\n",
      "* **Liberation War Museum:** Learn about the Bangladesh Liberation War and the country's struggle for independence through poignant displays and artifacts.\n",
      "* **Shishu Park:** Enjoy a fun-filled day with family at this amusement park featuring rides, a lake, and recreational activities.\n",
      "* **Star Cineplex:** Catch the latest blockbuster movies at this modern multiplex, offering a taste of international entertainment.\n",
      "\n",
      "**Shopping & Culinary Delights:**\n",
      "\n",
      "* **Banga Bazaar & Shankhari Bazaar:**  Get lost in the labyrinthine alleys of these traditional markets, offering everything from spices and textiles to electronics and handicrafts. \n",
      "* **New Market & Gawsia Market:** Bargain for clothes, accessories, and everyday items at these bustling shopping hubs.\n",
      "* **Dhanmondi Lake:** Enjoy a leisurely stroll around the lake, browse through bookstores, or indulge in delicious street food and local delicacies.\n",
      "\n",
      "**Food & Drink:**\n",
      "\n",
      "* **Hakeem Biryani:** No trip to Dhaka is complete without trying their legendary biryani.\n",
      "* **Star Kabab & Restaurant:**  A local favorite for mouthwatering kebabs and traditional Bangladeshi dishes.\n",
      "* **Cafe Gloria Jean's Coffees:** Take a break from the city buzz with a cup of coffee and pastries at this popular cafe chain.\n",
      "\n",
      "**Getting Around:**\n",
      "\n",
      "* Rickshaws: The most iconic and readily available mode of transport for short distances.\n",
      "* CNG Auto-rickshaws: A convenient and affordable option for navigating the city traffic.\n",
      "* Ride-hailing services: Uber and Pathao are popular choices for comfortable and reliable rides.\n",
      "\n",
      "**Pro-Tips:**\n",
      "\n",
      "* Traffic in Dhaka can be intense, so plan your travel accordingly and be prepared for delays.\n",
      "* Learn a few basic Bengali phrases to enhance your interactions with locals.\n",
      "* Dress modestly, especially when visiting religious sites.\n",
      "\n",
      "Dhaka is a city that will ignite your senses and leave a lasting impression. Its rich history, vibrant culture, and warm hospitality make it a truly unforgettable destination. \n",
      "\n"
     ]
    }
   ],
   "source": [
    "# create a simple prompt template\n",
    "template = \"Tell me some best places about {city}\"\n",
    "prompt_template = ChatPromptTemplate.from_template(template)\n",
    "\n",
    "print(\"-----Prompt from Template-----\")\n",
    "prompt = prompt_template.invoke({\"city\": \"Dhaka\"})\n",
    "print(f\"prompt: \\n{prompt}\\n\")\n",
    "result = llm.invoke(prompt)\n",
    "print(f\"\\nResult: \\n{result.content}\")"
   ]
  },
  {
   "cell_type": "code",
   "execution_count": 4,
   "metadata": {},
   "outputs": [
    {
     "name": "stdout",
     "output_type": "stream",
     "text": [
      "\n",
      "----- Prompt with Multiple Placeholders -----\n",
      "\n",
      "messages=[HumanMessage(content='You are a helpful assistant.\\nHuman: Tell me some best places about Dhaka.\\nAssistant:', additional_kwargs={}, response_metadata={})]\n"
     ]
    }
   ],
   "source": [
    "# PART 2: Prompt with Multiple Placeholders\n",
    "template_multiple = \"\"\"You are a helpful assistant.\n",
    "Human: Tell me some best {objective} about {city}.\n",
    "Assistant:\"\"\"\n",
    "prompt_multiple = ChatPromptTemplate.from_template(template_multiple)\n",
    "prompt = prompt_multiple.invoke({\"objective\": \"places\", \"city\": \"Dhaka\"})\n",
    "print(\"\\n----- Prompt with Multiple Placeholders -----\\n\")\n",
    "print(prompt)"
   ]
  },
  {
   "cell_type": "code",
   "execution_count": 10,
   "metadata": {},
   "outputs": [
    {
     "name": "stdout",
     "output_type": "stream",
     "text": [
      "messages=[SystemMessage(content='You will tell  informations about various places.', additional_kwargs={}, response_metadata={}), HumanMessage(content='tell me best tourist places in Chittagong', additional_kwargs={}, response_metadata={})]\n"
     ]
    }
   ],
   "source": [
    "messages = [\n",
    "    (\"system\", \"You will tell  informations about various {activity}.\"),\n",
    "    (\"human\", \"tell me best {item} in {city}\")\n",
    "]\n",
    "\n",
    "prompt_template = ChatPromptTemplate.from_messages(messages)\n",
    "prompt = prompt_template.invoke({\"activity\": \"places\", \"item\": \"tourist places\",\"city\": \"Chittagong\"} )\n",
    "print(prompt)"
   ]
  },
  {
   "cell_type": "code",
   "execution_count": 15,
   "metadata": {},
   "outputs": [
    {
     "name": "stdout",
     "output_type": "stream",
     "text": [
      "Chittagong, the bustling port city of Bangladesh, offers a diverse range of attractions for tourists. Here are some of the best places to visit:\n",
      "\n",
      "**Historical and Cultural Sites:**\n",
      "\n",
      "* **Patenga Sea Beach:** The longest beach in Bangladesh, offering stunning sunsets, beach activities, and horse riding.\n",
      "* **Foy's Lake:** A picturesque artificial lake surrounded by hills, ideal for boating, picnics, and enjoying the scenic beauty.\n",
      "* **Shrine of Bayazid Bostami:** A revered Sufi shrine and mosque, attracting pilgrims and visitors with its intricate architecture and spiritual significance.\n",
      "* **Ethnological Museum:** Showcases the rich cultural heritage of Chittagong Hill Tracts, with exhibits on tribal groups, artifacts, and traditions.\n",
      "* **Court Building (Judge Court):** An architectural marvel from the British colonial era, known for its imposing structure and historical significance.\n",
      "* **Chittagong War Cemetery:** A serene resting place for Allied soldiers who died during World War II, offering a glimpse into history.\n",
      "\n",
      "**Nature and Recreation:**\n",
      "\n",
      "* **Chandranath Hills:** A popular trekking destination with panoramic views of the city, hills, and the Bay of Bengal.\n",
      "* **Boga Lake:** A pristine lake located in the Bandarban district, accessible by a scenic trek through lush forests.\n",
      "* **Guliakhali Sea Beach:** A secluded beach known for its tranquility, golden sands, and clear blue waters.\n",
      "* **Khagrachari:** A hill town in the Chittagong Hill Tracts, offering scenic beauty, waterfalls, and cultural experiences.\n",
      "* **Rangamati:** Another picturesque hill town with Kaptai Lake, tribal markets, and opportunities for boating and trekking.\n",
      "\n",
      "**Other Attractions:**\n",
      "\n",
      "* **Chittagong Zoo:** Home to a variety of animals, including Bengal tigers, lions, and elephants.\n",
      "* **Zia Memorial Museum:** Dedicated to the life and legacy of Ziaur Rahman, the founder of Bangladesh Nationalist Party.\n",
      "* **Chittagong Tea Auction Center:** Witness the bustling tea trade at this auction center, where tea from nearby estates is sold.\n",
      "* **Local Markets:** Explore the vibrant local markets, such as New Market and Chaktai Khan Market, for souvenirs, clothing, and local delicacies.\n",
      "\n",
      "**Tips:**\n",
      "\n",
      "* The best time to visit Chittagong is during the winter months (October to March) for pleasant weather.\n",
      "* Respect local customs and traditions, especially when visiting religious sites.\n",
      "* Try the local cuisine, including fresh seafood, biryani, and traditional sweets.\n",
      "* Consider hiring a local guide to enhance your experience and learn more about the region.\n",
      "\n",
      "Enjoy your trip to Chittagong!\n",
      "\n"
     ]
    }
   ],
   "source": [
    "result = llm.invoke(prompt)\n",
    "print(result.content)"
   ]
  },
  {
   "cell_type": "code",
   "execution_count": null,
   "metadata": {},
   "outputs": [],
   "source": []
  }
 ],
 "metadata": {
  "kernelspec": {
   "display_name": "env",
   "language": "python",
   "name": "python3"
  },
  "language_info": {
   "codemirror_mode": {
    "name": "ipython",
    "version": 3
   },
   "file_extension": ".py",
   "mimetype": "text/x-python",
   "name": "python",
   "nbconvert_exporter": "python",
   "pygments_lexer": "ipython3",
   "version": "3.10.3"
  }
 },
 "nbformat": 4,
 "nbformat_minor": 2
}
